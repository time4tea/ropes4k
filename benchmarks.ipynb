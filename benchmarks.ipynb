{
 "cells": [
  {
   "cell_type": "code",
   "execution_count": 29,
   "metadata": {
    "collapsed": true,
    "ExecuteTime": {
     "end_time": "2024-04-28T12:54:43.129310323Z",
     "start_time": "2024-04-28T12:54:41.672976932Z"
    }
   },
   "outputs": [],
   "source": [
    "%use kandy"
   ]
  },
  {
   "cell_type": "code",
   "outputs": [],
   "source": [
    "USE {\n",
    "    dependencies {\n",
    "        implementation(\"com.fasterxml.jackson.core:jackson-databind:2.17.0\")\n",
    "        implementation(\"com.fasterxml.jackson.module:jackson-module-kotlin:2.17.0\")\n",
    "    }\n",
    "}"
   ],
   "metadata": {
    "collapsed": false,
    "ExecuteTime": {
     "end_time": "2024-04-28T12:54:43.252581712Z",
     "start_time": "2024-04-28T12:54:43.130546410Z"
    }
   },
   "execution_count": 30
  },
  {
   "cell_type": "code",
   "outputs": [],
   "source": [
    "import com.fasterxml.jackson.core.JsonGenerator\n",
    "import com.fasterxml.jackson.databind.DeserializationFeature\n",
    "import com.fasterxml.jackson.databind.ObjectMapper\n",
    "import com.fasterxml.jackson.module.kotlin.KotlinModule\n",
    "import com.fasterxml.jackson.module.kotlin.readValue\n",
    "import java.io.File\n",
    "\n",
    "data class Metric(val score: Number, val scoreError: Number, val scoreConfidence: List<Double>, val scoreUnit: String)\n",
    "data class BenchmarkResult(val benchmark:String, val primaryMetric: Metric) {\n",
    "    fun group() = benchmark.substring(0, benchmark.lastIndexOf(\".\"))\n",
    "    fun name() = benchmark.substring(benchmark.lastIndexOf(\".\") + 1)\n",
    "}\n",
    "\n",
    "val module = KotlinModule.Builder().build()\n",
    "val mapper = ObjectMapper()\n",
    "    .registerModules(module)\n",
    "    .configure(DeserializationFeature.FAIL_ON_UNKNOWN_PROPERTIES, false)\n",
    "      \n",
    "\n",
    "val text = File(\"build/reports/benchmarks/main/2024-04-27T21.37.35.4313522/test.json\").readText()\n"
   ],
   "metadata": {
    "collapsed": false,
    "ExecuteTime": {
     "end_time": "2024-04-28T12:54:43.434759552Z",
     "start_time": "2024-04-28T12:54:43.254466749Z"
    }
   },
   "execution_count": 31
  },
  {
   "cell_type": "code",
   "outputs": [],
   "source": [
    "val t = mapper.readValue<List<BenchmarkResult>>(text)"
   ],
   "metadata": {
    "collapsed": false,
    "ExecuteTime": {
     "end_time": "2024-04-28T12:54:43.504421846Z",
     "start_time": "2024-04-28T12:54:43.436235702Z"
    }
   },
   "execution_count": 32
  },
  {
   "cell_type": "code",
   "outputs": [],
   "source": [
    "val groups = t.groupBy { it.group() }"
   ],
   "metadata": {
    "collapsed": false,
    "ExecuteTime": {
     "end_time": "2024-04-28T12:54:43.577151359Z",
     "start_time": "2024-04-28T12:54:43.506899970Z"
    }
   },
   "execution_count": 33
  },
  {
   "cell_type": "code",
   "outputs": [],
   "source": [
    "//groups.iterator().next()"
   ],
   "metadata": {
    "collapsed": false,
    "ExecuteTime": {
     "end_time": "2024-04-28T12:54:43.605172436Z",
     "start_time": "2024-04-28T12:54:43.578638479Z"
    }
   },
   "execution_count": 34
  },
  {
   "cell_type": "code",
   "outputs": [],
   "source": [
    "import org.jetbrains.kotlinx.kandy.ir.scale.PositionalTransform\n",
    "\n",
    "val plots = groups.map { result ->\n",
    "    val data = mapOf(\n",
    "        \"names\" to result.value.map { it.name() },\n",
    "        \"scores\" to result.value.map { it.primaryMetric.score },\n",
    "        \"scoremax\" to result.value.map { it.primaryMetric.scoreConfidence.max() },\n",
    "        \"scoremin\" to result.value.map { it.primaryMetric.scoreConfidence.min() }\n",
    "    )\n",
    "\n",
    "    plot(data) {\n",
    "        x(\"names\")\n",
    "        y(\"scores\") {\n",
    "        }\n",
    "\n",
    "        bars {\n",
    "            borderLine.width = 0.0\n",
    "        }\n",
    "\n",
    "        errorBars {\n",
    "            x(\"names\")\n",
    "            yMin(\"scoremin\")\n",
    "            yMax(\"scoremax\")\n",
    "        }\n",
    "\n",
    "        layout {\n",
    "            title = result.key\n",
    "            caption = \"ops/s - higher is better\"\n",
    "            size = 700 to 450\n",
    "        }\n",
    "    }\n",
    "}\n",
    "\n"
   ],
   "metadata": {
    "collapsed": false,
    "ExecuteTime": {
     "end_time": "2024-04-28T12:54:43.953996509Z",
     "start_time": "2024-04-28T12:54:43.607082068Z"
    }
   },
   "execution_count": 35
  },
  {
   "cell_type": "code",
   "outputs": [
    {
     "data": {
      "text/html": "            <iframe src='about:blank' style='border:none !important;' width='700' height='450' srcdoc=\"&lt;html lang=&quot;en&quot;>\n   &lt;head>\n       &lt;style> html, body { margin: 0; overflow: hidden; } &lt;/style>\n       &lt;script type=&quot;text/javascript&quot; data-lets-plot-script=&quot;library&quot; src=&quot;https://cdn.jsdelivr.net/gh/JetBrains/lets-plot@v4.0.1/js-package/distr/lets-plot.min.js&quot;>&lt;/script>\n   &lt;/head>\n   &lt;body>\n          &lt;div id=&quot;qyIlmw&quot;>&lt;/div>\n   &lt;script type=&quot;text/javascript&quot; data-lets-plot-script=&quot;plot&quot;>\n       var plotSpec={\n&quot;ggtitle&quot;:{\n&quot;text&quot;:&quot;net.ropes4k.test.bench.AppendBenchmark&quot;\n},\n&quot;mapping&quot;:{\n},\n&quot;data&quot;:{\n&quot;scoremin&quot;:[572.5195549804043,0.8914567894141463,96.35046215987059],\n&quot;scoremax&quot;:[598.2996943796552,2.4549000159604595,103.73971835768778],\n&quot;names&quot;:[&quot;rope&quot;,&quot;string&quot;,&quot;stringbuffer&quot;],\n&quot;scores&quot;:[585.4096246800298,1.673178402687303,100.04509025877918]\n},\n&quot;ggsize&quot;:{\n&quot;width&quot;:700.0,\n&quot;height&quot;:450.0\n},\n&quot;kind&quot;:&quot;plot&quot;,\n&quot;scales&quot;:[{\n&quot;aesthetic&quot;:&quot;x&quot;,\n&quot;discrete&quot;:true\n},{\n&quot;aesthetic&quot;:&quot;y&quot;,\n&quot;limits&quot;:[null,null]\n},{\n&quot;aesthetic&quot;:&quot;x&quot;,\n&quot;discrete&quot;:true\n},{\n&quot;aesthetic&quot;:&quot;y&quot;,\n&quot;limits&quot;:[null,null]\n}],\n&quot;layers&quot;:[{\n&quot;mapping&quot;:{\n&quot;x&quot;:&quot;names&quot;,\n&quot;y&quot;:&quot;scores&quot;\n},\n&quot;stat&quot;:&quot;identity&quot;,\n&quot;size&quot;:0.0,\n&quot;sampling&quot;:&quot;none&quot;,\n&quot;position&quot;:&quot;dodge&quot;,\n&quot;geom&quot;:&quot;bar&quot;,\n&quot;data&quot;:{\n}\n},{\n&quot;mapping&quot;:{\n&quot;x&quot;:&quot;names&quot;,\n&quot;y&quot;:&quot;scores&quot;,\n&quot;ymin&quot;:&quot;scoremin&quot;,\n&quot;ymax&quot;:&quot;scoremax&quot;\n},\n&quot;stat&quot;:&quot;identity&quot;,\n&quot;sampling&quot;:&quot;none&quot;,\n&quot;position&quot;:&quot;dodge&quot;,\n&quot;geom&quot;:&quot;errorbar&quot;,\n&quot;data&quot;:{\n}\n}],\n&quot;caption&quot;:{\n&quot;text&quot;:&quot;ops/s - higher is better&quot;\n}\n};\n       var plotContainer = document.getElementById(&quot;qyIlmw&quot;);\n       LetsPlot.buildPlotFromProcessedSpecs(plotSpec, -1, -1, plotContainer);\n   &lt;/script>\n   &lt;/body>\n&lt;/html>\"></iframe>            <svg xmlns=\"http://www.w3.org/2000/svg\" xmlns:xlink=\"http://www.w3.org/1999/xlink\" class=\"plt-container\" id=b2c15ba2-a405-41a9-ba27-fe080b667028 width=\"100%\" height=\"100%\" style=\"max-width: 700.0px; max-height: 450.0px;\" viewBox=\"0 0 700.0 450.0\" preserveAspectRatio=\"xMinYMin meet\">\n  <style type=\"text/css\">\n  .plt-container {\n   font-family: Lucida Grande, sans-serif;\n   user-select: none;\n   -webkit-user-select: none;\n   -moz-user-select: none;\n   -ms-user-select: none;\n}\ntext {\n   text-rendering: optimizeLegibility;\n}\n#pm1fnqL .plot-title {\n   fill: #474747;\n   font-family: Lucida Grande, sans-serif;\n   font-size: 16.0px;\n   font-weight: normal;\n   font-style: normal;   \n}\n#pm1fnqL .plot-subtitle {\n   fill: #474747;\n   font-family: Lucida Grande, sans-serif;\n   font-size: 15.0px;\n   font-weight: normal;\n   font-style: normal;   \n}\n#pm1fnqL .plot-caption {\n   fill: #474747;\n   font-family: Lucida Grande, sans-serif;\n   font-size: 13.0px;\n   font-weight: normal;\n   font-style: normal;   \n}\n#pm1fnqL .legend-title {\n   fill: #474747;\n   font-family: Lucida Grande, sans-serif;\n   font-size: 15.0px;\n   font-weight: normal;\n   font-style: normal;   \n}\n#pm1fnqL .legend-item {\n   fill: #474747;\n   font-family: Lucida Grande, sans-serif;\n   font-size: 13.0px;\n   font-weight: normal;\n   font-style: normal;   \n}\n#pm1fnqL .axis-title-x {\n   fill: #474747;\n   font-family: Lucida Grande, sans-serif;\n   font-size: 15.0px;\n   font-weight: normal;\n   font-style: normal;   \n}\n#pm1fnqL .axis-text-x {\n   fill: #474747;\n   font-family: Lucida Grande, sans-serif;\n   font-size: 13.0px;\n   font-weight: normal;\n   font-style: normal;   \n}\n#dNULLMU .axis-tooltip-text-x {\n   fill: #ffffff;\n   font-family: Lucida Grande, sans-serif;\n   font-size: 13.0px;\n   font-weight: normal;\n   font-style: normal;   \n}\n#pm1fnqL .axis-title-y {\n   fill: #474747;\n   font-family: Lucida Grande, sans-serif;\n   font-size: 15.0px;\n   font-weight: normal;\n   font-style: normal;   \n}\n#pm1fnqL .axis-text-y {\n   fill: #474747;\n   font-family: Lucida Grande, sans-serif;\n   font-size: 13.0px;\n   font-weight: normal;\n   font-style: normal;   \n}\n#dNULLMU .axis-tooltip-text-y {\n   fill: #ffffff;\n   font-family: Lucida Grande, sans-serif;\n   font-size: 13.0px;\n   font-weight: normal;\n   font-style: normal;   \n}\n#pm1fnqL .facet-strip-text-x {\n   fill: #474747;\n   font-family: Lucida Grande, sans-serif;\n   font-size: 13.0px;\n   font-weight: normal;\n   font-style: normal;   \n}\n#pm1fnqL .facet-strip-text-y {\n   fill: #474747;\n   font-family: Lucida Grande, sans-serif;\n   font-size: 13.0px;\n   font-weight: normal;\n   font-style: normal;   \n}\n#dNULLMU .tooltip-text {\n   fill: #474747;\n   font-family: Lucida Grande, sans-serif;\n   font-size: 13.0px;\n   font-weight: normal;\n   font-style: normal;   \n}\n#dNULLMU .tooltip-title {\n   fill: #474747;\n   font-family: Lucida Grande, sans-serif;\n   font-size: 13.0px;\n   font-weight: bold;\n   font-style: normal;   \n}\n#dNULLMU .tooltip-label {\n   fill: #474747;\n   font-family: Lucida Grande, sans-serif;\n   font-size: 13.0px;\n   font-weight: bold;\n   font-style: normal;   \n}\n\n  </style>\n  <g id=\"pm1fnqL\">\n    <path fill-rule=\"evenodd\" fill=\"rgb(255,255,255)\" fill-opacity=\"1.0\" d=\"M0.0 0.0 L0.0 450.0 L700.0 450.0 L700.0 0.0 Z\">\n    </path>\n    <g transform=\"translate(23.0 34.0 ) \">\n      <g transform=\"translate(29.941816366404606 349.0 ) \">\n        <line x1=\"125.48115738237483\" y1=\"-0.0\" x2=\"125.48115738237483\" y2=\"-349.0\" stroke=\"rgb(233,233,233)\" stroke-opacity=\"1.0\" stroke-width=\"1.0\">\n        </line>\n        <line x1=\"318.52909181679763\" y1=\"-0.0\" x2=\"318.52909181679763\" y2=\"-349.0\" stroke=\"rgb(233,233,233)\" stroke-opacity=\"1.0\" stroke-width=\"1.0\">\n        </line>\n        <line x1=\"511.57702625122045\" y1=\"-0.0\" x2=\"511.57702625122045\" y2=\"-349.0\" stroke=\"rgb(233,233,233)\" stroke-opacity=\"1.0\" stroke-width=\"1.0\">\n        </line>\n        <g transform=\"translate(125.48115738237483 0.0 ) \">\n          <line stroke-width=\"1.0\" stroke=\"rgb(71,71,71)\" stroke-opacity=\"1.0\" x2=\"0.0\" y2=\"4.0\">\n          </line>\n          <g transform=\"translate(0.0 7.0 ) \">\n            <text class=\"axis-text-x\" text-anchor=\"middle\" dy=\"0.7em\">\n            rope\n            </text>\n          </g>\n        </g>\n        <g transform=\"translate(318.52909181679763 0.0 ) \">\n          <line stroke-width=\"1.0\" stroke=\"rgb(71,71,71)\" stroke-opacity=\"1.0\" x2=\"0.0\" y2=\"4.0\">\n          </line>\n          <g transform=\"translate(0.0 7.0 ) \">\n            <text class=\"axis-text-x\" text-anchor=\"middle\" dy=\"0.7em\">\n            string\n            </text>\n          </g>\n        </g>\n        <g transform=\"translate(511.57702625122045 0.0 ) \">\n          <line stroke-width=\"1.0\" stroke=\"rgb(71,71,71)\" stroke-opacity=\"1.0\" x2=\"0.0\" y2=\"4.0\">\n          </line>\n          <g transform=\"translate(0.0 7.0 ) \">\n            <text class=\"axis-text-x\" text-anchor=\"middle\" dy=\"0.7em\">\n            stringbuffer\n            </text>\n          </g>\n        </g>\n        <line x1=\"0.0\" y1=\"0.0\" x2=\"637.0581836335954\" y2=\"0.0\" stroke-width=\"1.0\" stroke=\"rgb(71,71,71)\" stroke-opacity=\"1.0\">\n        </line>\n      </g>\n      <g transform=\"translate(29.941816366404606 0.0 ) \">\n        <line x1=\"0.0\" y1=\"293.4457425762886\" x2=\"637.0581836335954\" y2=\"293.4457425762886\" stroke=\"rgb(233,233,233)\" stroke-opacity=\"1.0\" stroke-width=\"1.0\">\n        </line>\n        <line x1=\"0.0\" y1=\"237.89148515257716\" x2=\"637.0581836335954\" y2=\"237.89148515257716\" stroke=\"rgb(233,233,233)\" stroke-opacity=\"1.0\" stroke-width=\"1.0\">\n        </line>\n        <line x1=\"0.0\" y1=\"182.3372277288657\" x2=\"637.0581836335954\" y2=\"182.3372277288657\" stroke=\"rgb(233,233,233)\" stroke-opacity=\"1.0\" stroke-width=\"1.0\">\n        </line>\n        <line x1=\"0.0\" y1=\"126.7829703051543\" x2=\"637.0581836335954\" y2=\"126.7829703051543\" stroke=\"rgb(233,233,233)\" stroke-opacity=\"1.0\" stroke-width=\"1.0\">\n        </line>\n        <line x1=\"0.0\" y1=\"71.22871288144285\" x2=\"637.0581836335954\" y2=\"71.22871288144285\" stroke=\"rgb(233,233,233)\" stroke-opacity=\"1.0\" stroke-width=\"1.0\">\n        </line>\n        <line x1=\"0.0\" y1=\"15.674455457731426\" x2=\"637.0581836335954\" y2=\"15.674455457731426\" stroke=\"rgb(233,233,233)\" stroke-opacity=\"1.0\" stroke-width=\"1.0\">\n        </line>\n        <g transform=\"translate(0.0 349.0 ) \">\n          <g transform=\"translate(-3.0 0.0 ) \">\n            <text class=\"axis-text-y\" text-anchor=\"end\" dy=\"0.35em\">\n            0\n            </text>\n          </g>\n        </g>\n        <g transform=\"translate(0.0 293.4457425762886 ) \">\n          <g transform=\"translate(-3.0 0.0 ) \">\n            <text class=\"axis-text-y\" text-anchor=\"end\" dy=\"0.35em\">\n            100\n            </text>\n          </g>\n        </g>\n        <g transform=\"translate(0.0 237.89148515257716 ) \">\n          <g transform=\"translate(-3.0 0.0 ) \">\n            <text class=\"axis-text-y\" text-anchor=\"end\" dy=\"0.35em\">\n            200\n            </text>\n          </g>\n        </g>\n        <g transform=\"translate(0.0 182.3372277288657 ) \">\n          <g transform=\"translate(-3.0 0.0 ) \">\n            <text class=\"axis-text-y\" text-anchor=\"end\" dy=\"0.35em\">\n            300\n            </text>\n          </g>\n        </g>\n        <g transform=\"translate(0.0 126.7829703051543 ) \">\n          <g transform=\"translate(-3.0 0.0 ) \">\n            <text class=\"axis-text-y\" text-anchor=\"end\" dy=\"0.35em\">\n            400\n            </text>\n          </g>\n        </g>\n        <g transform=\"translate(0.0 71.22871288144285 ) \">\n          <g transform=\"translate(-3.0 0.0 ) \">\n            <text class=\"axis-text-y\" text-anchor=\"end\" dy=\"0.35em\">\n            500\n            </text>\n          </g>\n        </g>\n        <g transform=\"translate(0.0 15.674455457731426 ) \">\n          <g transform=\"translate(-3.0 0.0 ) \">\n            <text class=\"axis-text-y\" text-anchor=\"end\" dy=\"0.35em\">\n            600\n            </text>\n          </g>\n        </g>\n      </g>\n      <g transform=\"translate(29.941816366404606 0.0 ) \" clip-path=\"url(#cVIpqSW)\" clip-bounds-jfx=\"[rect (0.0, 0.0), (637.0581836335954, 349.0)]\">\n        <defs>\n          <clipPath id=\"cVIpqSW\">\n            <rect x=\"0.0\" y=\"0.0\" width=\"637.0581836335954\" height=\"349.0\">\n            </rect>\n          </clipPath>\n        </defs>\n        <rect x=\"424.7054557557302\" y=\"293.42069301785335\" height=\"55.57930698214665\" width=\"173.74314099098058\" stroke=\"rgb(255,255,255)\" stroke-opacity=\"1.0\" fill=\"rgb(17,142,216)\" fill-opacity=\"1.0\" stroke-width=\"0.0\">\n        </rect>\n        <rect x=\"231.6575213213074\" y=\"348.07047816301315\" height=\"0.9295218369868508\" width=\"173.74314099098052\" stroke=\"rgb(255,255,255)\" stroke-opacity=\"1.0\" fill=\"rgb(17,142,216)\" fill-opacity=\"1.0\" stroke-width=\"0.0\">\n        </rect>\n        <rect x=\"38.60958688688456\" y=\"23.780030122073356\" height=\"325.21996987792664\" width=\"173.74314099098055\" stroke=\"rgb(255,255,255)\" stroke-opacity=\"1.0\" fill=\"rgb(17,142,216)\" fill-opacity=\"1.0\" stroke-width=\"0.0\">\n        </rect>\n      </g>\n      <g transform=\"translate(29.941816366404606 0.0 ) \" clip-path=\"url(#cQK1QR1)\" clip-bounds-jfx=\"[rect (0.0, 0.0), (637.0581836335954, 349.0)]\">\n        <defs>\n          <clipPath id=\"cQK1QR1\">\n            <rect x=\"0.0\" y=\"0.0\" width=\"637.0581836335954\" height=\"349.0\">\n            </rect>\n          </clipPath>\n        </defs>\n        <g>\n          <line x1=\"82.0453721346297\" y1=\"30.941012625099063\" x2=\"168.91694263011996\" y2=\"30.941012625099063\" stroke=\"rgb(71,71,71)\" stroke-opacity=\"1.0\" fill=\"rgb(17,142,216)\" fill-opacity=\"1.0\" stroke-width=\"1.6500000000000001\">\n          </line>\n          <line x1=\"82.0453721346297\" y1=\"16.619047619047592\" x2=\"168.91694263011996\" y2=\"16.619047619047592\" stroke=\"rgb(71,71,71)\" stroke-opacity=\"1.0\" fill=\"rgb(17,142,216)\" fill-opacity=\"1.0\" stroke-width=\"1.6500000000000001\">\n          </line>\n          <line x1=\"125.48115738237483\" y1=\"30.941012625099063\" x2=\"125.48115738237483\" y2=\"16.619047619047592\" stroke=\"rgb(71,71,71)\" stroke-opacity=\"1.0\" fill=\"rgb(17,142,216)\" fill-opacity=\"1.0\" stroke-width=\"1.6500000000000001\">\n          </line>\n        </g>\n        <g>\n          <line x1=\"275.0933065690525\" y1=\"348.5047578003877\" x2=\"361.9648770645428\" y2=\"348.5047578003877\" stroke=\"rgb(71,71,71)\" stroke-opacity=\"1.0\" fill=\"rgb(17,142,216)\" fill-opacity=\"1.0\" stroke-width=\"1.6500000000000001\">\n          </line>\n          <line x1=\"275.0933065690525\" y1=\"347.6361985256386\" x2=\"361.9648770645428\" y2=\"347.6361985256386\" stroke=\"rgb(71,71,71)\" stroke-opacity=\"1.0\" fill=\"rgb(17,142,216)\" fill-opacity=\"1.0\" stroke-width=\"1.6500000000000001\">\n          </line>\n          <line x1=\"318.52909181679763\" y1=\"348.5047578003877\" x2=\"318.52909181679763\" y2=\"347.6361985256386\" stroke=\"rgb(71,71,71)\" stroke-opacity=\"1.0\" fill=\"rgb(17,142,216)\" fill-opacity=\"1.0\" stroke-width=\"1.6500000000000001\">\n          </line>\n        </g>\n        <g>\n          <line x1=\"468.1412410034753\" y1=\"295.4732162227698\" x2=\"555.0128114989657\" y2=\"295.4732162227698\" stroke=\"rgb(71,71,71)\" stroke-opacity=\"1.0\" fill=\"rgb(17,142,216)\" fill-opacity=\"1.0\" stroke-width=\"1.6500000000000001\">\n          </line>\n          <line x1=\"468.1412410034753\" y1=\"291.3681698129369\" x2=\"555.0128114989657\" y2=\"291.3681698129369\" stroke=\"rgb(71,71,71)\" stroke-opacity=\"1.0\" fill=\"rgb(17,142,216)\" fill-opacity=\"1.0\" stroke-width=\"1.6500000000000001\">\n          </line>\n          <line x1=\"511.57702625122045\" y1=\"295.4732162227698\" x2=\"511.57702625122045\" y2=\"291.3681698129369\" stroke=\"rgb(71,71,71)\" stroke-opacity=\"1.0\" fill=\"rgb(17,142,216)\" fill-opacity=\"1.0\" stroke-width=\"1.6500000000000001\">\n          </line>\n        </g>\n      </g>\n    </g>\n    <g transform=\"translate(52.94181636640461 15.2 ) \">\n      <text class=\"plot-title\" y=\"0.0\">\n      net.ropes4k.test.bench.AppendBenchmark\n      </text>\n    </g>\n    <g transform=\"translate(14.5 208.5 ) rotate(-90.0 ) \">\n      <text class=\"axis-title-y\" y=\"0.0\" text-anchor=\"middle\">\n      scores\n      </text>\n    </g>\n    <g transform=\"translate(371.4709081832023 420.5 ) \">\n      <text class=\"axis-title-x\" y=\"0.0\" text-anchor=\"middle\">\n      names\n      </text>\n    </g>\n    <g transform=\"translate(690.0 442.1 ) \">\n      <text class=\"plot-caption\" y=\"0.0\" text-anchor=\"end\">\n      ops/s - higher is better\n      </text>\n    </g>\n    <path fill=\"rgb(0,0,0)\" fill-opacity=\"0.0\" stroke=\"rgb(71,71,71)\" stroke-opacity=\"1.0\" stroke-width=\"0.0\" d=\"M0.0 0.0 L0.0 450.0 L700.0 450.0 L700.0 0.0 Z\">\n    </path>\n  </g>\n  <g id=\"dNULLMU\">\n  </g>\n</svg>\n        <script>document.getElementById(\"b2c15ba2-a405-41a9-ba27-fe080b667028\").style.display = \"none\";</script>",
      "application/plot+json": {
       "output_type": "lets_plot_spec",
       "output": {
        "ggtitle": {
         "text": "net.ropes4k.test.bench.AppendBenchmark"
        },
        "mapping": {},
        "data": {
         "scoremin": [
          572.51953,
          0.8914568,
          96.350464
         ],
         "scoremax": [
          598.2997,
          2.4549,
          103.739716
         ],
         "names": [
          "rope",
          "string",
          "stringbuffer"
         ],
         "scores": [
          585.4096,
          1.6731784,
          100.04509
         ]
        },
        "ggsize": {
         "width": 700.0,
         "height": 450.0
        },
        "kind": "plot",
        "scales": [
         {
          "aesthetic": "x",
          "discrete": true
         },
         {
          "aesthetic": "y",
          "limits": [
           null,
           null
          ]
         },
         {
          "aesthetic": "x",
          "discrete": true
         },
         {
          "aesthetic": "y",
          "limits": [
           null,
           null
          ]
         }
        ],
        "layers": [
         {
          "mapping": {
           "x": "names",
           "y": "scores"
          },
          "stat": "identity",
          "size": 0.0,
          "sampling": "none",
          "position": "dodge",
          "geom": "bar"
         },
         {
          "mapping": {
           "x": "names",
           "y": "scores",
           "ymin": "scoremin",
           "ymax": "scoremax"
          },
          "stat": "identity",
          "sampling": "none",
          "position": "dodge",
          "geom": "errorbar"
         }
        ],
        "caption": {
         "text": "ops/s - higher is better"
        }
       },
       "apply_color_scheme": true,
       "swing_enabled": true
      }
     },
     "metadata": {},
     "output_type": "display_data"
    },
    {
     "data": {
      "text/html": "            <iframe src='about:blank' style='border:none !important;' width='700' height='450' srcdoc=\"&lt;html lang=&quot;en&quot;>\n   &lt;head>\n       &lt;style> html, body { margin: 0; overflow: hidden; } &lt;/style>\n       &lt;script type=&quot;text/javascript&quot; data-lets-plot-script=&quot;library&quot; src=&quot;https://cdn.jsdelivr.net/gh/JetBrains/lets-plot@v4.0.1/js-package/distr/lets-plot.min.js&quot;>&lt;/script>\n   &lt;/head>\n   &lt;body>\n          &lt;div id=&quot;lXL2JU&quot;>&lt;/div>\n   &lt;script type=&quot;text/javascript&quot; data-lets-plot-script=&quot;plot&quot;>\n       var plotSpec={\n&quot;ggtitle&quot;:{\n&quot;text&quot;:&quot;net.ropes4k.test.bench.CreationBenchmark&quot;\n},\n&quot;mapping&quot;:{\n},\n&quot;data&quot;:{\n&quot;scoremin&quot;:[45836.23396532707,2.542949585578884E8,72115.96080666695,90520.59055683404],\n&quot;scoremax&quot;:[48523.79594813755,3.0753728129492867E8,76240.05709862323,96809.51748146504],\n&quot;names&quot;:[&quot;rope_chararray&quot;,&quot;rope_charsequence&quot;,&quot;string&quot;,&quot;stringbuilder&quot;],\n&quot;scores&quot;:[47180.01495673231,2.809161199264085E8,74178.00895264509,93665.05401914954]\n},\n&quot;ggsize&quot;:{\n&quot;width&quot;:700.0,\n&quot;height&quot;:450.0\n},\n&quot;kind&quot;:&quot;plot&quot;,\n&quot;scales&quot;:[{\n&quot;aesthetic&quot;:&quot;x&quot;,\n&quot;discrete&quot;:true\n},{\n&quot;aesthetic&quot;:&quot;y&quot;,\n&quot;limits&quot;:[null,null]\n},{\n&quot;aesthetic&quot;:&quot;x&quot;,\n&quot;discrete&quot;:true\n},{\n&quot;aesthetic&quot;:&quot;y&quot;,\n&quot;limits&quot;:[null,null]\n}],\n&quot;layers&quot;:[{\n&quot;mapping&quot;:{\n&quot;x&quot;:&quot;names&quot;,\n&quot;y&quot;:&quot;scores&quot;\n},\n&quot;stat&quot;:&quot;identity&quot;,\n&quot;size&quot;:0.0,\n&quot;sampling&quot;:&quot;none&quot;,\n&quot;position&quot;:&quot;dodge&quot;,\n&quot;geom&quot;:&quot;bar&quot;,\n&quot;data&quot;:{\n}\n},{\n&quot;mapping&quot;:{\n&quot;x&quot;:&quot;names&quot;,\n&quot;y&quot;:&quot;scores&quot;,\n&quot;ymin&quot;:&quot;scoremin&quot;,\n&quot;ymax&quot;:&quot;scoremax&quot;\n},\n&quot;stat&quot;:&quot;identity&quot;,\n&quot;sampling&quot;:&quot;none&quot;,\n&quot;position&quot;:&quot;dodge&quot;,\n&quot;geom&quot;:&quot;errorbar&quot;,\n&quot;data&quot;:{\n}\n}],\n&quot;caption&quot;:{\n&quot;text&quot;:&quot;ops/s - higher is better&quot;\n}\n};\n       var plotContainer = document.getElementById(&quot;lXL2JU&quot;);\n       LetsPlot.buildPlotFromProcessedSpecs(plotSpec, -1, -1, plotContainer);\n   &lt;/script>\n   &lt;/body>\n&lt;/html>\"></iframe>            <svg xmlns=\"http://www.w3.org/2000/svg\" xmlns:xlink=\"http://www.w3.org/1999/xlink\" class=\"plt-container\" id=fed1d775-d52b-4cbc-8b50-01130b0aa3bd width=\"100%\" height=\"100%\" style=\"max-width: 700.0px; max-height: 450.0px;\" viewBox=\"0 0 700.0 450.0\" preserveAspectRatio=\"xMinYMin meet\">\n  <style type=\"text/css\">\n  .plt-container {\n   font-family: Lucida Grande, sans-serif;\n   user-select: none;\n   -webkit-user-select: none;\n   -moz-user-select: none;\n   -ms-user-select: none;\n}\ntext {\n   text-rendering: optimizeLegibility;\n}\n#pSJpcK5 .plot-title {\n   fill: #474747;\n   font-family: Lucida Grande, sans-serif;\n   font-size: 16.0px;\n   font-weight: normal;\n   font-style: normal;   \n}\n#pSJpcK5 .plot-subtitle {\n   fill: #474747;\n   font-family: Lucida Grande, sans-serif;\n   font-size: 15.0px;\n   font-weight: normal;\n   font-style: normal;   \n}\n#pSJpcK5 .plot-caption {\n   fill: #474747;\n   font-family: Lucida Grande, sans-serif;\n   font-size: 13.0px;\n   font-weight: normal;\n   font-style: normal;   \n}\n#pSJpcK5 .legend-title {\n   fill: #474747;\n   font-family: Lucida Grande, sans-serif;\n   font-size: 15.0px;\n   font-weight: normal;\n   font-style: normal;   \n}\n#pSJpcK5 .legend-item {\n   fill: #474747;\n   font-family: Lucida Grande, sans-serif;\n   font-size: 13.0px;\n   font-weight: normal;\n   font-style: normal;   \n}\n#pSJpcK5 .axis-title-x {\n   fill: #474747;\n   font-family: Lucida Grande, sans-serif;\n   font-size: 15.0px;\n   font-weight: normal;\n   font-style: normal;   \n}\n#pSJpcK5 .axis-text-x {\n   fill: #474747;\n   font-family: Lucida Grande, sans-serif;\n   font-size: 13.0px;\n   font-weight: normal;\n   font-style: normal;   \n}\n#d9JZooj .axis-tooltip-text-x {\n   fill: #ffffff;\n   font-family: Lucida Grande, sans-serif;\n   font-size: 13.0px;\n   font-weight: normal;\n   font-style: normal;   \n}\n#pSJpcK5 .axis-title-y {\n   fill: #474747;\n   font-family: Lucida Grande, sans-serif;\n   font-size: 15.0px;\n   font-weight: normal;\n   font-style: normal;   \n}\n#pSJpcK5 .axis-text-y {\n   fill: #474747;\n   font-family: Lucida Grande, sans-serif;\n   font-size: 13.0px;\n   font-weight: normal;\n   font-style: normal;   \n}\n#d9JZooj .axis-tooltip-text-y {\n   fill: #ffffff;\n   font-family: Lucida Grande, sans-serif;\n   font-size: 13.0px;\n   font-weight: normal;\n   font-style: normal;   \n}\n#pSJpcK5 .facet-strip-text-x {\n   fill: #474747;\n   font-family: Lucida Grande, sans-serif;\n   font-size: 13.0px;\n   font-weight: normal;\n   font-style: normal;   \n}\n#pSJpcK5 .facet-strip-text-y {\n   fill: #474747;\n   font-family: Lucida Grande, sans-serif;\n   font-size: 13.0px;\n   font-weight: normal;\n   font-style: normal;   \n}\n#d9JZooj .tooltip-text {\n   fill: #474747;\n   font-family: Lucida Grande, sans-serif;\n   font-size: 13.0px;\n   font-weight: normal;\n   font-style: normal;   \n}\n#d9JZooj .tooltip-title {\n   fill: #474747;\n   font-family: Lucida Grande, sans-serif;\n   font-size: 13.0px;\n   font-weight: bold;\n   font-style: normal;   \n}\n#d9JZooj .tooltip-label {\n   fill: #474747;\n   font-family: Lucida Grande, sans-serif;\n   font-size: 13.0px;\n   font-weight: bold;\n   font-style: normal;   \n}\n\n  </style>\n  <g id=\"pSJpcK5\">\n    <path fill-rule=\"evenodd\" fill=\"rgb(255,255,255)\" fill-opacity=\"1.0\" d=\"M0.0 0.0 L0.0 450.0 L700.0 450.0 L700.0 0.0 Z\">\n    </path>\n    <g transform=\"translate(23.0 34.0 ) \">\n      <g transform=\"translate(41.307295843643615 349.0 ) \">\n        <line x1=\"94.5814552794492\" y1=\"-0.0\" x2=\"94.5814552794492\" y2=\"-349.0\" stroke=\"rgb(233,233,233)\" stroke-opacity=\"1.0\" stroke-width=\"1.0\">\n        </line>\n        <line x1=\"240.0913864786018\" y1=\"-0.0\" x2=\"240.0913864786018\" y2=\"-349.0\" stroke=\"rgb(233,233,233)\" stroke-opacity=\"1.0\" stroke-width=\"1.0\">\n        </line>\n        <line x1=\"385.6013176777544\" y1=\"-0.0\" x2=\"385.6013176777544\" y2=\"-349.0\" stroke=\"rgb(233,233,233)\" stroke-opacity=\"1.0\" stroke-width=\"1.0\">\n        </line>\n        <line x1=\"531.1112488769071\" y1=\"-0.0\" x2=\"531.1112488769071\" y2=\"-349.0\" stroke=\"rgb(233,233,233)\" stroke-opacity=\"1.0\" stroke-width=\"1.0\">\n        </line>\n        <g transform=\"translate(94.5814552794492 0.0 ) \">\n          <line stroke-width=\"1.0\" stroke=\"rgb(71,71,71)\" stroke-opacity=\"1.0\" x2=\"0.0\" y2=\"4.0\">\n          </line>\n          <g transform=\"translate(0.0 7.0 ) \">\n            <text class=\"axis-text-x\" text-anchor=\"middle\" dy=\"0.7em\">\n            rope_chararray\n            </text>\n          </g>\n        </g>\n        <g transform=\"translate(240.0913864786018 0.0 ) \">\n          <line stroke-width=\"1.0\" stroke=\"rgb(71,71,71)\" stroke-opacity=\"1.0\" x2=\"0.0\" y2=\"4.0\">\n          </line>\n          <g transform=\"translate(0.0 7.0 ) \">\n            <text class=\"axis-text-x\" text-anchor=\"middle\" dy=\"0.7em\">\n            rope_charsequence\n            </text>\n          </g>\n        </g>\n        <g transform=\"translate(385.6013176777544 0.0 ) \">\n          <line stroke-width=\"1.0\" stroke=\"rgb(71,71,71)\" stroke-opacity=\"1.0\" x2=\"0.0\" y2=\"4.0\">\n          </line>\n          <g transform=\"translate(0.0 7.0 ) \">\n            <text class=\"axis-text-x\" text-anchor=\"middle\" dy=\"0.7em\">\n            string\n            </text>\n          </g>\n        </g>\n        <g transform=\"translate(531.1112488769071 0.0 ) \">\n          <line stroke-width=\"1.0\" stroke=\"rgb(71,71,71)\" stroke-opacity=\"1.0\" x2=\"0.0\" y2=\"4.0\">\n          </line>\n          <g transform=\"translate(0.0 7.0 ) \">\n            <text class=\"axis-text-x\" text-anchor=\"middle\" dy=\"0.7em\">\n            stringbuilder\n            </text>\n          </g>\n        </g>\n        <line x1=\"0.0\" y1=\"0.0\" x2=\"625.6927041563564\" y2=\"0.0\" stroke-width=\"1.0\" stroke=\"rgb(71,71,71)\" stroke-opacity=\"1.0\">\n        </line>\n      </g>\n      <g transform=\"translate(41.307295843643615 0.0 ) \">\n        <line x1=\"0.0\" y1=\"294.9608683894492\" x2=\"625.6927041563564\" y2=\"294.9608683894492\" stroke=\"rgb(233,233,233)\" stroke-opacity=\"1.0\" stroke-width=\"1.0\">\n        </line>\n        <line x1=\"0.0\" y1=\"240.9217367788985\" x2=\"625.6927041563564\" y2=\"240.9217367788985\" stroke=\"rgb(233,233,233)\" stroke-opacity=\"1.0\" stroke-width=\"1.0\">\n        </line>\n        <line x1=\"0.0\" y1=\"186.88260516834774\" x2=\"625.6927041563564\" y2=\"186.88260516834774\" stroke=\"rgb(233,233,233)\" stroke-opacity=\"1.0\" stroke-width=\"1.0\">\n        </line>\n        <line x1=\"0.0\" y1=\"132.84347355779695\" x2=\"625.6927041563564\" y2=\"132.84347355779695\" stroke=\"rgb(233,233,233)\" stroke-opacity=\"1.0\" stroke-width=\"1.0\">\n        </line>\n        <line x1=\"0.0\" y1=\"78.8043419472462\" x2=\"625.6927041563564\" y2=\"78.8043419472462\" stroke=\"rgb(233,233,233)\" stroke-opacity=\"1.0\" stroke-width=\"1.0\">\n        </line>\n        <line x1=\"0.0\" y1=\"24.765210336695475\" x2=\"625.6927041563564\" y2=\"24.765210336695475\" stroke=\"rgb(233,233,233)\" stroke-opacity=\"1.0\" stroke-width=\"1.0\">\n        </line>\n        <g transform=\"translate(0.0 349.0 ) \">\n          <g transform=\"translate(-3.0 0.0 ) \">\n            <text class=\"axis-text-y\" text-anchor=\"end\" dy=\"0.35em\">\n            0\n            </text>\n          </g>\n        </g>\n        <g transform=\"translate(0.0 294.9608683894492 ) \">\n          <g transform=\"translate(-3.0 0.0 ) \">\n            <text class=\"axis-text-y\" text-anchor=\"end\" dy=\"0.35em\">\n            50M\n            </text>\n          </g>\n        </g>\n        <g transform=\"translate(0.0 240.9217367788985 ) \">\n          <g transform=\"translate(-3.0 0.0 ) \">\n            <text class=\"axis-text-y\" text-anchor=\"end\" dy=\"0.35em\">\n            100M\n            </text>\n          </g>\n        </g>\n        <g transform=\"translate(0.0 186.88260516834774 ) \">\n          <g transform=\"translate(-3.0 0.0 ) \">\n            <text class=\"axis-text-y\" text-anchor=\"end\" dy=\"0.35em\">\n            150M\n            </text>\n          </g>\n        </g>\n        <g transform=\"translate(0.0 132.84347355779695 ) \">\n          <g transform=\"translate(-3.0 0.0 ) \">\n            <text class=\"axis-text-y\" text-anchor=\"end\" dy=\"0.35em\">\n            200M\n            </text>\n          </g>\n        </g>\n        <g transform=\"translate(0.0 78.8043419472462 ) \">\n          <g transform=\"translate(-3.0 0.0 ) \">\n            <text class=\"axis-text-y\" text-anchor=\"end\" dy=\"0.35em\">\n            250M\n            </text>\n          </g>\n        </g>\n        <g transform=\"translate(0.0 24.765210336695475 ) \">\n          <g transform=\"translate(-3.0 0.0 ) \">\n            <text class=\"axis-text-y\" text-anchor=\"end\" dy=\"0.35em\">\n            300M\n            </text>\n          </g>\n        </g>\n      </g>\n      <g transform=\"translate(41.307295843643615 0.0 ) \" clip-path=\"url(#coCEaeI)\" clip-bounds-jfx=\"[rect (0.0, 0.0), (625.6927041563564, 349.0)]\">\n        <defs>\n          <clipPath id=\"coCEaeI\">\n            <rect x=\"0.0\" y=\"0.0\" width=\"625.6927041563564\" height=\"349.0\">\n            </rect>\n          </clipPath>\n        </defs>\n        <rect x=\"465.6317798372883\" y=\"348.898768436371\" height=\"0.10123156362902819\" width=\"130.95893807923738\" stroke=\"rgb(255,255,255)\" stroke-opacity=\"1.0\" fill=\"rgb(17,142,216)\" fill-opacity=\"1.0\" stroke-width=\"0.0\">\n        </rect>\n        <rect x=\"320.12184863813576\" y=\"348.919829696232\" height=\"0.08017030376799994\" width=\"130.95893807923738\" stroke=\"rgb(255,255,255)\" stroke-opacity=\"1.0\" fill=\"rgb(17,142,216)\" fill-opacity=\"1.0\" stroke-width=\"0.0\">\n        </rect>\n        <rect x=\"174.61191743898314\" y=\"45.39073647543097\" height=\"303.60926352456903\" width=\"130.95893807923738\" stroke=\"rgb(255,255,255)\" stroke-opacity=\"1.0\" fill=\"rgb(17,142,216)\" fill-opacity=\"1.0\" stroke-width=\"0.0\">\n        </rect>\n        <rect x=\"29.101986239830524\" y=\"348.9490086592473\" height=\"0.050991340752716496\" width=\"130.95893807923736\" stroke=\"rgb(255,255,255)\" stroke-opacity=\"1.0\" fill=\"rgb(17,142,216)\" fill-opacity=\"1.0\" stroke-width=\"0.0\">\n        </rect>\n      </g>\n      <g transform=\"translate(41.307295843643615 0.0 ) \" clip-path=\"url(#cImBnJj)\" clip-bounds-jfx=\"[rect (0.0, 0.0), (625.6927041563564, 349.0)]\">\n        <defs>\n          <clipPath id=\"cImBnJj\">\n            <rect x=\"0.0\" y=\"0.0\" width=\"625.6927041563564\" height=\"349.0\">\n            </rect>\n          </clipPath>\n        </defs>\n        <g>\n          <line x1=\"61.84172075963986\" y1=\"348.9504609944043\" x2=\"127.32118979925855\" y2=\"348.9504609944043\" stroke=\"rgb(71,71,71)\" stroke-opacity=\"1.0\" fill=\"rgb(17,142,216)\" fill-opacity=\"1.0\" stroke-width=\"1.6500000000000001\">\n          </line>\n          <line x1=\"61.84172075963986\" y1=\"348.9475563240903\" x2=\"127.32118979925855\" y2=\"348.9475563240903\" stroke=\"rgb(71,71,71)\" stroke-opacity=\"1.0\" fill=\"rgb(17,142,216)\" fill-opacity=\"1.0\" stroke-width=\"1.6500000000000001\">\n          </line>\n          <line x1=\"94.5814552794492\" y1=\"348.9504609944043\" x2=\"94.5814552794492\" y2=\"348.9475563240903\" stroke=\"rgb(71,71,71)\" stroke-opacity=\"1.0\" fill=\"rgb(17,142,216)\" fill-opacity=\"1.0\" stroke-width=\"1.6500000000000001\">\n          </line>\n        </g>\n        <g>\n          <line x1=\"207.3516519587925\" y1=\"74.16242533181435\" x2=\"272.83112099841117\" y2=\"74.16242533181435\" stroke=\"rgb(71,71,71)\" stroke-opacity=\"1.0\" fill=\"rgb(17,142,216)\" fill-opacity=\"1.0\" stroke-width=\"1.6500000000000001\">\n          </line>\n          <line x1=\"207.3516519587925\" y1=\"16.619047619047592\" x2=\"272.83112099841117\" y2=\"16.619047619047592\" stroke=\"rgb(71,71,71)\" stroke-opacity=\"1.0\" fill=\"rgb(17,142,216)\" fill-opacity=\"1.0\" stroke-width=\"1.6500000000000001\">\n          </line>\n          <line x1=\"240.0913864786018\" y1=\"74.16242533181435\" x2=\"240.0913864786018\" y2=\"16.619047619047592\" stroke=\"rgb(71,71,71)\" stroke-opacity=\"1.0\" fill=\"rgb(17,142,216)\" fill-opacity=\"1.0\" stroke-width=\"1.6500000000000001\">\n          </line>\n        </g>\n        <g>\n          <line x1=\"352.86158315794506\" y1=\"348.92205832205497\" x2=\"418.3410521975638\" y2=\"348.92205832205497\" stroke=\"rgb(71,71,71)\" stroke-opacity=\"1.0\" fill=\"rgb(17,142,216)\" fill-opacity=\"1.0\" stroke-width=\"1.6500000000000001\">\n          </line>\n          <line x1=\"352.86158315794506\" y1=\"348.91760107040903\" x2=\"418.3410521975638\" y2=\"348.91760107040903\" stroke=\"rgb(71,71,71)\" stroke-opacity=\"1.0\" fill=\"rgb(17,142,216)\" fill-opacity=\"1.0\" stroke-width=\"1.6500000000000001\">\n          </line>\n          <line x1=\"385.6013176777544\" y1=\"348.92205832205497\" x2=\"385.6013176777544\" y2=\"348.91760107040903\" stroke=\"rgb(71,71,71)\" stroke-opacity=\"1.0\" fill=\"rgb(17,142,216)\" fill-opacity=\"1.0\" stroke-width=\"1.6500000000000001\">\n          </line>\n        </g>\n        <g>\n          <line x1=\"498.3715143570977\" y1=\"348.90216691786867\" x2=\"563.8509833967164\" y2=\"348.90216691786867\" stroke=\"rgb(71,71,71)\" stroke-opacity=\"1.0\" fill=\"rgb(17,142,216)\" fill-opacity=\"1.0\" stroke-width=\"1.6500000000000001\">\n          </line>\n          <line x1=\"498.3715143570977\" y1=\"348.89536995487333\" x2=\"563.8509833967164\" y2=\"348.89536995487333\" stroke=\"rgb(71,71,71)\" stroke-opacity=\"1.0\" fill=\"rgb(17,142,216)\" fill-opacity=\"1.0\" stroke-width=\"1.6500000000000001\">\n          </line>\n          <line x1=\"531.1112488769071\" y1=\"348.90216691786867\" x2=\"531.1112488769071\" y2=\"348.89536995487333\" stroke=\"rgb(71,71,71)\" stroke-opacity=\"1.0\" fill=\"rgb(17,142,216)\" fill-opacity=\"1.0\" stroke-width=\"1.6500000000000001\">\n          </line>\n        </g>\n      </g>\n    </g>\n    <g transform=\"translate(64.30729584364362 15.2 ) \">\n      <text class=\"plot-title\" y=\"0.0\">\n      net.ropes4k.test.bench.CreationBenchmark\n      </text>\n    </g>\n    <g transform=\"translate(14.5 208.5 ) rotate(-90.0 ) \">\n      <text class=\"axis-title-y\" y=\"0.0\" text-anchor=\"middle\">\n      scores\n      </text>\n    </g>\n    <g transform=\"translate(377.1536479218218 420.5 ) \">\n      <text class=\"axis-title-x\" y=\"0.0\" text-anchor=\"middle\">\n      names\n      </text>\n    </g>\n    <g transform=\"translate(690.0 442.1 ) \">\n      <text class=\"plot-caption\" y=\"0.0\" text-anchor=\"end\">\n      ops/s - higher is better\n      </text>\n    </g>\n    <path fill=\"rgb(0,0,0)\" fill-opacity=\"0.0\" stroke=\"rgb(71,71,71)\" stroke-opacity=\"1.0\" stroke-width=\"0.0\" d=\"M0.0 0.0 L0.0 450.0 L700.0 450.0 L700.0 0.0 Z\">\n    </path>\n  </g>\n  <g id=\"d9JZooj\">\n  </g>\n</svg>\n        <script>document.getElementById(\"fed1d775-d52b-4cbc-8b50-01130b0aa3bd\").style.display = \"none\";</script>",
      "application/plot+json": {
       "output_type": "lets_plot_spec",
       "output": {
        "ggtitle": {
         "text": "net.ropes4k.test.bench.CreationBenchmark"
        },
        "mapping": {},
        "data": {
         "scoremin": [
          45836.234,
          2.5429496E8,
          72115.96,
          90520.59
         ],
         "scoremax": [
          48523.797,
          3.0753728E8,
          76240.055,
          96809.516
         ],
         "names": [
          "rope_chararray",
          "rope_charsequence",
          "string",
          "stringbuilder"
         ],
         "scores": [
          47180.016,
          2.80916128E8,
          74178.01,
          93665.055
         ]
        },
        "ggsize": {
         "width": 700.0,
         "height": 450.0
        },
        "kind": "plot",
        "scales": [
         {
          "aesthetic": "x",
          "discrete": true
         },
         {
          "aesthetic": "y",
          "limits": [
           null,
           null
          ]
         },
         {
          "aesthetic": "x",
          "discrete": true
         },
         {
          "aesthetic": "y",
          "limits": [
           null,
           null
          ]
         }
        ],
        "layers": [
         {
          "mapping": {
           "x": "names",
           "y": "scores"
          },
          "stat": "identity",
          "size": 0.0,
          "sampling": "none",
          "position": "dodge",
          "geom": "bar"
         },
         {
          "mapping": {
           "x": "names",
           "y": "scores",
           "ymin": "scoremin",
           "ymax": "scoremax"
          },
          "stat": "identity",
          "sampling": "none",
          "position": "dodge",
          "geom": "errorbar"
         }
        ],
        "caption": {
         "text": "ops/s - higher is better"
        }
       },
       "apply_color_scheme": true,
       "swing_enabled": true
      }
     },
     "metadata": {},
     "output_type": "display_data"
    },
    {
     "data": {
      "text/html": "            <iframe src='about:blank' style='border:none !important;' width='700' height='450' srcdoc=\"&lt;html lang=&quot;en&quot;>\n   &lt;head>\n       &lt;style> html, body { margin: 0; overflow: hidden; } &lt;/style>\n       &lt;script type=&quot;text/javascript&quot; data-lets-plot-script=&quot;library&quot; src=&quot;https://cdn.jsdelivr.net/gh/JetBrains/lets-plot@v4.0.1/js-package/distr/lets-plot.min.js&quot;>&lt;/script>\n   &lt;/head>\n   &lt;body>\n          &lt;div id=&quot;6wfeDF&quot;>&lt;/div>\n   &lt;script type=&quot;text/javascript&quot; data-lets-plot-script=&quot;plot&quot;>\n       var plotSpec={\n&quot;ggtitle&quot;:{\n&quot;text&quot;:&quot;net.ropes4k.test.bench.DeleteBenchmark&quot;\n},\n&quot;mapping&quot;:{\n},\n&quot;data&quot;:{\n&quot;scoremin&quot;:[2882.7490530403056,90.62950873148624,1625.0448541006388],\n&quot;scoremax&quot;:[3026.5456281269053,96.75186797125592,1841.8408905395875],\n&quot;names&quot;:[&quot;rope&quot;,&quot;string&quot;,&quot;stringBuilder&quot;],\n&quot;scores&quot;:[2954.6473405836055,93.69068835137108,1733.442872320113]\n},\n&quot;ggsize&quot;:{\n&quot;width&quot;:700.0,\n&quot;height&quot;:450.0\n},\n&quot;kind&quot;:&quot;plot&quot;,\n&quot;scales&quot;:[{\n&quot;aesthetic&quot;:&quot;x&quot;,\n&quot;discrete&quot;:true\n},{\n&quot;aesthetic&quot;:&quot;y&quot;,\n&quot;limits&quot;:[null,null]\n},{\n&quot;aesthetic&quot;:&quot;x&quot;,\n&quot;discrete&quot;:true\n},{\n&quot;aesthetic&quot;:&quot;y&quot;,\n&quot;limits&quot;:[null,null]\n}],\n&quot;layers&quot;:[{\n&quot;mapping&quot;:{\n&quot;x&quot;:&quot;names&quot;,\n&quot;y&quot;:&quot;scores&quot;\n},\n&quot;stat&quot;:&quot;identity&quot;,\n&quot;size&quot;:0.0,\n&quot;sampling&quot;:&quot;none&quot;,\n&quot;position&quot;:&quot;dodge&quot;,\n&quot;geom&quot;:&quot;bar&quot;,\n&quot;data&quot;:{\n}\n},{\n&quot;mapping&quot;:{\n&quot;x&quot;:&quot;names&quot;,\n&quot;y&quot;:&quot;scores&quot;,\n&quot;ymin&quot;:&quot;scoremin&quot;,\n&quot;ymax&quot;:&quot;scoremax&quot;\n},\n&quot;stat&quot;:&quot;identity&quot;,\n&quot;sampling&quot;:&quot;none&quot;,\n&quot;position&quot;:&quot;dodge&quot;,\n&quot;geom&quot;:&quot;errorbar&quot;,\n&quot;data&quot;:{\n}\n}],\n&quot;caption&quot;:{\n&quot;text&quot;:&quot;ops/s - higher is better&quot;\n}\n};\n       var plotContainer = document.getElementById(&quot;6wfeDF&quot;);\n       LetsPlot.buildPlotFromProcessedSpecs(plotSpec, -1, -1, plotContainer);\n   &lt;/script>\n   &lt;/body>\n&lt;/html>\"></iframe>            <svg xmlns=\"http://www.w3.org/2000/svg\" xmlns:xlink=\"http://www.w3.org/1999/xlink\" class=\"plt-container\" id=948928ca-f00d-42b5-a1b0-130b737c4b46 width=\"100%\" height=\"100%\" style=\"max-width: 700.0px; max-height: 450.0px;\" viewBox=\"0 0 700.0 450.0\" preserveAspectRatio=\"xMinYMin meet\">\n  <style type=\"text/css\">\n  .plt-container {\n   font-family: Lucida Grande, sans-serif;\n   user-select: none;\n   -webkit-user-select: none;\n   -moz-user-select: none;\n   -ms-user-select: none;\n}\ntext {\n   text-rendering: optimizeLegibility;\n}\n#pgf7obY .plot-title {\n   fill: #474747;\n   font-family: Lucida Grande, sans-serif;\n   font-size: 16.0px;\n   font-weight: normal;\n   font-style: normal;   \n}\n#pgf7obY .plot-subtitle {\n   fill: #474747;\n   font-family: Lucida Grande, sans-serif;\n   font-size: 15.0px;\n   font-weight: normal;\n   font-style: normal;   \n}\n#pgf7obY .plot-caption {\n   fill: #474747;\n   font-family: Lucida Grande, sans-serif;\n   font-size: 13.0px;\n   font-weight: normal;\n   font-style: normal;   \n}\n#pgf7obY .legend-title {\n   fill: #474747;\n   font-family: Lucida Grande, sans-serif;\n   font-size: 15.0px;\n   font-weight: normal;\n   font-style: normal;   \n}\n#pgf7obY .legend-item {\n   fill: #474747;\n   font-family: Lucida Grande, sans-serif;\n   font-size: 13.0px;\n   font-weight: normal;\n   font-style: normal;   \n}\n#pgf7obY .axis-title-x {\n   fill: #474747;\n   font-family: Lucida Grande, sans-serif;\n   font-size: 15.0px;\n   font-weight: normal;\n   font-style: normal;   \n}\n#pgf7obY .axis-text-x {\n   fill: #474747;\n   font-family: Lucida Grande, sans-serif;\n   font-size: 13.0px;\n   font-weight: normal;\n   font-style: normal;   \n}\n#dpEN3Yg .axis-tooltip-text-x {\n   fill: #ffffff;\n   font-family: Lucida Grande, sans-serif;\n   font-size: 13.0px;\n   font-weight: normal;\n   font-style: normal;   \n}\n#pgf7obY .axis-title-y {\n   fill: #474747;\n   font-family: Lucida Grande, sans-serif;\n   font-size: 15.0px;\n   font-weight: normal;\n   font-style: normal;   \n}\n#pgf7obY .axis-text-y {\n   fill: #474747;\n   font-family: Lucida Grande, sans-serif;\n   font-size: 13.0px;\n   font-weight: normal;\n   font-style: normal;   \n}\n#dpEN3Yg .axis-tooltip-text-y {\n   fill: #ffffff;\n   font-family: Lucida Grande, sans-serif;\n   font-size: 13.0px;\n   font-weight: normal;\n   font-style: normal;   \n}\n#pgf7obY .facet-strip-text-x {\n   fill: #474747;\n   font-family: Lucida Grande, sans-serif;\n   font-size: 13.0px;\n   font-weight: normal;\n   font-style: normal;   \n}\n#pgf7obY .facet-strip-text-y {\n   fill: #474747;\n   font-family: Lucida Grande, sans-serif;\n   font-size: 13.0px;\n   font-weight: normal;\n   font-style: normal;   \n}\n#dpEN3Yg .tooltip-text {\n   fill: #474747;\n   font-family: Lucida Grande, sans-serif;\n   font-size: 13.0px;\n   font-weight: normal;\n   font-style: normal;   \n}\n#dpEN3Yg .tooltip-title {\n   fill: #474747;\n   font-family: Lucida Grande, sans-serif;\n   font-size: 13.0px;\n   font-weight: bold;\n   font-style: normal;   \n}\n#dpEN3Yg .tooltip-label {\n   fill: #474747;\n   font-family: Lucida Grande, sans-serif;\n   font-size: 13.0px;\n   font-weight: bold;\n   font-style: normal;   \n}\n\n  </style>\n  <g id=\"pgf7obY\">\n    <path fill-rule=\"evenodd\" fill=\"rgb(255,255,255)\" fill-opacity=\"1.0\" d=\"M0.0 0.0 L0.0 450.0 L700.0 450.0 L700.0 0.0 Z\">\n    </path>\n    <g transform=\"translate(23.0 34.0 ) \">\n      <g transform=\"translate(42.99591213121782 349.0 ) \">\n        <line x1=\"122.9098960953662\" y1=\"-0.0\" x2=\"122.9098960953662\" y2=\"-349.0\" stroke=\"rgb(233,233,233)\" stroke-opacity=\"1.0\" stroke-width=\"1.0\">\n        </line>\n        <line x1=\"312.0020439343911\" y1=\"-0.0\" x2=\"312.0020439343911\" y2=\"-349.0\" stroke=\"rgb(233,233,233)\" stroke-opacity=\"1.0\" stroke-width=\"1.0\">\n        </line>\n        <line x1=\"501.094191773416\" y1=\"-0.0\" x2=\"501.094191773416\" y2=\"-349.0\" stroke=\"rgb(233,233,233)\" stroke-opacity=\"1.0\" stroke-width=\"1.0\">\n        </line>\n        <g transform=\"translate(122.9098960953662 0.0 ) \">\n          <line stroke-width=\"1.0\" stroke=\"rgb(71,71,71)\" stroke-opacity=\"1.0\" x2=\"0.0\" y2=\"4.0\">\n          </line>\n          <g transform=\"translate(0.0 7.0 ) \">\n            <text class=\"axis-text-x\" text-anchor=\"middle\" dy=\"0.7em\">\n            rope\n            </text>\n          </g>\n        </g>\n        <g transform=\"translate(312.0020439343911 0.0 ) \">\n          <line stroke-width=\"1.0\" stroke=\"rgb(71,71,71)\" stroke-opacity=\"1.0\" x2=\"0.0\" y2=\"4.0\">\n          </line>\n          <g transform=\"translate(0.0 7.0 ) \">\n            <text class=\"axis-text-x\" text-anchor=\"middle\" dy=\"0.7em\">\n            string\n            </text>\n          </g>\n        </g>\n        <g transform=\"translate(501.094191773416 0.0 ) \">\n          <line stroke-width=\"1.0\" stroke=\"rgb(71,71,71)\" stroke-opacity=\"1.0\" x2=\"0.0\" y2=\"4.0\">\n          </line>\n          <g transform=\"translate(0.0 7.0 ) \">\n            <text class=\"axis-text-x\" text-anchor=\"middle\" dy=\"0.7em\">\n            stringBuilder\n            </text>\n          </g>\n        </g>\n        <line x1=\"0.0\" y1=\"0.0\" x2=\"624.0040878687822\" y2=\"0.0\" stroke-width=\"1.0\" stroke=\"rgb(71,71,71)\" stroke-opacity=\"1.0\">\n        </line>\n      </g>\n      <g transform=\"translate(42.99591213121782 0.0 ) \">\n        <line x1=\"0.0\" y1=\"294.0890564325212\" x2=\"624.0040878687822\" y2=\"294.0890564325212\" stroke=\"rgb(233,233,233)\" stroke-opacity=\"1.0\" stroke-width=\"1.0\">\n        </line>\n        <line x1=\"0.0\" y1=\"239.1781128650424\" x2=\"624.0040878687822\" y2=\"239.1781128650424\" stroke=\"rgb(233,233,233)\" stroke-opacity=\"1.0\" stroke-width=\"1.0\">\n        </line>\n        <line x1=\"0.0\" y1=\"184.26716929756358\" x2=\"624.0040878687822\" y2=\"184.26716929756358\" stroke=\"rgb(233,233,233)\" stroke-opacity=\"1.0\" stroke-width=\"1.0\">\n        </line>\n        <line x1=\"0.0\" y1=\"129.3562257300848\" x2=\"624.0040878687822\" y2=\"129.3562257300848\" stroke=\"rgb(233,233,233)\" stroke-opacity=\"1.0\" stroke-width=\"1.0\">\n        </line>\n        <line x1=\"0.0\" y1=\"74.44528216260596\" x2=\"624.0040878687822\" y2=\"74.44528216260596\" stroke=\"rgb(233,233,233)\" stroke-opacity=\"1.0\" stroke-width=\"1.0\">\n        </line>\n        <line x1=\"0.0\" y1=\"19.534338595127167\" x2=\"624.0040878687822\" y2=\"19.534338595127167\" stroke=\"rgb(233,233,233)\" stroke-opacity=\"1.0\" stroke-width=\"1.0\">\n        </line>\n        <g transform=\"translate(0.0 349.0 ) \">\n          <g transform=\"translate(-3.0 0.0 ) \">\n            <text class=\"axis-text-y\" text-anchor=\"end\" dy=\"0.35em\">\n            0\n            </text>\n          </g>\n        </g>\n        <g transform=\"translate(0.0 294.0890564325212 ) \">\n          <g transform=\"translate(-3.0 0.0 ) \">\n            <text class=\"axis-text-y\" text-anchor=\"end\" dy=\"0.35em\">\n            500\n            </text>\n          </g>\n        </g>\n        <g transform=\"translate(0.0 239.1781128650424 ) \">\n          <g transform=\"translate(-3.0 0.0 ) \">\n            <text class=\"axis-text-y\" text-anchor=\"end\" dy=\"0.35em\">\n            1,000\n            </text>\n          </g>\n        </g>\n        <g transform=\"translate(0.0 184.26716929756358 ) \">\n          <g transform=\"translate(-3.0 0.0 ) \">\n            <text class=\"axis-text-y\" text-anchor=\"end\" dy=\"0.35em\">\n            1,500\n            </text>\n          </g>\n        </g>\n        <g transform=\"translate(0.0 129.3562257300848 ) \">\n          <g transform=\"translate(-3.0 0.0 ) \">\n            <text class=\"axis-text-y\" text-anchor=\"end\" dy=\"0.35em\">\n            2,000\n            </text>\n          </g>\n        </g>\n        <g transform=\"translate(0.0 74.44528216260596 ) \">\n          <g transform=\"translate(-3.0 0.0 ) \">\n            <text class=\"axis-text-y\" text-anchor=\"end\" dy=\"0.35em\">\n            2,500\n            </text>\n          </g>\n        </g>\n        <g transform=\"translate(0.0 19.534338595127167 ) \">\n          <g transform=\"translate(-3.0 0.0 ) \">\n            <text class=\"axis-text-y\" text-anchor=\"end\" dy=\"0.35em\">\n            3,000\n            </text>\n          </g>\n        </g>\n      </g>\n      <g transform=\"translate(42.99591213121782 0.0 ) \" clip-path=\"url(#cqWpXqE)\" clip-bounds-jfx=\"[rect (0.0, 0.0), (624.0040878687822, 349.0)]\">\n        <defs>\n          <clipPath id=\"cqWpXqE\">\n            <rect x=\"0.0\" y=\"0.0\" width=\"624.0040878687822\" height=\"349.0\">\n            </rect>\n          </clipPath>\n        </defs>\n        <rect x=\"416.00272524585483\" y=\"158.6300325211638\" height=\"190.3699674788362\" width=\"170.18293305512242\" stroke=\"rgb(255,255,255)\" stroke-opacity=\"1.0\" fill=\"rgb(17,142,216)\" fill-opacity=\"1.0\" stroke-width=\"0.0\">\n        </rect>\n        <rect x=\"226.9105774068299\" y=\"338.71071179827925\" height=\"10.289288201720751\" width=\"170.18293305512245\" stroke=\"rgb(255,255,255)\" stroke-opacity=\"1.0\" fill=\"rgb(17,142,216)\" fill-opacity=\"1.0\" stroke-width=\"0.0\">\n        </rect>\n        <rect x=\"37.81842956780498\" y=\"24.515053238824635\" height=\"324.48494676117537\" width=\"170.18293305512242\" stroke=\"rgb(255,255,255)\" stroke-opacity=\"1.0\" fill=\"rgb(17,142,216)\" fill-opacity=\"1.0\" stroke-width=\"0.0\">\n        </rect>\n      </g>\n      <g transform=\"translate(42.99591213121782 0.0 ) \" clip-path=\"url(#c4VQOUj)\" clip-bounds-jfx=\"[rect (0.0, 0.0), (624.0040878687822, 349.0)]\">\n        <defs>\n          <clipPath id=\"c4VQOUj\">\n            <rect x=\"0.0\" y=\"0.0\" width=\"624.0040878687822\" height=\"349.0\">\n            </rect>\n          </clipPath>\n        </defs>\n        <g>\n          <line x1=\"80.36416283158559\" y1=\"32.41105885860162\" x2=\"165.4556293591468\" y2=\"32.41105885860162\" stroke=\"rgb(71,71,71)\" stroke-opacity=\"1.0\" fill=\"rgb(17,142,216)\" fill-opacity=\"1.0\" stroke-width=\"1.6500000000000001\">\n          </line>\n          <line x1=\"80.36416283158559\" y1=\"16.61904761904765\" x2=\"165.4556293591468\" y2=\"16.61904761904765\" stroke=\"rgb(71,71,71)\" stroke-opacity=\"1.0\" fill=\"rgb(17,142,216)\" fill-opacity=\"1.0\" stroke-width=\"1.6500000000000001\">\n          </line>\n          <line x1=\"122.9098960953662\" y1=\"32.41105885860162\" x2=\"122.9098960953662\" y2=\"16.61904761904765\" stroke=\"rgb(71,71,71)\" stroke-opacity=\"1.0\" fill=\"rgb(17,142,216)\" fill-opacity=\"1.0\" stroke-width=\"1.6500000000000001\">\n          </line>\n        </g>\n        <g>\n          <line x1=\"269.4563106706105\" y1=\"339.04689632099405\" x2=\"354.54777719817173\" y2=\"339.04689632099405\" stroke=\"rgb(71,71,71)\" stroke-opacity=\"1.0\" fill=\"rgb(17,142,216)\" fill-opacity=\"1.0\" stroke-width=\"1.6500000000000001\">\n          </line>\n          <line x1=\"269.4563106706105\" y1=\"338.3745272755644\" x2=\"354.54777719817173\" y2=\"338.3745272755644\" stroke=\"rgb(71,71,71)\" stroke-opacity=\"1.0\" fill=\"rgb(17,142,216)\" fill-opacity=\"1.0\" stroke-width=\"1.6500000000000001\">\n          </line>\n          <line x1=\"312.0020439343911\" y1=\"339.04689632099405\" x2=\"312.0020439343911\" y2=\"338.3745272755644\" stroke=\"rgb(71,71,71)\" stroke-opacity=\"1.0\" fill=\"rgb(17,142,216)\" fill-opacity=\"1.0\" stroke-width=\"1.6500000000000001\">\n          </line>\n        </g>\n        <g>\n          <line x1=\"458.5484585096354\" y1=\"170.534507443716\" x2=\"543.6399250371966\" y2=\"170.534507443716\" stroke=\"rgb(71,71,71)\" stroke-opacity=\"1.0\" fill=\"rgb(17,142,216)\" fill-opacity=\"1.0\" stroke-width=\"1.6500000000000001\">\n          </line>\n          <line x1=\"458.5484585096354\" y1=\"146.72555759861163\" x2=\"543.6399250371966\" y2=\"146.72555759861163\" stroke=\"rgb(71,71,71)\" stroke-opacity=\"1.0\" fill=\"rgb(17,142,216)\" fill-opacity=\"1.0\" stroke-width=\"1.6500000000000001\">\n          </line>\n          <line x1=\"501.094191773416\" y1=\"170.534507443716\" x2=\"501.094191773416\" y2=\"146.72555759861163\" stroke=\"rgb(71,71,71)\" stroke-opacity=\"1.0\" fill=\"rgb(17,142,216)\" fill-opacity=\"1.0\" stroke-width=\"1.6500000000000001\">\n          </line>\n        </g>\n      </g>\n    </g>\n    <g transform=\"translate(65.99591213121782 15.2 ) \">\n      <text class=\"plot-title\" y=\"0.0\">\n      net.ropes4k.test.bench.DeleteBenchmark\n      </text>\n    </g>\n    <g transform=\"translate(14.5 208.5 ) rotate(-90.0 ) \">\n      <text class=\"axis-title-y\" y=\"0.0\" text-anchor=\"middle\">\n      scores\n      </text>\n    </g>\n    <g transform=\"translate(377.99795606560895 420.5 ) \">\n      <text class=\"axis-title-x\" y=\"0.0\" text-anchor=\"middle\">\n      names\n      </text>\n    </g>\n    <g transform=\"translate(690.0 442.1 ) \">\n      <text class=\"plot-caption\" y=\"0.0\" text-anchor=\"end\">\n      ops/s - higher is better\n      </text>\n    </g>\n    <path fill=\"rgb(0,0,0)\" fill-opacity=\"0.0\" stroke=\"rgb(71,71,71)\" stroke-opacity=\"1.0\" stroke-width=\"0.0\" d=\"M0.0 0.0 L0.0 450.0 L700.0 450.0 L700.0 0.0 Z\">\n    </path>\n  </g>\n  <g id=\"dpEN3Yg\">\n  </g>\n</svg>\n        <script>document.getElementById(\"948928ca-f00d-42b5-a1b0-130b737c4b46\").style.display = \"none\";</script>",
      "application/plot+json": {
       "output_type": "lets_plot_spec",
       "output": {
        "ggtitle": {
         "text": "net.ropes4k.test.bench.DeleteBenchmark"
        },
        "mapping": {},
        "data": {
         "scoremin": [
          2882.749,
          90.62951,
          1625.0448
         ],
         "scoremax": [
          3026.5457,
          96.75187,
          1841.841
         ],
         "names": [
          "rope",
          "string",
          "stringBuilder"
         ],
         "scores": [
          2954.6475,
          93.69069,
          1733.4429
         ]
        },
        "ggsize": {
         "width": 700.0,
         "height": 450.0
        },
        "kind": "plot",
        "scales": [
         {
          "aesthetic": "x",
          "discrete": true
         },
         {
          "aesthetic": "y",
          "limits": [
           null,
           null
          ]
         },
         {
          "aesthetic": "x",
          "discrete": true
         },
         {
          "aesthetic": "y",
          "limits": [
           null,
           null
          ]
         }
        ],
        "layers": [
         {
          "mapping": {
           "x": "names",
           "y": "scores"
          },
          "stat": "identity",
          "size": 0.0,
          "sampling": "none",
          "position": "dodge",
          "geom": "bar"
         },
         {
          "mapping": {
           "x": "names",
           "y": "scores",
           "ymin": "scoremin",
           "ymax": "scoremax"
          },
          "stat": "identity",
          "sampling": "none",
          "position": "dodge",
          "geom": "errorbar"
         }
        ],
        "caption": {
         "text": "ops/s - higher is better"
        }
       },
       "apply_color_scheme": true,
       "swing_enabled": true
      }
     },
     "metadata": {},
     "output_type": "display_data"
    },
    {
     "data": {
      "text/html": "            <iframe src='about:blank' style='border:none !important;' width='700' height='450' srcdoc=\"&lt;html lang=&quot;en&quot;>\n   &lt;head>\n       &lt;style> html, body { margin: 0; overflow: hidden; } &lt;/style>\n       &lt;script type=&quot;text/javascript&quot; data-lets-plot-script=&quot;library&quot; src=&quot;https://cdn.jsdelivr.net/gh/JetBrains/lets-plot@v4.0.1/js-package/distr/lets-plot.min.js&quot;>&lt;/script>\n   &lt;/head>\n   &lt;body>\n          &lt;div id=&quot;Ua3sqj&quot;>&lt;/div>\n   &lt;script type=&quot;text/javascript&quot; data-lets-plot-script=&quot;plot&quot;>\n       var plotSpec={\n&quot;ggtitle&quot;:{\n&quot;text&quot;:&quot;net.ropes4k.test.bench.IndexBenchmark&quot;\n},\n&quot;mapping&quot;:{\n},\n&quot;data&quot;:{\n&quot;scoremin&quot;:[7.856507772284965E7,8.993773147669132E7,8.728872550396208E7,8.993449372686115E7],\n&quot;scoremax&quot;:[8.037566696935545E7,9.426006641269617E7,9.011171139010252E7,9.401413217491764E7],\n&quot;names&quot;:[&quot;rope_chararray&quot;,&quot;rope_charsequence&quot;,&quot;string&quot;,&quot;stringbuilder&quot;],\n&quot;scores&quot;:[7.947037234610255E7,9.209889894469374E7,8.87002184470323E7,9.19743129508894E7]\n},\n&quot;ggsize&quot;:{\n&quot;width&quot;:700.0,\n&quot;height&quot;:450.0\n},\n&quot;kind&quot;:&quot;plot&quot;,\n&quot;scales&quot;:[{\n&quot;aesthetic&quot;:&quot;x&quot;,\n&quot;discrete&quot;:true\n},{\n&quot;aesthetic&quot;:&quot;y&quot;,\n&quot;limits&quot;:[null,null]\n},{\n&quot;aesthetic&quot;:&quot;x&quot;,\n&quot;discrete&quot;:true\n},{\n&quot;aesthetic&quot;:&quot;y&quot;,\n&quot;limits&quot;:[null,null]\n}],\n&quot;layers&quot;:[{\n&quot;mapping&quot;:{\n&quot;x&quot;:&quot;names&quot;,\n&quot;y&quot;:&quot;scores&quot;\n},\n&quot;stat&quot;:&quot;identity&quot;,\n&quot;size&quot;:0.0,\n&quot;sampling&quot;:&quot;none&quot;,\n&quot;position&quot;:&quot;dodge&quot;,\n&quot;geom&quot;:&quot;bar&quot;,\n&quot;data&quot;:{\n}\n},{\n&quot;mapping&quot;:{\n&quot;x&quot;:&quot;names&quot;,\n&quot;y&quot;:&quot;scores&quot;,\n&quot;ymin&quot;:&quot;scoremin&quot;,\n&quot;ymax&quot;:&quot;scoremax&quot;\n},\n&quot;stat&quot;:&quot;identity&quot;,\n&quot;sampling&quot;:&quot;none&quot;,\n&quot;position&quot;:&quot;dodge&quot;,\n&quot;geom&quot;:&quot;errorbar&quot;,\n&quot;data&quot;:{\n}\n}],\n&quot;caption&quot;:{\n&quot;text&quot;:&quot;ops/s - higher is better&quot;\n}\n};\n       var plotContainer = document.getElementById(&quot;Ua3sqj&quot;);\n       LetsPlot.buildPlotFromProcessedSpecs(plotSpec, -1, -1, plotContainer);\n   &lt;/script>\n   &lt;/body>\n&lt;/html>\"></iframe>            <svg xmlns=\"http://www.w3.org/2000/svg\" xmlns:xlink=\"http://www.w3.org/1999/xlink\" class=\"plt-container\" id=56532286-ce81-4c01-bce4-f76f6a288081 width=\"100%\" height=\"100%\" style=\"max-width: 700.0px; max-height: 450.0px;\" viewBox=\"0 0 700.0 450.0\" preserveAspectRatio=\"xMinYMin meet\">\n  <style type=\"text/css\">\n  .plt-container {\n   font-family: Lucida Grande, sans-serif;\n   user-select: none;\n   -webkit-user-select: none;\n   -moz-user-select: none;\n   -ms-user-select: none;\n}\ntext {\n   text-rendering: optimizeLegibility;\n}\n#pJqDU1k .plot-title {\n   fill: #474747;\n   font-family: Lucida Grande, sans-serif;\n   font-size: 16.0px;\n   font-weight: normal;\n   font-style: normal;   \n}\n#pJqDU1k .plot-subtitle {\n   fill: #474747;\n   font-family: Lucida Grande, sans-serif;\n   font-size: 15.0px;\n   font-weight: normal;\n   font-style: normal;   \n}\n#pJqDU1k .plot-caption {\n   fill: #474747;\n   font-family: Lucida Grande, sans-serif;\n   font-size: 13.0px;\n   font-weight: normal;\n   font-style: normal;   \n}\n#pJqDU1k .legend-title {\n   fill: #474747;\n   font-family: Lucida Grande, sans-serif;\n   font-size: 15.0px;\n   font-weight: normal;\n   font-style: normal;   \n}\n#pJqDU1k .legend-item {\n   fill: #474747;\n   font-family: Lucida Grande, sans-serif;\n   font-size: 13.0px;\n   font-weight: normal;\n   font-style: normal;   \n}\n#pJqDU1k .axis-title-x {\n   fill: #474747;\n   font-family: Lucida Grande, sans-serif;\n   font-size: 15.0px;\n   font-weight: normal;\n   font-style: normal;   \n}\n#pJqDU1k .axis-text-x {\n   fill: #474747;\n   font-family: Lucida Grande, sans-serif;\n   font-size: 13.0px;\n   font-weight: normal;\n   font-style: normal;   \n}\n#dRJI1qD .axis-tooltip-text-x {\n   fill: #ffffff;\n   font-family: Lucida Grande, sans-serif;\n   font-size: 13.0px;\n   font-weight: normal;\n   font-style: normal;   \n}\n#pJqDU1k .axis-title-y {\n   fill: #474747;\n   font-family: Lucida Grande, sans-serif;\n   font-size: 15.0px;\n   font-weight: normal;\n   font-style: normal;   \n}\n#pJqDU1k .axis-text-y {\n   fill: #474747;\n   font-family: Lucida Grande, sans-serif;\n   font-size: 13.0px;\n   font-weight: normal;\n   font-style: normal;   \n}\n#dRJI1qD .axis-tooltip-text-y {\n   fill: #ffffff;\n   font-family: Lucida Grande, sans-serif;\n   font-size: 13.0px;\n   font-weight: normal;\n   font-style: normal;   \n}\n#pJqDU1k .facet-strip-text-x {\n   fill: #474747;\n   font-family: Lucida Grande, sans-serif;\n   font-size: 13.0px;\n   font-weight: normal;\n   font-style: normal;   \n}\n#pJqDU1k .facet-strip-text-y {\n   fill: #474747;\n   font-family: Lucida Grande, sans-serif;\n   font-size: 13.0px;\n   font-weight: normal;\n   font-style: normal;   \n}\n#dRJI1qD .tooltip-text {\n   fill: #474747;\n   font-family: Lucida Grande, sans-serif;\n   font-size: 13.0px;\n   font-weight: normal;\n   font-style: normal;   \n}\n#dRJI1qD .tooltip-title {\n   fill: #474747;\n   font-family: Lucida Grande, sans-serif;\n   font-size: 13.0px;\n   font-weight: bold;\n   font-style: normal;   \n}\n#dRJI1qD .tooltip-label {\n   fill: #474747;\n   font-family: Lucida Grande, sans-serif;\n   font-size: 13.0px;\n   font-weight: bold;\n   font-style: normal;   \n}\n\n  </style>\n  <g id=\"pJqDU1k\">\n    <path fill-rule=\"evenodd\" fill=\"rgb(255,255,255)\" fill-opacity=\"1.0\" d=\"M0.0 0.0 L0.0 450.0 L700.0 450.0 L700.0 0.0 Z\">\n    </path>\n    <g transform=\"translate(23.0 34.0 ) \">\n      <g transform=\"translate(33.326690388175415 349.0 ) \">\n        <line x1=\"95.78782587155487\" y1=\"-0.0\" x2=\"95.78782587155487\" y2=\"-349.0\" stroke=\"rgb(233,233,233)\" stroke-opacity=\"1.0\" stroke-width=\"1.0\">\n        </line>\n        <line x1=\"243.15371182779313\" y1=\"-0.0\" x2=\"243.15371182779313\" y2=\"-349.0\" stroke=\"rgb(233,233,233)\" stroke-opacity=\"1.0\" stroke-width=\"1.0\">\n        </line>\n        <line x1=\"390.51959778403136\" y1=\"-0.0\" x2=\"390.51959778403136\" y2=\"-349.0\" stroke=\"rgb(233,233,233)\" stroke-opacity=\"1.0\" stroke-width=\"1.0\">\n        </line>\n        <line x1=\"537.8854837402697\" y1=\"-0.0\" x2=\"537.8854837402697\" y2=\"-349.0\" stroke=\"rgb(233,233,233)\" stroke-opacity=\"1.0\" stroke-width=\"1.0\">\n        </line>\n        <g transform=\"translate(95.78782587155487 0.0 ) \">\n          <line stroke-width=\"1.0\" stroke=\"rgb(71,71,71)\" stroke-opacity=\"1.0\" x2=\"0.0\" y2=\"4.0\">\n          </line>\n          <g transform=\"translate(0.0 7.0 ) \">\n            <text class=\"axis-text-x\" text-anchor=\"middle\" dy=\"0.7em\">\n            rope_chararray\n            </text>\n          </g>\n        </g>\n        <g transform=\"translate(243.15371182779313 0.0 ) \">\n          <line stroke-width=\"1.0\" stroke=\"rgb(71,71,71)\" stroke-opacity=\"1.0\" x2=\"0.0\" y2=\"4.0\">\n          </line>\n          <g transform=\"translate(0.0 7.0 ) \">\n            <text class=\"axis-text-x\" text-anchor=\"middle\" dy=\"0.7em\">\n            rope_charsequence\n            </text>\n          </g>\n        </g>\n        <g transform=\"translate(390.51959778403136 0.0 ) \">\n          <line stroke-width=\"1.0\" stroke=\"rgb(71,71,71)\" stroke-opacity=\"1.0\" x2=\"0.0\" y2=\"4.0\">\n          </line>\n          <g transform=\"translate(0.0 7.0 ) \">\n            <text class=\"axis-text-x\" text-anchor=\"middle\" dy=\"0.7em\">\n            string\n            </text>\n          </g>\n        </g>\n        <g transform=\"translate(537.8854837402697 0.0 ) \">\n          <line stroke-width=\"1.0\" stroke=\"rgb(71,71,71)\" stroke-opacity=\"1.0\" x2=\"0.0\" y2=\"4.0\">\n          </line>\n          <g transform=\"translate(0.0 7.0 ) \">\n            <text class=\"axis-text-x\" text-anchor=\"middle\" dy=\"0.7em\">\n            stringbuilder\n            </text>\n          </g>\n        </g>\n        <line x1=\"0.0\" y1=\"0.0\" x2=\"633.6733096118246\" y2=\"0.0\" stroke-width=\"1.0\" stroke=\"rgb(71,71,71)\" stroke-opacity=\"1.0\">\n        </line>\n      </g>\n      <g transform=\"translate(33.326690388175415 0.0 ) \">\n        <line x1=\"0.0\" y1=\"313.737882644205\" x2=\"633.6733096118246\" y2=\"313.737882644205\" stroke=\"rgb(233,233,233)\" stroke-opacity=\"1.0\" stroke-width=\"1.0\">\n        </line>\n        <line x1=\"0.0\" y1=\"278.47576528841\" x2=\"633.6733096118246\" y2=\"278.47576528841\" stroke=\"rgb(233,233,233)\" stroke-opacity=\"1.0\" stroke-width=\"1.0\">\n        </line>\n        <line x1=\"0.0\" y1=\"243.21364793261498\" x2=\"633.6733096118246\" y2=\"243.21364793261498\" stroke=\"rgb(233,233,233)\" stroke-opacity=\"1.0\" stroke-width=\"1.0\">\n        </line>\n        <line x1=\"0.0\" y1=\"207.95153057681998\" x2=\"633.6733096118246\" y2=\"207.95153057681998\" stroke=\"rgb(233,233,233)\" stroke-opacity=\"1.0\" stroke-width=\"1.0\">\n        </line>\n        <line x1=\"0.0\" y1=\"172.68941322102498\" x2=\"633.6733096118246\" y2=\"172.68941322102498\" stroke=\"rgb(233,233,233)\" stroke-opacity=\"1.0\" stroke-width=\"1.0\">\n        </line>\n        <line x1=\"0.0\" y1=\"137.42729586522995\" x2=\"633.6733096118246\" y2=\"137.42729586522995\" stroke=\"rgb(233,233,233)\" stroke-opacity=\"1.0\" stroke-width=\"1.0\">\n        </line>\n        <line x1=\"0.0\" y1=\"102.16517850943495\" x2=\"633.6733096118246\" y2=\"102.16517850943495\" stroke=\"rgb(233,233,233)\" stroke-opacity=\"1.0\" stroke-width=\"1.0\">\n        </line>\n        <line x1=\"0.0\" y1=\"66.90306115363995\" x2=\"633.6733096118246\" y2=\"66.90306115363995\" stroke=\"rgb(233,233,233)\" stroke-opacity=\"1.0\" stroke-width=\"1.0\">\n        </line>\n        <line x1=\"0.0\" y1=\"31.640943797844955\" x2=\"633.6733096118246\" y2=\"31.640943797844955\" stroke=\"rgb(233,233,233)\" stroke-opacity=\"1.0\" stroke-width=\"1.0\">\n        </line>\n        <g transform=\"translate(0.0 349.0 ) \">\n          <g transform=\"translate(-3.0 0.0 ) \">\n            <text class=\"axis-text-y\" text-anchor=\"end\" dy=\"0.35em\">\n            0\n            </text>\n          </g>\n        </g>\n        <g transform=\"translate(0.0 313.737882644205 ) \">\n          <g transform=\"translate(-3.0 0.0 ) \">\n            <text class=\"axis-text-y\" text-anchor=\"end\" dy=\"0.35em\">\n            10M\n            </text>\n          </g>\n        </g>\n        <g transform=\"translate(0.0 278.47576528841 ) \">\n          <g transform=\"translate(-3.0 0.0 ) \">\n            <text class=\"axis-text-y\" text-anchor=\"end\" dy=\"0.35em\">\n            20M\n            </text>\n          </g>\n        </g>\n        <g transform=\"translate(0.0 243.21364793261498 ) \">\n          <g transform=\"translate(-3.0 0.0 ) \">\n            <text class=\"axis-text-y\" text-anchor=\"end\" dy=\"0.35em\">\n            30M\n            </text>\n          </g>\n        </g>\n        <g transform=\"translate(0.0 207.95153057681998 ) \">\n          <g transform=\"translate(-3.0 0.0 ) \">\n            <text class=\"axis-text-y\" text-anchor=\"end\" dy=\"0.35em\">\n            40M\n            </text>\n          </g>\n        </g>\n        <g transform=\"translate(0.0 172.68941322102498 ) \">\n          <g transform=\"translate(-3.0 0.0 ) \">\n            <text class=\"axis-text-y\" text-anchor=\"end\" dy=\"0.35em\">\n            50M\n            </text>\n          </g>\n        </g>\n        <g transform=\"translate(0.0 137.42729586522995 ) \">\n          <g transform=\"translate(-3.0 0.0 ) \">\n            <text class=\"axis-text-y\" text-anchor=\"end\" dy=\"0.35em\">\n            60M\n            </text>\n          </g>\n        </g>\n        <g transform=\"translate(0.0 102.16517850943495 ) \">\n          <g transform=\"translate(-3.0 0.0 ) \">\n            <text class=\"axis-text-y\" text-anchor=\"end\" dy=\"0.35em\">\n            70M\n            </text>\n          </g>\n        </g>\n        <g transform=\"translate(0.0 66.90306115363995 ) \">\n          <g transform=\"translate(-3.0 0.0 ) \">\n            <text class=\"axis-text-y\" text-anchor=\"end\" dy=\"0.35em\">\n            80M\n            </text>\n          </g>\n        </g>\n        <g transform=\"translate(0.0 31.640943797844955 ) \">\n          <g transform=\"translate(-3.0 0.0 ) \">\n            <text class=\"axis-text-y\" text-anchor=\"end\" dy=\"0.35em\">\n            90M\n            </text>\n          </g>\n        </g>\n      </g>\n      <g transform=\"translate(33.326690388175415 0.0 ) \" clip-path=\"url(#c7UuHqb)\" clip-bounds-jfx=\"[rect (0.0, 0.0), (633.6733096118246, 349.0)]\">\n        <defs>\n          <clipPath id=\"c7UuHqb\">\n            <rect x=\"0.0\" y=\"0.0\" width=\"633.6733096118246\" height=\"349.0\">\n            </rect>\n          </clipPath>\n        </defs>\n        <rect x=\"471.5708350599624\" y=\"24.679098300712155\" height=\"324.32090169928784\" width=\"132.62929736061437\" stroke=\"rgb(255,255,255)\" stroke-opacity=\"1.0\" fill=\"rgb(17,142,216)\" fill-opacity=\"1.0\" stroke-width=\"0.0\">\n        </rect>\n        <rect x=\"324.2049491037242\" y=\"36.22424876360941\" height=\"312.7757512363906\" width=\"132.6292973606145\" stroke=\"rgb(255,255,255)\" stroke-opacity=\"1.0\" fill=\"rgb(17,142,216)\" fill-opacity=\"1.0\" stroke-width=\"0.0\">\n        </rect>\n        <rect x=\"176.83906314748592\" y=\"24.239781707270424\" height=\"324.7602182927296\" width=\"132.62929736061446\" stroke=\"rgb(255,255,255)\" stroke-opacity=\"1.0\" fill=\"rgb(17,142,216)\" fill-opacity=\"1.0\" stroke-width=\"0.0\">\n        </rect>\n        <rect x=\"29.473177191247657\" y=\"68.77064040230056\" height=\"280.22935959769944\" width=\"132.62929736061443\" stroke=\"rgb(255,255,255)\" stroke-opacity=\"1.0\" fill=\"rgb(17,142,216)\" fill-opacity=\"1.0\" stroke-width=\"0.0\">\n        </rect>\n      </g>\n      <g transform=\"translate(33.326690388175415 0.0 ) \" clip-path=\"url(#cd2jrTw)\" clip-bounds-jfx=\"[rect (0.0, 0.0), (633.6733096118246, 349.0)]\">\n        <defs>\n          <clipPath id=\"cd2jrTw\">\n            <rect x=\"0.0\" y=\"0.0\" width=\"633.6733096118246\" height=\"349.0\">\n            </rect>\n          </clipPath>\n        </defs>\n        <g>\n          <line x1=\"62.630501531401265\" y1=\"71.96290092697194\" x2=\"128.9451502117085\" y2=\"71.96290092697194\" stroke=\"rgb(71,71,71)\" stroke-opacity=\"1.0\" fill=\"rgb(17,142,216)\" fill-opacity=\"1.0\" stroke-width=\"1.6500000000000001\">\n          </line>\n          <line x1=\"62.630501531401265\" y1=\"65.57837987762917\" x2=\"128.9451502117085\" y2=\"65.57837987762917\" stroke=\"rgb(71,71,71)\" stroke-opacity=\"1.0\" fill=\"rgb(17,142,216)\" fill-opacity=\"1.0\" stroke-width=\"1.6500000000000001\">\n          </line>\n          <line x1=\"95.78782587155487\" y1=\"71.96290092697194\" x2=\"95.78782587155487\" y2=\"65.57837987762917\" stroke=\"rgb(71,71,71)\" stroke-opacity=\"1.0\" fill=\"rgb(17,142,216)\" fill-opacity=\"1.0\" stroke-width=\"1.6500000000000001\">\n          </line>\n        </g>\n        <g>\n          <line x1=\"209.99638748763954\" y1=\"31.8605157954932\" x2=\"276.3110361679468\" y2=\"31.8605157954932\" stroke=\"rgb(71,71,71)\" stroke-opacity=\"1.0\" fill=\"rgb(17,142,216)\" fill-opacity=\"1.0\" stroke-width=\"1.6500000000000001\">\n          </line>\n          <line x1=\"209.99638748763954\" y1=\"16.61904761904765\" x2=\"276.3110361679468\" y2=\"16.61904761904765\" stroke=\"rgb(71,71,71)\" stroke-opacity=\"1.0\" fill=\"rgb(17,142,216)\" fill-opacity=\"1.0\" stroke-width=\"1.6500000000000001\">\n          </line>\n          <line x1=\"243.15371182779313\" y1=\"31.8605157954932\" x2=\"243.15371182779313\" y2=\"16.61904761904765\" stroke=\"rgb(71,71,71)\" stroke-opacity=\"1.0\" fill=\"rgb(17,142,216)\" fill-opacity=\"1.0\" stroke-width=\"1.6500000000000001\">\n          </line>\n        </g>\n        <g>\n          <line x1=\"357.3622734438778\" y1=\"41.201471744151206\" x2=\"423.676922124185\" y2=\"41.201471744151206\" stroke=\"rgb(71,71,71)\" stroke-opacity=\"1.0\" fill=\"rgb(17,142,216)\" fill-opacity=\"1.0\" stroke-width=\"1.6500000000000001\">\n          </line>\n          <line x1=\"357.3622734438778\" y1=\"31.247025783067556\" x2=\"423.676922124185\" y2=\"31.247025783067556\" stroke=\"rgb(71,71,71)\" stroke-opacity=\"1.0\" fill=\"rgb(17,142,216)\" fill-opacity=\"1.0\" stroke-width=\"1.6500000000000001\">\n          </line>\n          <line x1=\"390.51959778403136\" y1=\"41.201471744151206\" x2=\"390.51959778403136\" y2=\"31.247025783067556\" stroke=\"rgb(71,71,71)\" stroke-opacity=\"1.0\" fill=\"rgb(17,142,216)\" fill-opacity=\"1.0\" stroke-width=\"1.6500000000000001\">\n          </line>\n        </g>\n        <g>\n          <line x1=\"504.72815940011606\" y1=\"31.871932786941215\" x2=\"571.0428080804232\" y2=\"31.871932786941215\" stroke=\"rgb(71,71,71)\" stroke-opacity=\"1.0\" fill=\"rgb(17,142,216)\" fill-opacity=\"1.0\" stroke-width=\"1.6500000000000001\">\n          </line>\n          <line x1=\"504.72815940011606\" y1=\"17.486263814483095\" x2=\"571.0428080804232\" y2=\"17.486263814483095\" stroke=\"rgb(71,71,71)\" stroke-opacity=\"1.0\" fill=\"rgb(17,142,216)\" fill-opacity=\"1.0\" stroke-width=\"1.6500000000000001\">\n          </line>\n          <line x1=\"537.8854837402697\" y1=\"31.871932786941215\" x2=\"537.8854837402697\" y2=\"17.486263814483095\" stroke=\"rgb(71,71,71)\" stroke-opacity=\"1.0\" fill=\"rgb(17,142,216)\" fill-opacity=\"1.0\" stroke-width=\"1.6500000000000001\">\n          </line>\n        </g>\n      </g>\n    </g>\n    <g transform=\"translate(56.326690388175415 15.2 ) \">\n      <text class=\"plot-title\" y=\"0.0\">\n      net.ropes4k.test.bench.IndexBenchmark\n      </text>\n    </g>\n    <g transform=\"translate(14.5 208.5 ) rotate(-90.0 ) \">\n      <text class=\"axis-title-y\" y=\"0.0\" text-anchor=\"middle\">\n      scores\n      </text>\n    </g>\n    <g transform=\"translate(373.1633451940877 420.5 ) \">\n      <text class=\"axis-title-x\" y=\"0.0\" text-anchor=\"middle\">\n      names\n      </text>\n    </g>\n    <g transform=\"translate(690.0 442.1 ) \">\n      <text class=\"plot-caption\" y=\"0.0\" text-anchor=\"end\">\n      ops/s - higher is better\n      </text>\n    </g>\n    <path fill=\"rgb(0,0,0)\" fill-opacity=\"0.0\" stroke=\"rgb(71,71,71)\" stroke-opacity=\"1.0\" stroke-width=\"0.0\" d=\"M0.0 0.0 L0.0 450.0 L700.0 450.0 L700.0 0.0 Z\">\n    </path>\n  </g>\n  <g id=\"dRJI1qD\">\n  </g>\n</svg>\n        <script>document.getElementById(\"56532286-ce81-4c01-bce4-f76f6a288081\").style.display = \"none\";</script>",
      "application/plot+json": {
       "output_type": "lets_plot_spec",
       "output": {
        "ggtitle": {
         "text": "net.ropes4k.test.bench.IndexBenchmark"
        },
        "mapping": {},
        "data": {
         "scoremin": [
          7.856508E7,
          8.9937728E7,
          8.7288728E7,
          8.9934496E7
         ],
         "scoremax": [
          8.0375664E7,
          9.4260064E7,
          9.0111712E7,
          9.4014136E7
         ],
         "names": [
          "rope_chararray",
          "rope_charsequence",
          "string",
          "stringbuilder"
         ],
         "scores": [
          7.9470376E7,
          9.2098896E7,
          8.8700216E7,
          9.1974312E7
         ]
        },
        "ggsize": {
         "width": 700.0,
         "height": 450.0
        },
        "kind": "plot",
        "scales": [
         {
          "aesthetic": "x",
          "discrete": true
         },
         {
          "aesthetic": "y",
          "limits": [
           null,
           null
          ]
         },
         {
          "aesthetic": "x",
          "discrete": true
         },
         {
          "aesthetic": "y",
          "limits": [
           null,
           null
          ]
         }
        ],
        "layers": [
         {
          "mapping": {
           "x": "names",
           "y": "scores"
          },
          "stat": "identity",
          "size": 0.0,
          "sampling": "none",
          "position": "dodge",
          "geom": "bar"
         },
         {
          "mapping": {
           "x": "names",
           "y": "scores",
           "ymin": "scoremin",
           "ymax": "scoremax"
          },
          "stat": "identity",
          "sampling": "none",
          "position": "dodge",
          "geom": "errorbar"
         }
        ],
        "caption": {
         "text": "ops/s - higher is better"
        }
       },
       "apply_color_scheme": true,
       "swing_enabled": true
      }
     },
     "metadata": {},
     "output_type": "display_data"
    },
    {
     "data": {
      "text/html": "            <iframe src='about:blank' style='border:none !important;' width='700' height='450' srcdoc=\"&lt;html lang=&quot;en&quot;>\n   &lt;head>\n       &lt;style> html, body { margin: 0; overflow: hidden; } &lt;/style>\n       &lt;script type=&quot;text/javascript&quot; data-lets-plot-script=&quot;library&quot; src=&quot;https://cdn.jsdelivr.net/gh/JetBrains/lets-plot@v4.0.1/js-package/distr/lets-plot.min.js&quot;>&lt;/script>\n   &lt;/head>\n   &lt;body>\n          &lt;div id=&quot;8wBtJg&quot;>&lt;/div>\n   &lt;script type=&quot;text/javascript&quot; data-lets-plot-script=&quot;plot&quot;>\n       var plotSpec={\n&quot;ggtitle&quot;:{\n&quot;text&quot;:&quot;net.ropes4k.test.bench.Insert2Benchmark&quot;\n},\n&quot;mapping&quot;:{\n},\n&quot;data&quot;:{\n&quot;scoremin&quot;:[121.58916969024327,0.3151941349954476,0.9541872805325177],\n&quot;scoremax&quot;:[128.04891587460833,0.3214035664650682,0.9846731185153154],\n&quot;names&quot;:[&quot;rope&quot;,&quot;string&quot;,&quot;stringbuffer&quot;],\n&quot;scores&quot;:[124.8190427824258,0.3182988507302579,0.9694301995239165]\n},\n&quot;ggsize&quot;:{\n&quot;width&quot;:700.0,\n&quot;height&quot;:450.0\n},\n&quot;kind&quot;:&quot;plot&quot;,\n&quot;scales&quot;:[{\n&quot;aesthetic&quot;:&quot;x&quot;,\n&quot;discrete&quot;:true\n},{\n&quot;aesthetic&quot;:&quot;y&quot;,\n&quot;limits&quot;:[null,null]\n},{\n&quot;aesthetic&quot;:&quot;x&quot;,\n&quot;discrete&quot;:true\n},{\n&quot;aesthetic&quot;:&quot;y&quot;,\n&quot;limits&quot;:[null,null]\n}],\n&quot;layers&quot;:[{\n&quot;mapping&quot;:{\n&quot;x&quot;:&quot;names&quot;,\n&quot;y&quot;:&quot;scores&quot;\n},\n&quot;stat&quot;:&quot;identity&quot;,\n&quot;size&quot;:0.0,\n&quot;sampling&quot;:&quot;none&quot;,\n&quot;position&quot;:&quot;dodge&quot;,\n&quot;geom&quot;:&quot;bar&quot;,\n&quot;data&quot;:{\n}\n},{\n&quot;mapping&quot;:{\n&quot;x&quot;:&quot;names&quot;,\n&quot;y&quot;:&quot;scores&quot;,\n&quot;ymin&quot;:&quot;scoremin&quot;,\n&quot;ymax&quot;:&quot;scoremax&quot;\n},\n&quot;stat&quot;:&quot;identity&quot;,\n&quot;sampling&quot;:&quot;none&quot;,\n&quot;position&quot;:&quot;dodge&quot;,\n&quot;geom&quot;:&quot;errorbar&quot;,\n&quot;data&quot;:{\n}\n}],\n&quot;caption&quot;:{\n&quot;text&quot;:&quot;ops/s - higher is better&quot;\n}\n};\n       var plotContainer = document.getElementById(&quot;8wBtJg&quot;);\n       LetsPlot.buildPlotFromProcessedSpecs(plotSpec, -1, -1, plotContainer);\n   &lt;/script>\n   &lt;/body>\n&lt;/html>\"></iframe>            <svg xmlns=\"http://www.w3.org/2000/svg\" xmlns:xlink=\"http://www.w3.org/1999/xlink\" class=\"plt-container\" id=e43e3947-5fca-4ef3-92d7-307f31550d9e width=\"100%\" height=\"100%\" style=\"max-width: 700.0px; max-height: 450.0px;\" viewBox=\"0 0 700.0 450.0\" preserveAspectRatio=\"xMinYMin meet\">\n  <style type=\"text/css\">\n  .plt-container {\n   font-family: Lucida Grande, sans-serif;\n   user-select: none;\n   -webkit-user-select: none;\n   -moz-user-select: none;\n   -ms-user-select: none;\n}\ntext {\n   text-rendering: optimizeLegibility;\n}\n#pX1RP9N .plot-title {\n   fill: #474747;\n   font-family: Lucida Grande, sans-serif;\n   font-size: 16.0px;\n   font-weight: normal;\n   font-style: normal;   \n}\n#pX1RP9N .plot-subtitle {\n   fill: #474747;\n   font-family: Lucida Grande, sans-serif;\n   font-size: 15.0px;\n   font-weight: normal;\n   font-style: normal;   \n}\n#pX1RP9N .plot-caption {\n   fill: #474747;\n   font-family: Lucida Grande, sans-serif;\n   font-size: 13.0px;\n   font-weight: normal;\n   font-style: normal;   \n}\n#pX1RP9N .legend-title {\n   fill: #474747;\n   font-family: Lucida Grande, sans-serif;\n   font-size: 15.0px;\n   font-weight: normal;\n   font-style: normal;   \n}\n#pX1RP9N .legend-item {\n   fill: #474747;\n   font-family: Lucida Grande, sans-serif;\n   font-size: 13.0px;\n   font-weight: normal;\n   font-style: normal;   \n}\n#pX1RP9N .axis-title-x {\n   fill: #474747;\n   font-family: Lucida Grande, sans-serif;\n   font-size: 15.0px;\n   font-weight: normal;\n   font-style: normal;   \n}\n#pX1RP9N .axis-text-x {\n   fill: #474747;\n   font-family: Lucida Grande, sans-serif;\n   font-size: 13.0px;\n   font-weight: normal;\n   font-style: normal;   \n}\n#dfCr2CN .axis-tooltip-text-x {\n   fill: #ffffff;\n   font-family: Lucida Grande, sans-serif;\n   font-size: 13.0px;\n   font-weight: normal;\n   font-style: normal;   \n}\n#pX1RP9N .axis-title-y {\n   fill: #474747;\n   font-family: Lucida Grande, sans-serif;\n   font-size: 15.0px;\n   font-weight: normal;\n   font-style: normal;   \n}\n#pX1RP9N .axis-text-y {\n   fill: #474747;\n   font-family: Lucida Grande, sans-serif;\n   font-size: 13.0px;\n   font-weight: normal;\n   font-style: normal;   \n}\n#dfCr2CN .axis-tooltip-text-y {\n   fill: #ffffff;\n   font-family: Lucida Grande, sans-serif;\n   font-size: 13.0px;\n   font-weight: normal;\n   font-style: normal;   \n}\n#pX1RP9N .facet-strip-text-x {\n   fill: #474747;\n   font-family: Lucida Grande, sans-serif;\n   font-size: 13.0px;\n   font-weight: normal;\n   font-style: normal;   \n}\n#pX1RP9N .facet-strip-text-y {\n   fill: #474747;\n   font-family: Lucida Grande, sans-serif;\n   font-size: 13.0px;\n   font-weight: normal;\n   font-style: normal;   \n}\n#dfCr2CN .tooltip-text {\n   fill: #474747;\n   font-family: Lucida Grande, sans-serif;\n   font-size: 13.0px;\n   font-weight: normal;\n   font-style: normal;   \n}\n#dfCr2CN .tooltip-title {\n   fill: #474747;\n   font-family: Lucida Grande, sans-serif;\n   font-size: 13.0px;\n   font-weight: bold;\n   font-style: normal;   \n}\n#dfCr2CN .tooltip-label {\n   fill: #474747;\n   font-family: Lucida Grande, sans-serif;\n   font-size: 13.0px;\n   font-weight: bold;\n   font-style: normal;   \n}\n\n  </style>\n  <g id=\"pX1RP9N\">\n    <path fill-rule=\"evenodd\" fill=\"rgb(255,255,255)\" fill-opacity=\"1.0\" d=\"M0.0 0.0 L0.0 450.0 L700.0 450.0 L700.0 0.0 Z\">\n    </path>\n    <g transform=\"translate(23.0 34.0 ) \">\n      <g transform=\"translate(29.941816366404606 349.0 ) \">\n        <line x1=\"125.48115738237483\" y1=\"-0.0\" x2=\"125.48115738237483\" y2=\"-349.0\" stroke=\"rgb(233,233,233)\" stroke-opacity=\"1.0\" stroke-width=\"1.0\">\n        </line>\n        <line x1=\"318.52909181679763\" y1=\"-0.0\" x2=\"318.52909181679763\" y2=\"-349.0\" stroke=\"rgb(233,233,233)\" stroke-opacity=\"1.0\" stroke-width=\"1.0\">\n        </line>\n        <line x1=\"511.57702625122045\" y1=\"-0.0\" x2=\"511.57702625122045\" y2=\"-349.0\" stroke=\"rgb(233,233,233)\" stroke-opacity=\"1.0\" stroke-width=\"1.0\">\n        </line>\n        <g transform=\"translate(125.48115738237483 0.0 ) \">\n          <line stroke-width=\"1.0\" stroke=\"rgb(71,71,71)\" stroke-opacity=\"1.0\" x2=\"0.0\" y2=\"4.0\">\n          </line>\n          <g transform=\"translate(0.0 7.0 ) \">\n            <text class=\"axis-text-x\" text-anchor=\"middle\" dy=\"0.7em\">\n            rope\n            </text>\n          </g>\n        </g>\n        <g transform=\"translate(318.52909181679763 0.0 ) \">\n          <line stroke-width=\"1.0\" stroke=\"rgb(71,71,71)\" stroke-opacity=\"1.0\" x2=\"0.0\" y2=\"4.0\">\n          </line>\n          <g transform=\"translate(0.0 7.0 ) \">\n            <text class=\"axis-text-x\" text-anchor=\"middle\" dy=\"0.7em\">\n            string\n            </text>\n          </g>\n        </g>\n        <g transform=\"translate(511.57702625122045 0.0 ) \">\n          <line stroke-width=\"1.0\" stroke=\"rgb(71,71,71)\" stroke-opacity=\"1.0\" x2=\"0.0\" y2=\"4.0\">\n          </line>\n          <g transform=\"translate(0.0 7.0 ) \">\n            <text class=\"axis-text-x\" text-anchor=\"middle\" dy=\"0.7em\">\n            stringbuffer\n            </text>\n          </g>\n        </g>\n        <line x1=\"0.0\" y1=\"0.0\" x2=\"637.0581836335954\" y2=\"0.0\" stroke-width=\"1.0\" stroke=\"rgb(71,71,71)\" stroke-opacity=\"1.0\">\n        </line>\n      </g>\n      <g transform=\"translate(29.941816366404606 0.0 ) \">\n        <line x1=\"0.0\" y1=\"297.08531566070644\" x2=\"637.0581836335954\" y2=\"297.08531566070644\" stroke=\"rgb(233,233,233)\" stroke-opacity=\"1.0\" stroke-width=\"1.0\">\n        </line>\n        <line x1=\"0.0\" y1=\"245.17063132141286\" x2=\"637.0581836335954\" y2=\"245.17063132141286\" stroke=\"rgb(233,233,233)\" stroke-opacity=\"1.0\" stroke-width=\"1.0\">\n        </line>\n        <line x1=\"0.0\" y1=\"193.2559469821193\" x2=\"637.0581836335954\" y2=\"193.2559469821193\" stroke=\"rgb(233,233,233)\" stroke-opacity=\"1.0\" stroke-width=\"1.0\">\n        </line>\n        <line x1=\"0.0\" y1=\"141.3412626428257\" x2=\"637.0581836335954\" y2=\"141.3412626428257\" stroke=\"rgb(233,233,233)\" stroke-opacity=\"1.0\" stroke-width=\"1.0\">\n        </line>\n        <line x1=\"0.0\" y1=\"89.42657830353215\" x2=\"637.0581836335954\" y2=\"89.42657830353215\" stroke=\"rgb(233,233,233)\" stroke-opacity=\"1.0\" stroke-width=\"1.0\">\n        </line>\n        <line x1=\"0.0\" y1=\"37.511893964238595\" x2=\"637.0581836335954\" y2=\"37.511893964238595\" stroke=\"rgb(233,233,233)\" stroke-opacity=\"1.0\" stroke-width=\"1.0\">\n        </line>\n        <g transform=\"translate(0.0 349.0 ) \">\n          <g transform=\"translate(-3.0 0.0 ) \">\n            <text class=\"axis-text-y\" text-anchor=\"end\" dy=\"0.35em\">\n            0\n            </text>\n          </g>\n        </g>\n        <g transform=\"translate(0.0 297.08531566070644 ) \">\n          <g transform=\"translate(-3.0 0.0 ) \">\n            <text class=\"axis-text-y\" text-anchor=\"end\" dy=\"0.35em\">\n            20\n            </text>\n          </g>\n        </g>\n        <g transform=\"translate(0.0 245.17063132141286 ) \">\n          <g transform=\"translate(-3.0 0.0 ) \">\n            <text class=\"axis-text-y\" text-anchor=\"end\" dy=\"0.35em\">\n            40\n            </text>\n          </g>\n        </g>\n        <g transform=\"translate(0.0 193.2559469821193 ) \">\n          <g transform=\"translate(-3.0 0.0 ) \">\n            <text class=\"axis-text-y\" text-anchor=\"end\" dy=\"0.35em\">\n            60\n            </text>\n          </g>\n        </g>\n        <g transform=\"translate(0.0 141.3412626428257 ) \">\n          <g transform=\"translate(-3.0 0.0 ) \">\n            <text class=\"axis-text-y\" text-anchor=\"end\" dy=\"0.35em\">\n            80\n            </text>\n          </g>\n        </g>\n        <g transform=\"translate(0.0 89.42657830353215 ) \">\n          <g transform=\"translate(-3.0 0.0 ) \">\n            <text class=\"axis-text-y\" text-anchor=\"end\" dy=\"0.35em\">\n            100\n            </text>\n          </g>\n        </g>\n        <g transform=\"translate(0.0 37.511893964238595 ) \">\n          <g transform=\"translate(-3.0 0.0 ) \">\n            <text class=\"axis-text-y\" text-anchor=\"end\" dy=\"0.35em\">\n            120\n            </text>\n          </g>\n        </g>\n      </g>\n      <g transform=\"translate(29.941816366404606 0.0 ) \" clip-path=\"url(#cZs6Jzn)\" clip-bounds-jfx=\"[rect (0.0, 0.0), (637.0581836335954, 349.0)]\">\n        <defs>\n          <clipPath id=\"cZs6Jzn\">\n            <rect x=\"0.0\" y=\"0.0\" width=\"637.0581836335954\" height=\"349.0\">\n            </rect>\n          </clipPath>\n        </defs>\n        <rect x=\"424.7054557557302\" y=\"346.48361686013686\" height=\"2.5163831398631373\" width=\"173.74314099098058\" stroke=\"rgb(255,255,255)\" stroke-opacity=\"1.0\" fill=\"rgb(17,142,216)\" fill-opacity=\"1.0\" stroke-width=\"0.0\">\n        </rect>\n        <rect x=\"231.6575213213074\" y=\"348.17378078193894\" height=\"0.8262192180610555\" width=\"173.74314099098052\" stroke=\"rgb(255,255,255)\" stroke-opacity=\"1.0\" fill=\"rgb(17,142,216)\" fill-opacity=\"1.0\" stroke-width=\"0.0\">\n        </rect>\n        <rect x=\"38.60958688688456\" y=\"25.002939720879283\" height=\"323.9970602791207\" width=\"173.74314099098055\" stroke=\"rgb(255,255,255)\" stroke-opacity=\"1.0\" fill=\"rgb(17,142,216)\" fill-opacity=\"1.0\" stroke-width=\"0.0\">\n        </rect>\n      </g>\n      <g transform=\"translate(29.941816366404606 0.0 ) \" clip-path=\"url(#cFtOW73)\" clip-bounds-jfx=\"[rect (0.0, 0.0), (637.0581836335954, 349.0)]\">\n        <defs>\n          <clipPath id=\"cFtOW73\">\n            <rect x=\"0.0\" y=\"0.0\" width=\"637.0581836335954\" height=\"349.0\">\n            </rect>\n          </clipPath>\n        </defs>\n        <g>\n          <line x1=\"82.0453721346297\" y1=\"33.386831822710974\" x2=\"168.91694263011996\" y2=\"33.386831822710974\" stroke=\"rgb(71,71,71)\" stroke-opacity=\"1.0\" fill=\"rgb(17,142,216)\" fill-opacity=\"1.0\" stroke-width=\"1.6500000000000001\">\n          </line>\n          <line x1=\"82.0453721346297\" y1=\"16.619047619047592\" x2=\"168.91694263011996\" y2=\"16.619047619047592\" stroke=\"rgb(71,71,71)\" stroke-opacity=\"1.0\" fill=\"rgb(17,142,216)\" fill-opacity=\"1.0\" stroke-width=\"1.6500000000000001\">\n          </line>\n          <line x1=\"125.48115738237483\" y1=\"33.386831822710974\" x2=\"125.48115738237483\" y2=\"16.619047619047592\" stroke=\"rgb(71,71,71)\" stroke-opacity=\"1.0\" fill=\"rgb(17,142,216)\" fill-opacity=\"1.0\" stroke-width=\"1.6500000000000001\">\n          </line>\n        </g>\n        <g>\n          <line x1=\"275.0933065690525\" y1=\"348.18183979880575\" x2=\"361.9648770645428\" y2=\"348.18183979880575\" stroke=\"rgb(71,71,71)\" stroke-opacity=\"1.0\" fill=\"rgb(17,142,216)\" fill-opacity=\"1.0\" stroke-width=\"1.6500000000000001\">\n          </line>\n          <line x1=\"275.0933065690525\" y1=\"348.16572176507213\" x2=\"361.9648770645428\" y2=\"348.16572176507213\" stroke=\"rgb(71,71,71)\" stroke-opacity=\"1.0\" fill=\"rgb(17,142,216)\" fill-opacity=\"1.0\" stroke-width=\"1.6500000000000001\">\n          </line>\n          <line x1=\"318.52909181679763\" y1=\"348.18183979880575\" x2=\"318.52909181679763\" y2=\"348.16572176507213\" stroke=\"rgb(71,71,71)\" stroke-opacity=\"1.0\" fill=\"rgb(17,142,216)\" fill-opacity=\"1.0\" stroke-width=\"1.6500000000000001\">\n          </line>\n        </g>\n        <g>\n          <line x1=\"468.1412410034753\" y1=\"346.5231834265293\" x2=\"555.0128114989657\" y2=\"346.5231834265293\" stroke=\"rgb(71,71,71)\" stroke-opacity=\"1.0\" fill=\"rgb(17,142,216)\" fill-opacity=\"1.0\" stroke-width=\"1.6500000000000001\">\n          </line>\n          <line x1=\"468.1412410034753\" y1=\"346.44405029374445\" x2=\"555.0128114989657\" y2=\"346.44405029374445\" stroke=\"rgb(71,71,71)\" stroke-opacity=\"1.0\" fill=\"rgb(17,142,216)\" fill-opacity=\"1.0\" stroke-width=\"1.6500000000000001\">\n          </line>\n          <line x1=\"511.57702625122045\" y1=\"346.5231834265293\" x2=\"511.57702625122045\" y2=\"346.44405029374445\" stroke=\"rgb(71,71,71)\" stroke-opacity=\"1.0\" fill=\"rgb(17,142,216)\" fill-opacity=\"1.0\" stroke-width=\"1.6500000000000001\">\n          </line>\n        </g>\n      </g>\n    </g>\n    <g transform=\"translate(52.94181636640461 15.2 ) \">\n      <text class=\"plot-title\" y=\"0.0\">\n      net.ropes4k.test.bench.Insert2Benchmark\n      </text>\n    </g>\n    <g transform=\"translate(14.5 208.5 ) rotate(-90.0 ) \">\n      <text class=\"axis-title-y\" y=\"0.0\" text-anchor=\"middle\">\n      scores\n      </text>\n    </g>\n    <g transform=\"translate(371.4709081832023 420.5 ) \">\n      <text class=\"axis-title-x\" y=\"0.0\" text-anchor=\"middle\">\n      names\n      </text>\n    </g>\n    <g transform=\"translate(690.0 442.1 ) \">\n      <text class=\"plot-caption\" y=\"0.0\" text-anchor=\"end\">\n      ops/s - higher is better\n      </text>\n    </g>\n    <path fill=\"rgb(0,0,0)\" fill-opacity=\"0.0\" stroke=\"rgb(71,71,71)\" stroke-opacity=\"1.0\" stroke-width=\"0.0\" d=\"M0.0 0.0 L0.0 450.0 L700.0 450.0 L700.0 0.0 Z\">\n    </path>\n  </g>\n  <g id=\"dfCr2CN\">\n  </g>\n</svg>\n        <script>document.getElementById(\"e43e3947-5fca-4ef3-92d7-307f31550d9e\").style.display = \"none\";</script>",
      "application/plot+json": {
       "output_type": "lets_plot_spec",
       "output": {
        "ggtitle": {
         "text": "net.ropes4k.test.bench.Insert2Benchmark"
        },
        "mapping": {},
        "data": {
         "scoremin": [
          121.58917,
          0.31519413,
          0.9541873
         ],
         "scoremax": [
          128.04892,
          0.32140356,
          0.98467314
         ],
         "names": [
          "rope",
          "string",
          "stringbuffer"
         ],
         "scores": [
          124.819046,
          0.31829885,
          0.9694302
         ]
        },
        "ggsize": {
         "width": 700.0,
         "height": 450.0
        },
        "kind": "plot",
        "scales": [
         {
          "aesthetic": "x",
          "discrete": true
         },
         {
          "aesthetic": "y",
          "limits": [
           null,
           null
          ]
         },
         {
          "aesthetic": "x",
          "discrete": true
         },
         {
          "aesthetic": "y",
          "limits": [
           null,
           null
          ]
         }
        ],
        "layers": [
         {
          "mapping": {
           "x": "names",
           "y": "scores"
          },
          "stat": "identity",
          "size": 0.0,
          "sampling": "none",
          "position": "dodge",
          "geom": "bar"
         },
         {
          "mapping": {
           "x": "names",
           "y": "scores",
           "ymin": "scoremin",
           "ymax": "scoremax"
          },
          "stat": "identity",
          "sampling": "none",
          "position": "dodge",
          "geom": "errorbar"
         }
        ],
        "caption": {
         "text": "ops/s - higher is better"
        }
       },
       "apply_color_scheme": true,
       "swing_enabled": true
      }
     },
     "metadata": {},
     "output_type": "display_data"
    },
    {
     "data": {
      "text/html": "            <iframe src='about:blank' style='border:none !important;' width='700' height='450' srcdoc=\"&lt;html lang=&quot;en&quot;>\n   &lt;head>\n       &lt;style> html, body { margin: 0; overflow: hidden; } &lt;/style>\n       &lt;script type=&quot;text/javascript&quot; data-lets-plot-script=&quot;library&quot; src=&quot;https://cdn.jsdelivr.net/gh/JetBrains/lets-plot@v4.0.1/js-package/distr/lets-plot.min.js&quot;>&lt;/script>\n   &lt;/head>\n   &lt;body>\n          &lt;div id=&quot;UkXf23&quot;>&lt;/div>\n   &lt;script type=&quot;text/javascript&quot; data-lets-plot-script=&quot;plot&quot;>\n       var plotSpec={\n&quot;ggtitle&quot;:{\n&quot;text&quot;:&quot;net.ropes4k.test.bench.PrependBenchmark&quot;\n},\n&quot;mapping&quot;:{\n},\n&quot;data&quot;:{\n&quot;scoremin&quot;:[577.2004696906741,1.777754997510729,3.583511639229661],\n&quot;scoremax&quot;:[582.597879666913,1.8938768136091597,4.182708489194148],\n&quot;names&quot;:[&quot;rope&quot;,&quot;string&quot;,&quot;stringbuffer&quot;],\n&quot;scores&quot;:[579.8991746787935,1.8358159055599443,3.8831100642119045]\n},\n&quot;ggsize&quot;:{\n&quot;width&quot;:700.0,\n&quot;height&quot;:450.0\n},\n&quot;kind&quot;:&quot;plot&quot;,\n&quot;scales&quot;:[{\n&quot;aesthetic&quot;:&quot;x&quot;,\n&quot;discrete&quot;:true\n},{\n&quot;aesthetic&quot;:&quot;y&quot;,\n&quot;limits&quot;:[null,null]\n},{\n&quot;aesthetic&quot;:&quot;x&quot;,\n&quot;discrete&quot;:true\n},{\n&quot;aesthetic&quot;:&quot;y&quot;,\n&quot;limits&quot;:[null,null]\n}],\n&quot;layers&quot;:[{\n&quot;mapping&quot;:{\n&quot;x&quot;:&quot;names&quot;,\n&quot;y&quot;:&quot;scores&quot;\n},\n&quot;stat&quot;:&quot;identity&quot;,\n&quot;size&quot;:0.0,\n&quot;sampling&quot;:&quot;none&quot;,\n&quot;position&quot;:&quot;dodge&quot;,\n&quot;geom&quot;:&quot;bar&quot;,\n&quot;data&quot;:{\n}\n},{\n&quot;mapping&quot;:{\n&quot;x&quot;:&quot;names&quot;,\n&quot;y&quot;:&quot;scores&quot;,\n&quot;ymin&quot;:&quot;scoremin&quot;,\n&quot;ymax&quot;:&quot;scoremax&quot;\n},\n&quot;stat&quot;:&quot;identity&quot;,\n&quot;sampling&quot;:&quot;none&quot;,\n&quot;position&quot;:&quot;dodge&quot;,\n&quot;geom&quot;:&quot;errorbar&quot;,\n&quot;data&quot;:{\n}\n}],\n&quot;caption&quot;:{\n&quot;text&quot;:&quot;ops/s - higher is better&quot;\n}\n};\n       var plotContainer = document.getElementById(&quot;UkXf23&quot;);\n       LetsPlot.buildPlotFromProcessedSpecs(plotSpec, -1, -1, plotContainer);\n   &lt;/script>\n   &lt;/body>\n&lt;/html>\"></iframe>            <svg xmlns=\"http://www.w3.org/2000/svg\" xmlns:xlink=\"http://www.w3.org/1999/xlink\" class=\"plt-container\" id=aee37332-68d2-4c04-835c-105d60da5ea7 width=\"100%\" height=\"100%\" style=\"max-width: 700.0px; max-height: 450.0px;\" viewBox=\"0 0 700.0 450.0\" preserveAspectRatio=\"xMinYMin meet\">\n  <style type=\"text/css\">\n  .plt-container {\n   font-family: Lucida Grande, sans-serif;\n   user-select: none;\n   -webkit-user-select: none;\n   -moz-user-select: none;\n   -ms-user-select: none;\n}\ntext {\n   text-rendering: optimizeLegibility;\n}\n#pXHv4tk .plot-title {\n   fill: #474747;\n   font-family: Lucida Grande, sans-serif;\n   font-size: 16.0px;\n   font-weight: normal;\n   font-style: normal;   \n}\n#pXHv4tk .plot-subtitle {\n   fill: #474747;\n   font-family: Lucida Grande, sans-serif;\n   font-size: 15.0px;\n   font-weight: normal;\n   font-style: normal;   \n}\n#pXHv4tk .plot-caption {\n   fill: #474747;\n   font-family: Lucida Grande, sans-serif;\n   font-size: 13.0px;\n   font-weight: normal;\n   font-style: normal;   \n}\n#pXHv4tk .legend-title {\n   fill: #474747;\n   font-family: Lucida Grande, sans-serif;\n   font-size: 15.0px;\n   font-weight: normal;\n   font-style: normal;   \n}\n#pXHv4tk .legend-item {\n   fill: #474747;\n   font-family: Lucida Grande, sans-serif;\n   font-size: 13.0px;\n   font-weight: normal;\n   font-style: normal;   \n}\n#pXHv4tk .axis-title-x {\n   fill: #474747;\n   font-family: Lucida Grande, sans-serif;\n   font-size: 15.0px;\n   font-weight: normal;\n   font-style: normal;   \n}\n#pXHv4tk .axis-text-x {\n   fill: #474747;\n   font-family: Lucida Grande, sans-serif;\n   font-size: 13.0px;\n   font-weight: normal;\n   font-style: normal;   \n}\n#di6YiYm .axis-tooltip-text-x {\n   fill: #ffffff;\n   font-family: Lucida Grande, sans-serif;\n   font-size: 13.0px;\n   font-weight: normal;\n   font-style: normal;   \n}\n#pXHv4tk .axis-title-y {\n   fill: #474747;\n   font-family: Lucida Grande, sans-serif;\n   font-size: 15.0px;\n   font-weight: normal;\n   font-style: normal;   \n}\n#pXHv4tk .axis-text-y {\n   fill: #474747;\n   font-family: Lucida Grande, sans-serif;\n   font-size: 13.0px;\n   font-weight: normal;\n   font-style: normal;   \n}\n#di6YiYm .axis-tooltip-text-y {\n   fill: #ffffff;\n   font-family: Lucida Grande, sans-serif;\n   font-size: 13.0px;\n   font-weight: normal;\n   font-style: normal;   \n}\n#pXHv4tk .facet-strip-text-x {\n   fill: #474747;\n   font-family: Lucida Grande, sans-serif;\n   font-size: 13.0px;\n   font-weight: normal;\n   font-style: normal;   \n}\n#pXHv4tk .facet-strip-text-y {\n   fill: #474747;\n   font-family: Lucida Grande, sans-serif;\n   font-size: 13.0px;\n   font-weight: normal;\n   font-style: normal;   \n}\n#di6YiYm .tooltip-text {\n   fill: #474747;\n   font-family: Lucida Grande, sans-serif;\n   font-size: 13.0px;\n   font-weight: normal;\n   font-style: normal;   \n}\n#di6YiYm .tooltip-title {\n   fill: #474747;\n   font-family: Lucida Grande, sans-serif;\n   font-size: 13.0px;\n   font-weight: bold;\n   font-style: normal;   \n}\n#di6YiYm .tooltip-label {\n   fill: #474747;\n   font-family: Lucida Grande, sans-serif;\n   font-size: 13.0px;\n   font-weight: bold;\n   font-style: normal;   \n}\n\n  </style>\n  <g id=\"pXHv4tk\">\n    <path fill-rule=\"evenodd\" fill=\"rgb(255,255,255)\" fill-opacity=\"1.0\" d=\"M0.0 0.0 L0.0 450.0 L700.0 450.0 L700.0 0.0 Z\">\n    </path>\n    <g transform=\"translate(23.0 34.0 ) \">\n      <g transform=\"translate(29.941816366404606 349.0 ) \">\n        <line x1=\"125.48115738237483\" y1=\"-0.0\" x2=\"125.48115738237483\" y2=\"-349.0\" stroke=\"rgb(233,233,233)\" stroke-opacity=\"1.0\" stroke-width=\"1.0\">\n        </line>\n        <line x1=\"318.52909181679763\" y1=\"-0.0\" x2=\"318.52909181679763\" y2=\"-349.0\" stroke=\"rgb(233,233,233)\" stroke-opacity=\"1.0\" stroke-width=\"1.0\">\n        </line>\n        <line x1=\"511.57702625122045\" y1=\"-0.0\" x2=\"511.57702625122045\" y2=\"-349.0\" stroke=\"rgb(233,233,233)\" stroke-opacity=\"1.0\" stroke-width=\"1.0\">\n        </line>\n        <g transform=\"translate(125.48115738237483 0.0 ) \">\n          <line stroke-width=\"1.0\" stroke=\"rgb(71,71,71)\" stroke-opacity=\"1.0\" x2=\"0.0\" y2=\"4.0\">\n          </line>\n          <g transform=\"translate(0.0 7.0 ) \">\n            <text class=\"axis-text-x\" text-anchor=\"middle\" dy=\"0.7em\">\n            rope\n            </text>\n          </g>\n        </g>\n        <g transform=\"translate(318.52909181679763 0.0 ) \">\n          <line stroke-width=\"1.0\" stroke=\"rgb(71,71,71)\" stroke-opacity=\"1.0\" x2=\"0.0\" y2=\"4.0\">\n          </line>\n          <g transform=\"translate(0.0 7.0 ) \">\n            <text class=\"axis-text-x\" text-anchor=\"middle\" dy=\"0.7em\">\n            string\n            </text>\n          </g>\n        </g>\n        <g transform=\"translate(511.57702625122045 0.0 ) \">\n          <line stroke-width=\"1.0\" stroke=\"rgb(71,71,71)\" stroke-opacity=\"1.0\" x2=\"0.0\" y2=\"4.0\">\n          </line>\n          <g transform=\"translate(0.0 7.0 ) \">\n            <text class=\"axis-text-x\" text-anchor=\"middle\" dy=\"0.7em\">\n            stringbuffer\n            </text>\n          </g>\n        </g>\n        <line x1=\"0.0\" y1=\"0.0\" x2=\"637.0581836335954\" y2=\"0.0\" stroke-width=\"1.0\" stroke=\"rgb(71,71,71)\" stroke-opacity=\"1.0\">\n        </line>\n      </g>\n      <g transform=\"translate(29.941816366404606 0.0 ) \">\n        <line x1=\"0.0\" y1=\"291.9484788768913\" x2=\"637.0581836335954\" y2=\"291.9484788768913\" stroke=\"rgb(233,233,233)\" stroke-opacity=\"1.0\" stroke-width=\"1.0\">\n        </line>\n        <line x1=\"0.0\" y1=\"234.89695775378254\" x2=\"637.0581836335954\" y2=\"234.89695775378254\" stroke=\"rgb(233,233,233)\" stroke-opacity=\"1.0\" stroke-width=\"1.0\">\n        </line>\n        <line x1=\"0.0\" y1=\"177.84543663067382\" x2=\"637.0581836335954\" y2=\"177.84543663067382\" stroke=\"rgb(233,233,233)\" stroke-opacity=\"1.0\" stroke-width=\"1.0\">\n        </line>\n        <line x1=\"0.0\" y1=\"120.79391550756509\" x2=\"637.0581836335954\" y2=\"120.79391550756509\" stroke=\"rgb(233,233,233)\" stroke-opacity=\"1.0\" stroke-width=\"1.0\">\n        </line>\n        <line x1=\"0.0\" y1=\"63.74239438445636\" x2=\"637.0581836335954\" y2=\"63.74239438445636\" stroke=\"rgb(233,233,233)\" stroke-opacity=\"1.0\" stroke-width=\"1.0\">\n        </line>\n        <line x1=\"0.0\" y1=\"6.690873261347633\" x2=\"637.0581836335954\" y2=\"6.690873261347633\" stroke=\"rgb(233,233,233)\" stroke-opacity=\"1.0\" stroke-width=\"1.0\">\n        </line>\n        <g transform=\"translate(0.0 349.0 ) \">\n          <g transform=\"translate(-3.0 0.0 ) \">\n            <text class=\"axis-text-y\" text-anchor=\"end\" dy=\"0.35em\">\n            0\n            </text>\n          </g>\n        </g>\n        <g transform=\"translate(0.0 291.9484788768913 ) \">\n          <g transform=\"translate(-3.0 0.0 ) \">\n            <text class=\"axis-text-y\" text-anchor=\"end\" dy=\"0.35em\">\n            100\n            </text>\n          </g>\n        </g>\n        <g transform=\"translate(0.0 234.89695775378254 ) \">\n          <g transform=\"translate(-3.0 0.0 ) \">\n            <text class=\"axis-text-y\" text-anchor=\"end\" dy=\"0.35em\">\n            200\n            </text>\n          </g>\n        </g>\n        <g transform=\"translate(0.0 177.84543663067382 ) \">\n          <g transform=\"translate(-3.0 0.0 ) \">\n            <text class=\"axis-text-y\" text-anchor=\"end\" dy=\"0.35em\">\n            300\n            </text>\n          </g>\n        </g>\n        <g transform=\"translate(0.0 120.79391550756509 ) \">\n          <g transform=\"translate(-3.0 0.0 ) \">\n            <text class=\"axis-text-y\" text-anchor=\"end\" dy=\"0.35em\">\n            400\n            </text>\n          </g>\n        </g>\n        <g transform=\"translate(0.0 63.74239438445636 ) \">\n          <g transform=\"translate(-3.0 0.0 ) \">\n            <text class=\"axis-text-y\" text-anchor=\"end\" dy=\"0.35em\">\n            500\n            </text>\n          </g>\n        </g>\n        <g transform=\"translate(0.0 6.690873261347633 ) \">\n          <g transform=\"translate(-3.0 0.0 ) \">\n            <text class=\"axis-text-y\" text-anchor=\"end\" dy=\"0.35em\">\n            600\n            </text>\n          </g>\n        </g>\n      </g>\n      <g transform=\"translate(29.941816366404606 0.0 ) \" clip-path=\"url(#cixP99Y)\" clip-bounds-jfx=\"[rect (0.0, 0.0), (637.0581836335954, 349.0)]\">\n        <defs>\n          <clipPath id=\"cixP99Y\">\n            <rect x=\"0.0\" y=\"0.0\" width=\"637.0581836335954\" height=\"349.0\">\n            </rect>\n          </clipPath>\n        </defs>\n        <rect x=\"424.7054557557302\" y=\"346.7846266414826\" height=\"2.215373358517411\" width=\"173.74314099098058\" stroke=\"rgb(255,255,255)\" stroke-opacity=\"1.0\" fill=\"rgb(17,142,216)\" fill-opacity=\"1.0\" stroke-width=\"0.0\">\n        </rect>\n        <rect x=\"231.6575213213074\" y=\"347.95263910085805\" height=\"1.0473608991419496\" width=\"173.74314099098052\" stroke=\"rgb(255,255,255)\" stroke-opacity=\"1.0\" fill=\"rgb(17,142,216)\" fill-opacity=\"1.0\" stroke-width=\"0.0\">\n        </rect>\n        <rect x=\"38.60958688688456\" y=\"18.158699865394908\" height=\"330.8413001346051\" width=\"173.74314099098055\" stroke=\"rgb(255,255,255)\" stroke-opacity=\"1.0\" fill=\"rgb(17,142,216)\" fill-opacity=\"1.0\" stroke-width=\"0.0\">\n        </rect>\n      </g>\n      <g transform=\"translate(29.941816366404606 0.0 ) \" clip-path=\"url(#cMKrc2S)\" clip-bounds-jfx=\"[rect (0.0, 0.0), (637.0581836335954, 349.0)]\">\n        <defs>\n          <clipPath id=\"cMKrc2S\">\n            <rect x=\"0.0\" y=\"0.0\" width=\"637.0581836335954\" height=\"349.0\">\n            </rect>\n          </clipPath>\n        </defs>\n        <g>\n          <line x1=\"82.0453721346297\" y1=\"19.698352111742224\" x2=\"168.91694263011996\" y2=\"19.698352111742224\" stroke=\"rgb(71,71,71)\" stroke-opacity=\"1.0\" fill=\"rgb(17,142,216)\" fill-opacity=\"1.0\" stroke-width=\"1.6500000000000001\">\n          </line>\n          <line x1=\"82.0453721346297\" y1=\"16.619047619047592\" x2=\"168.91694263011996\" y2=\"16.619047619047592\" stroke=\"rgb(71,71,71)\" stroke-opacity=\"1.0\" fill=\"rgb(17,142,216)\" fill-opacity=\"1.0\" stroke-width=\"1.6500000000000001\">\n          </line>\n          <line x1=\"125.48115738237483\" y1=\"19.698352111742224\" x2=\"125.48115738237483\" y2=\"16.619047619047592\" stroke=\"rgb(71,71,71)\" stroke-opacity=\"1.0\" fill=\"rgb(17,142,216)\" fill-opacity=\"1.0\" stroke-width=\"1.6500000000000001\">\n          </line>\n        </g>\n        <g>\n          <line x1=\"275.0933065690525\" y1=\"347.98576373207806\" x2=\"361.9648770645428\" y2=\"347.98576373207806\" stroke=\"rgb(71,71,71)\" stroke-opacity=\"1.0\" fill=\"rgb(17,142,216)\" fill-opacity=\"1.0\" stroke-width=\"1.6500000000000001\">\n          </line>\n          <line x1=\"275.0933065690525\" y1=\"347.9195144696381\" x2=\"361.9648770645428\" y2=\"347.9195144696381\" stroke=\"rgb(71,71,71)\" stroke-opacity=\"1.0\" fill=\"rgb(17,142,216)\" fill-opacity=\"1.0\" stroke-width=\"1.6500000000000001\">\n          </line>\n          <line x1=\"318.52909181679763\" y1=\"347.98576373207806\" x2=\"318.52909181679763\" y2=\"347.9195144696381\" stroke=\"rgb(71,71,71)\" stroke-opacity=\"1.0\" fill=\"rgb(17,142,216)\" fill-opacity=\"1.0\" stroke-width=\"1.6500000000000001\">\n          </line>\n        </g>\n        <g>\n          <line x1=\"468.1412410034753\" y1=\"346.9555521001958\" x2=\"555.0128114989657\" y2=\"346.9555521001958\" stroke=\"rgb(71,71,71)\" stroke-opacity=\"1.0\" fill=\"rgb(17,142,216)\" fill-opacity=\"1.0\" stroke-width=\"1.6500000000000001\">\n          </line>\n          <line x1=\"468.1412410034753\" y1=\"346.6137011827693\" x2=\"555.0128114989657\" y2=\"346.6137011827693\" stroke=\"rgb(71,71,71)\" stroke-opacity=\"1.0\" fill=\"rgb(17,142,216)\" fill-opacity=\"1.0\" stroke-width=\"1.6500000000000001\">\n          </line>\n          <line x1=\"511.57702625122045\" y1=\"346.9555521001958\" x2=\"511.57702625122045\" y2=\"346.6137011827693\" stroke=\"rgb(71,71,71)\" stroke-opacity=\"1.0\" fill=\"rgb(17,142,216)\" fill-opacity=\"1.0\" stroke-width=\"1.6500000000000001\">\n          </line>\n        </g>\n      </g>\n    </g>\n    <g transform=\"translate(52.94181636640461 15.2 ) \">\n      <text class=\"plot-title\" y=\"0.0\">\n      net.ropes4k.test.bench.PrependBenchmark\n      </text>\n    </g>\n    <g transform=\"translate(14.5 208.5 ) rotate(-90.0 ) \">\n      <text class=\"axis-title-y\" y=\"0.0\" text-anchor=\"middle\">\n      scores\n      </text>\n    </g>\n    <g transform=\"translate(371.4709081832023 420.5 ) \">\n      <text class=\"axis-title-x\" y=\"0.0\" text-anchor=\"middle\">\n      names\n      </text>\n    </g>\n    <g transform=\"translate(690.0 442.1 ) \">\n      <text class=\"plot-caption\" y=\"0.0\" text-anchor=\"end\">\n      ops/s - higher is better\n      </text>\n    </g>\n    <path fill=\"rgb(0,0,0)\" fill-opacity=\"0.0\" stroke=\"rgb(71,71,71)\" stroke-opacity=\"1.0\" stroke-width=\"0.0\" d=\"M0.0 0.0 L0.0 450.0 L700.0 450.0 L700.0 0.0 Z\">\n    </path>\n  </g>\n  <g id=\"di6YiYm\">\n  </g>\n</svg>\n        <script>document.getElementById(\"aee37332-68d2-4c04-835c-105d60da5ea7\").style.display = \"none\";</script>",
      "application/plot+json": {
       "output_type": "lets_plot_spec",
       "output": {
        "ggtitle": {
         "text": "net.ropes4k.test.bench.PrependBenchmark"
        },
        "mapping": {},
        "data": {
         "scoremin": [
          577.20044,
          1.777755,
          3.5835116
         ],
         "scoremax": [
          582.5979,
          1.8938768,
          4.1827083
         ],
         "names": [
          "rope",
          "string",
          "stringbuffer"
         ],
         "scores": [
          579.8992,
          1.8358159,
          3.88311
         ]
        },
        "ggsize": {
         "width": 700.0,
         "height": 450.0
        },
        "kind": "plot",
        "scales": [
         {
          "aesthetic": "x",
          "discrete": true
         },
         {
          "aesthetic": "y",
          "limits": [
           null,
           null
          ]
         },
         {
          "aesthetic": "x",
          "discrete": true
         },
         {
          "aesthetic": "y",
          "limits": [
           null,
           null
          ]
         }
        ],
        "layers": [
         {
          "mapping": {
           "x": "names",
           "y": "scores"
          },
          "stat": "identity",
          "size": 0.0,
          "sampling": "none",
          "position": "dodge",
          "geom": "bar"
         },
         {
          "mapping": {
           "x": "names",
           "y": "scores",
           "ymin": "scoremin",
           "ymax": "scoremax"
          },
          "stat": "identity",
          "sampling": "none",
          "position": "dodge",
          "geom": "errorbar"
         }
        ],
        "caption": {
         "text": "ops/s - higher is better"
        }
       },
       "apply_color_scheme": true,
       "swing_enabled": true
      }
     },
     "metadata": {},
     "output_type": "display_data"
    },
    {
     "data": {
      "text/html": "            <iframe src='about:blank' style='border:none !important;' width='700' height='450' srcdoc=\"&lt;html lang=&quot;en&quot;>\n   &lt;head>\n       &lt;style> html, body { margin: 0; overflow: hidden; } &lt;/style>\n       &lt;script type=&quot;text/javascript&quot; data-lets-plot-script=&quot;library&quot; src=&quot;https://cdn.jsdelivr.net/gh/JetBrains/lets-plot@v4.0.1/js-package/distr/lets-plot.min.js&quot;>&lt;/script>\n   &lt;/head>\n   &lt;body>\n          &lt;div id=&quot;eelqBg&quot;>&lt;/div>\n   &lt;script type=&quot;text/javascript&quot; data-lets-plot-script=&quot;plot&quot;>\n       var plotSpec={\n&quot;ggtitle&quot;:{\n&quot;text&quot;:&quot;net.ropes4k.test.bench.RegexSimpleBenchmark&quot;\n},\n&quot;mapping&quot;:{\n},\n&quot;data&quot;:{\n&quot;scoremin&quot;:[3628.09448798889,8183.965414199403,3526.72573501224,9159.25279534108,3759.920692844499,8840.831961037857,3279.983147155674,7913.934920192038],\n&quot;scoremax&quot;:[3772.7072760659016,9928.057275444,4076.561150219476,9357.172200438492,3855.1654712262043,9311.424024306976,3814.8523988828006,8998.07330000064],\n&quot;names&quot;:[&quot;rope1&quot;,&quot;rope2&quot;,&quot;ropeMatcher1&quot;,&quot;ropeMatcher2&quot;,&quot;string1&quot;,&quot;string2&quot;,&quot;stringbuffer1&quot;,&quot;stringbuffer2&quot;],\n&quot;scores&quot;:[3700.4008820273957,9056.011344821702,3801.643442615858,9258.212497889786,3807.5430820353517,9076.127992672416,3547.4177730192373,8456.004110096339]\n},\n&quot;ggsize&quot;:{\n&quot;width&quot;:700.0,\n&quot;height&quot;:450.0\n},\n&quot;kind&quot;:&quot;plot&quot;,\n&quot;scales&quot;:[{\n&quot;aesthetic&quot;:&quot;x&quot;,\n&quot;discrete&quot;:true\n},{\n&quot;aesthetic&quot;:&quot;y&quot;,\n&quot;limits&quot;:[null,null]\n},{\n&quot;aesthetic&quot;:&quot;x&quot;,\n&quot;discrete&quot;:true\n},{\n&quot;aesthetic&quot;:&quot;y&quot;,\n&quot;limits&quot;:[null,null]\n}],\n&quot;layers&quot;:[{\n&quot;mapping&quot;:{\n&quot;x&quot;:&quot;names&quot;,\n&quot;y&quot;:&quot;scores&quot;\n},\n&quot;stat&quot;:&quot;identity&quot;,\n&quot;size&quot;:0.0,\n&quot;sampling&quot;:&quot;none&quot;,\n&quot;position&quot;:&quot;dodge&quot;,\n&quot;geom&quot;:&quot;bar&quot;,\n&quot;data&quot;:{\n}\n},{\n&quot;mapping&quot;:{\n&quot;x&quot;:&quot;names&quot;,\n&quot;y&quot;:&quot;scores&quot;,\n&quot;ymin&quot;:&quot;scoremin&quot;,\n&quot;ymax&quot;:&quot;scoremax&quot;\n},\n&quot;stat&quot;:&quot;identity&quot;,\n&quot;sampling&quot;:&quot;none&quot;,\n&quot;position&quot;:&quot;dodge&quot;,\n&quot;geom&quot;:&quot;errorbar&quot;,\n&quot;data&quot;:{\n}\n}],\n&quot;caption&quot;:{\n&quot;text&quot;:&quot;ops/s - higher is better&quot;\n}\n};\n       var plotContainer = document.getElementById(&quot;eelqBg&quot;);\n       LetsPlot.buildPlotFromProcessedSpecs(plotSpec, -1, -1, plotContainer);\n   &lt;/script>\n   &lt;/body>\n&lt;/html>\"></iframe>            <svg xmlns=\"http://www.w3.org/2000/svg\" xmlns:xlink=\"http://www.w3.org/1999/xlink\" class=\"plt-container\" id=0c22220d-0f96-4098-9636-23c85a9a232a width=\"100%\" height=\"100%\" style=\"max-width: 700.0px; max-height: 450.0px;\" viewBox=\"0 0 700.0 450.0\" preserveAspectRatio=\"xMinYMin meet\">\n  <style type=\"text/css\">\n  .plt-container {\n   font-family: Lucida Grande, sans-serif;\n   user-select: none;\n   -webkit-user-select: none;\n   -moz-user-select: none;\n   -ms-user-select: none;\n}\ntext {\n   text-rendering: optimizeLegibility;\n}\n#pk1sz4J .plot-title {\n   fill: #474747;\n   font-family: Lucida Grande, sans-serif;\n   font-size: 16.0px;\n   font-weight: normal;\n   font-style: normal;   \n}\n#pk1sz4J .plot-subtitle {\n   fill: #474747;\n   font-family: Lucida Grande, sans-serif;\n   font-size: 15.0px;\n   font-weight: normal;\n   font-style: normal;   \n}\n#pk1sz4J .plot-caption {\n   fill: #474747;\n   font-family: Lucida Grande, sans-serif;\n   font-size: 13.0px;\n   font-weight: normal;\n   font-style: normal;   \n}\n#pk1sz4J .legend-title {\n   fill: #474747;\n   font-family: Lucida Grande, sans-serif;\n   font-size: 15.0px;\n   font-weight: normal;\n   font-style: normal;   \n}\n#pk1sz4J .legend-item {\n   fill: #474747;\n   font-family: Lucida Grande, sans-serif;\n   font-size: 13.0px;\n   font-weight: normal;\n   font-style: normal;   \n}\n#pk1sz4J .axis-title-x {\n   fill: #474747;\n   font-family: Lucida Grande, sans-serif;\n   font-size: 15.0px;\n   font-weight: normal;\n   font-style: normal;   \n}\n#pk1sz4J .axis-text-x {\n   fill: #474747;\n   font-family: Lucida Grande, sans-serif;\n   font-size: 13.0px;\n   font-weight: normal;\n   font-style: normal;   \n}\n#dGH7ne9 .axis-tooltip-text-x {\n   fill: #ffffff;\n   font-family: Lucida Grande, sans-serif;\n   font-size: 13.0px;\n   font-weight: normal;\n   font-style: normal;   \n}\n#pk1sz4J .axis-title-y {\n   fill: #474747;\n   font-family: Lucida Grande, sans-serif;\n   font-size: 15.0px;\n   font-weight: normal;\n   font-style: normal;   \n}\n#pk1sz4J .axis-text-y {\n   fill: #474747;\n   font-family: Lucida Grande, sans-serif;\n   font-size: 13.0px;\n   font-weight: normal;\n   font-style: normal;   \n}\n#dGH7ne9 .axis-tooltip-text-y {\n   fill: #ffffff;\n   font-family: Lucida Grande, sans-serif;\n   font-size: 13.0px;\n   font-weight: normal;\n   font-style: normal;   \n}\n#pk1sz4J .facet-strip-text-x {\n   fill: #474747;\n   font-family: Lucida Grande, sans-serif;\n   font-size: 13.0px;\n   font-weight: normal;\n   font-style: normal;   \n}\n#pk1sz4J .facet-strip-text-y {\n   fill: #474747;\n   font-family: Lucida Grande, sans-serif;\n   font-size: 13.0px;\n   font-weight: normal;\n   font-style: normal;   \n}\n#dGH7ne9 .tooltip-text {\n   fill: #474747;\n   font-family: Lucida Grande, sans-serif;\n   font-size: 13.0px;\n   font-weight: normal;\n   font-style: normal;   \n}\n#dGH7ne9 .tooltip-title {\n   fill: #474747;\n   font-family: Lucida Grande, sans-serif;\n   font-size: 13.0px;\n   font-weight: bold;\n   font-style: normal;   \n}\n#dGH7ne9 .tooltip-label {\n   fill: #474747;\n   font-family: Lucida Grande, sans-serif;\n   font-size: 13.0px;\n   font-weight: bold;\n   font-style: normal;   \n}\n\n  </style>\n  <g id=\"pk1sz4J\">\n    <path fill-rule=\"evenodd\" fill=\"rgb(255,255,255)\" fill-opacity=\"1.0\" d=\"M0.0 0.0 L0.0 450.0 L700.0 450.0 L700.0 0.0 Z\">\n    </path>\n    <g transform=\"translate(23.0 34.0 ) \">\n      <g transform=\"translate(50.97651758668602 333.4 ) \">\n        <line x1=\"48.24280283959688\" y1=\"-0.0\" x2=\"48.24280283959688\" y2=\"-333.4\" stroke=\"rgb(233,233,233)\" stroke-opacity=\"1.0\" stroke-width=\"1.0\">\n        </line>\n        <line x1=\"122.46249951589976\" y1=\"-0.0\" x2=\"122.46249951589976\" y2=\"-333.4\" stroke=\"rgb(233,233,233)\" stroke-opacity=\"1.0\" stroke-width=\"1.0\">\n        </line>\n        <line x1=\"196.68219619220264\" y1=\"-0.0\" x2=\"196.68219619220264\" y2=\"-333.4\" stroke=\"rgb(233,233,233)\" stroke-opacity=\"1.0\" stroke-width=\"1.0\">\n        </line>\n        <line x1=\"270.90189286850557\" y1=\"-0.0\" x2=\"270.90189286850557\" y2=\"-333.4\" stroke=\"rgb(233,233,233)\" stroke-opacity=\"1.0\" stroke-width=\"1.0\">\n        </line>\n        <line x1=\"345.12158954480844\" y1=\"-0.0\" x2=\"345.12158954480844\" y2=\"-333.4\" stroke=\"rgb(233,233,233)\" stroke-opacity=\"1.0\" stroke-width=\"1.0\">\n        </line>\n        <line x1=\"419.3412862211113\" y1=\"-0.0\" x2=\"419.3412862211113\" y2=\"-333.4\" stroke=\"rgb(233,233,233)\" stroke-opacity=\"1.0\" stroke-width=\"1.0\">\n        </line>\n        <line x1=\"493.56098289741425\" y1=\"-0.0\" x2=\"493.56098289741425\" y2=\"-333.4\" stroke=\"rgb(233,233,233)\" stroke-opacity=\"1.0\" stroke-width=\"1.0\">\n        </line>\n        <line x1=\"567.7806795737171\" y1=\"-0.0\" x2=\"567.7806795737171\" y2=\"-333.4\" stroke=\"rgb(233,233,233)\" stroke-opacity=\"1.0\" stroke-width=\"1.0\">\n        </line>\n        <g transform=\"translate(48.24280283959688 0.0 ) \">\n          <line stroke-width=\"1.0\" stroke=\"rgb(71,71,71)\" stroke-opacity=\"1.0\" x2=\"0.0\" y2=\"4.0\">\n          </line>\n          <g transform=\"translate(0.0 7.0 ) \">\n            <text class=\"axis-text-x\" text-anchor=\"middle\" dy=\"0.7em\">\n            rope1\n            </text>\n          </g>\n        </g>\n        <g transform=\"translate(122.46249951589976 0.0 ) \">\n          <line stroke-width=\"1.0\" stroke=\"rgb(71,71,71)\" stroke-opacity=\"1.0\" x2=\"0.0\" y2=\"4.0\">\n          </line>\n          <g transform=\"translate(0.0 22.6 ) \">\n            <text class=\"axis-text-x\" text-anchor=\"middle\" dy=\"0.7em\">\n            rope2\n            </text>\n          </g>\n        </g>\n        <g transform=\"translate(196.68219619220264 0.0 ) \">\n          <line stroke-width=\"1.0\" stroke=\"rgb(71,71,71)\" stroke-opacity=\"1.0\" x2=\"0.0\" y2=\"4.0\">\n          </line>\n          <g transform=\"translate(0.0 7.0 ) \">\n            <text class=\"axis-text-x\" text-anchor=\"middle\" dy=\"0.7em\">\n            ropeMatcher1\n            </text>\n          </g>\n        </g>\n        <g transform=\"translate(270.90189286850557 0.0 ) \">\n          <line stroke-width=\"1.0\" stroke=\"rgb(71,71,71)\" stroke-opacity=\"1.0\" x2=\"0.0\" y2=\"4.0\">\n          </line>\n          <g transform=\"translate(0.0 22.6 ) \">\n            <text class=\"axis-text-x\" text-anchor=\"middle\" dy=\"0.7em\">\n            ropeMatcher2\n            </text>\n          </g>\n        </g>\n        <g transform=\"translate(345.12158954480844 0.0 ) \">\n          <line stroke-width=\"1.0\" stroke=\"rgb(71,71,71)\" stroke-opacity=\"1.0\" x2=\"0.0\" y2=\"4.0\">\n          </line>\n          <g transform=\"translate(0.0 7.0 ) \">\n            <text class=\"axis-text-x\" text-anchor=\"middle\" dy=\"0.7em\">\n            string1\n            </text>\n          </g>\n        </g>\n        <g transform=\"translate(419.3412862211113 0.0 ) \">\n          <line stroke-width=\"1.0\" stroke=\"rgb(71,71,71)\" stroke-opacity=\"1.0\" x2=\"0.0\" y2=\"4.0\">\n          </line>\n          <g transform=\"translate(0.0 22.6 ) \">\n            <text class=\"axis-text-x\" text-anchor=\"middle\" dy=\"0.7em\">\n            string2\n            </text>\n          </g>\n        </g>\n        <g transform=\"translate(493.56098289741425 0.0 ) \">\n          <line stroke-width=\"1.0\" stroke=\"rgb(71,71,71)\" stroke-opacity=\"1.0\" x2=\"0.0\" y2=\"4.0\">\n          </line>\n          <g transform=\"translate(0.0 7.0 ) \">\n            <text class=\"axis-text-x\" text-anchor=\"middle\" dy=\"0.7em\">\n            stringbuffer1\n            </text>\n          </g>\n        </g>\n        <g transform=\"translate(567.7806795737171 0.0 ) \">\n          <line stroke-width=\"1.0\" stroke=\"rgb(71,71,71)\" stroke-opacity=\"1.0\" x2=\"0.0\" y2=\"4.0\">\n          </line>\n          <g transform=\"translate(0.0 22.6 ) \">\n            <text class=\"axis-text-x\" text-anchor=\"middle\" dy=\"0.7em\">\n            stringbuffer2\n            </text>\n          </g>\n        </g>\n        <line x1=\"0.0\" y1=\"0.0\" x2=\"616.023482413314\" y2=\"0.0\" stroke-width=\"1.0\" stroke=\"rgb(71,71,71)\" stroke-opacity=\"1.0\">\n        </line>\n      </g>\n      <g transform=\"translate(50.97651758668602 0.0 ) \">\n        <line x1=\"0.0\" y1=\"269.4350568667304\" x2=\"616.023482413314\" y2=\"269.4350568667304\" stroke=\"rgb(233,233,233)\" stroke-opacity=\"1.0\" stroke-width=\"1.0\">\n        </line>\n        <line x1=\"0.0\" y1=\"205.47011373346078\" x2=\"616.023482413314\" y2=\"205.47011373346078\" stroke=\"rgb(233,233,233)\" stroke-opacity=\"1.0\" stroke-width=\"1.0\">\n        </line>\n        <line x1=\"0.0\" y1=\"141.50517060019118\" x2=\"616.023482413314\" y2=\"141.50517060019118\" stroke=\"rgb(233,233,233)\" stroke-opacity=\"1.0\" stroke-width=\"1.0\">\n        </line>\n        <line x1=\"0.0\" y1=\"77.54022746692158\" x2=\"616.023482413314\" y2=\"77.54022746692158\" stroke=\"rgb(233,233,233)\" stroke-opacity=\"1.0\" stroke-width=\"1.0\">\n        </line>\n        <line x1=\"0.0\" y1=\"13.57528433365195\" x2=\"616.023482413314\" y2=\"13.57528433365195\" stroke=\"rgb(233,233,233)\" stroke-opacity=\"1.0\" stroke-width=\"1.0\">\n        </line>\n        <g transform=\"translate(0.0 333.4 ) \">\n          <g transform=\"translate(-3.0 0.0 ) \">\n            <text class=\"axis-text-y\" text-anchor=\"end\" dy=\"0.35em\">\n            0\n            </text>\n          </g>\n        </g>\n        <g transform=\"translate(0.0 269.4350568667304 ) \">\n          <g transform=\"translate(-3.0 0.0 ) \">\n            <text class=\"axis-text-y\" text-anchor=\"end\" dy=\"0.35em\">\n            2,000\n            </text>\n          </g>\n        </g>\n        <g transform=\"translate(0.0 205.47011373346078 ) \">\n          <g transform=\"translate(-3.0 0.0 ) \">\n            <text class=\"axis-text-y\" text-anchor=\"end\" dy=\"0.35em\">\n            4,000\n            </text>\n          </g>\n        </g>\n        <g transform=\"translate(0.0 141.50517060019118 ) \">\n          <g transform=\"translate(-3.0 0.0 ) \">\n            <text class=\"axis-text-y\" text-anchor=\"end\" dy=\"0.35em\">\n            6,000\n            </text>\n          </g>\n        </g>\n        <g transform=\"translate(0.0 77.54022746692158 ) \">\n          <g transform=\"translate(-3.0 0.0 ) \">\n            <text class=\"axis-text-y\" text-anchor=\"end\" dy=\"0.35em\">\n            8,000\n            </text>\n          </g>\n        </g>\n        <g transform=\"translate(0.0 13.57528433365195 ) \">\n          <g transform=\"translate(-3.0 0.0 ) \">\n            <text class=\"axis-text-y\" text-anchor=\"end\" dy=\"0.35em\">\n            10,000\n            </text>\n          </g>\n        </g>\n      </g>\n      <g transform=\"translate(50.97651758668602 0.0 ) \" clip-path=\"url(#cmJuYVl)\" clip-bounds-jfx=\"[rect (0.0, 0.0), (616.023482413314, 333.4)]\">\n        <defs>\n          <clipPath id=\"cmJuYVl\">\n            <rect x=\"0.0\" y=\"0.0\" width=\"616.023482413314\" height=\"333.4\">\n            </rect>\n          </clipPath>\n        </defs>\n        <rect x=\"534.3818160693808\" y=\"62.956088981496805\" height=\"270.4439110185032\" width=\"66.79772700867261\" stroke=\"rgb(255,255,255)\" stroke-opacity=\"1.0\" fill=\"rgb(17,142,216)\" fill-opacity=\"1.0\" stroke-width=\"0.0\">\n        </rect>\n        <rect x=\"460.1621193930779\" y=\"219.94481193943727\" height=\"113.4551880605627\" width=\"66.79772700867261\" stroke=\"rgb(255,255,255)\" stroke-opacity=\"1.0\" fill=\"rgb(17,142,216)\" fill-opacity=\"1.0\" stroke-width=\"0.0\">\n        </rect>\n        <rect x=\"385.942422716775\" y=\"43.12299453921622\" height=\"290.27700546078376\" width=\"66.79772700867261\" stroke=\"rgb(255,255,255)\" stroke-opacity=\"1.0\" fill=\"rgb(17,142,216)\" fill-opacity=\"1.0\" stroke-width=\"0.0\">\n        </rect>\n        <rect x=\"311.72272604047214\" y=\"211.6253616400673\" height=\"121.77463835993268\" width=\"66.79772700867261\" stroke=\"rgb(255,255,255)\" stroke-opacity=\"1.0\" fill=\"rgb(17,142,216)\" fill-opacity=\"1.0\" stroke-width=\"0.0\">\n        </rect>\n        <rect x=\"237.5030293641692\" y=\"37.29948202837693\" height=\"296.10051797162305\" width=\"66.79772700867261\" stroke=\"rgb(255,255,255)\" stroke-opacity=\"1.0\" fill=\"rgb(17,142,216)\" fill-opacity=\"1.0\" stroke-width=\"0.0\">\n        </rect>\n        <rect x=\"163.28333268786636\" y=\"211.81404669005468\" height=\"121.5859533099453\" width=\"66.79772700867258\" stroke=\"rgb(255,255,255)\" stroke-opacity=\"1.0\" fill=\"rgb(17,142,216)\" fill-opacity=\"1.0\" stroke-width=\"0.0\">\n        </rect>\n        <rect x=\"89.06363601156346\" y=\"43.76637465711775\" height=\"289.6336253428822\" width=\"66.79772700867261\" stroke=\"rgb(255,255,255)\" stroke-opacity=\"1.0\" fill=\"rgb(17,142,216)\" fill-opacity=\"1.0\" stroke-width=\"0.0\">\n        </rect>\n        <rect x=\"14.843939335260579\" y=\"215.05203400540847\" height=\"118.3479659945915\" width=\"66.79772700867258\" stroke=\"rgb(255,255,255)\" stroke-opacity=\"1.0\" fill=\"rgb(17,142,216)\" fill-opacity=\"1.0\" stroke-width=\"0.0\">\n        </rect>\n      </g>\n      <g transform=\"translate(50.97651758668602 0.0 ) \" clip-path=\"url(#clV97Ny)\" clip-bounds-jfx=\"[rect (0.0, 0.0), (616.023482413314, 333.4)]\">\n        <defs>\n          <clipPath id=\"clV97Ny\">\n            <rect x=\"0.0\" y=\"0.0\" width=\"616.023482413314\" height=\"333.4\">\n            </rect>\n          </clipPath>\n        </defs>\n        <g>\n          <line x1=\"31.543371087428728\" y1=\"217.36457119683087\" x2=\"64.94223459176503\" y2=\"217.36457119683087\" stroke=\"rgb(71,71,71)\" stroke-opacity=\"1.0\" fill=\"rgb(17,142,216)\" fill-opacity=\"1.0\" stroke-width=\"1.6500000000000001\">\n          </line>\n          <line x1=\"31.543371087428728\" y1=\"212.73949681398605\" x2=\"64.94223459176503\" y2=\"212.73949681398605\" stroke=\"rgb(71,71,71)\" stroke-opacity=\"1.0\" fill=\"rgb(17,142,216)\" fill-opacity=\"1.0\" stroke-width=\"1.6500000000000001\">\n          </line>\n          <line x1=\"48.24280283959688\" y1=\"217.36457119683087\" x2=\"48.24280283959688\" y2=\"212.73949681398605\" stroke=\"rgb(71,71,71)\" stroke-opacity=\"1.0\" fill=\"rgb(17,142,216)\" fill-opacity=\"1.0\" stroke-width=\"1.6500000000000001\">\n          </line>\n        </g>\n        <g>\n          <line x1=\"105.76306776373161\" y1=\"71.65655883804499\" x2=\"139.16193126806792\" y2=\"71.65655883804499\" stroke=\"rgb(71,71,71)\" stroke-opacity=\"1.0\" fill=\"rgb(17,142,216)\" fill-opacity=\"1.0\" stroke-width=\"1.6500000000000001\">\n          </line>\n          <line x1=\"105.76306776373161\" y1=\"15.876190476190516\" x2=\"139.16193126806792\" y2=\"15.876190476190516\" stroke=\"rgb(71,71,71)\" stroke-opacity=\"1.0\" fill=\"rgb(17,142,216)\" fill-opacity=\"1.0\" stroke-width=\"1.6500000000000001\">\n          </line>\n          <line x1=\"122.46249951589976\" y1=\"71.65655883804499\" x2=\"122.46249951589976\" y2=\"15.876190476190516\" stroke=\"rgb(71,71,71)\" stroke-opacity=\"1.0\" fill=\"rgb(17,142,216)\" fill-opacity=\"1.0\" stroke-width=\"1.6500000000000001\">\n          </line>\n        </g>\n        <g>\n          <line x1=\"179.9827644400345\" y1=\"220.6065944566518\" x2=\"213.3816279443708\" y2=\"220.6065944566518\" stroke=\"rgb(71,71,71)\" stroke-opacity=\"1.0\" fill=\"rgb(17,142,216)\" fill-opacity=\"1.0\" stroke-width=\"1.6500000000000001\">\n          </line>\n          <line x1=\"179.9827644400345\" y1=\"203.02149892345753\" x2=\"213.3816279443708\" y2=\"203.02149892345753\" stroke=\"rgb(71,71,71)\" stroke-opacity=\"1.0\" fill=\"rgb(17,142,216)\" fill-opacity=\"1.0\" stroke-width=\"1.6500000000000001\">\n          </line>\n          <line x1=\"196.68219619220264\" y1=\"220.6065944566518\" x2=\"196.68219619220264\" y2=\"203.02149892345753\" stroke=\"rgb(71,71,71)\" stroke-opacity=\"1.0\" fill=\"rgb(17,142,216)\" fill-opacity=\"1.0\" stroke-width=\"1.6500000000000001\">\n          </line>\n        </g>\n        <g>\n          <line x1=\"254.20246111633736\" y1=\"40.464457901383525\" x2=\"287.6013246206737\" y2=\"40.464457901383525\" stroke=\"rgb(71,71,71)\" stroke-opacity=\"1.0\" fill=\"rgb(17,142,216)\" fill-opacity=\"1.0\" stroke-width=\"1.6500000000000001\">\n          </line>\n          <line x1=\"254.20246111633736\" y1=\"34.13450615537033\" x2=\"287.6013246206737\" y2=\"34.13450615537033\" stroke=\"rgb(71,71,71)\" stroke-opacity=\"1.0\" fill=\"rgb(17,142,216)\" fill-opacity=\"1.0\" stroke-width=\"1.6500000000000001\">\n          </line>\n          <line x1=\"270.90189286850557\" y1=\"40.464457901383525\" x2=\"270.90189286850557\" y2=\"34.13450615537033\" stroke=\"rgb(71,71,71)\" stroke-opacity=\"1.0\" fill=\"rgb(17,142,216)\" fill-opacity=\"1.0\" stroke-width=\"1.6500000000000001\">\n          </line>\n        </g>\n        <g>\n          <line x1=\"328.4221577926403\" y1=\"213.14844334829897\" x2=\"361.82102129697654\" y2=\"213.14844334829897\" stroke=\"rgb(71,71,71)\" stroke-opacity=\"1.0\" fill=\"rgb(17,142,216)\" fill-opacity=\"1.0\" stroke-width=\"1.6500000000000001\">\n          </line>\n          <line x1=\"328.4221577926403\" y1=\"210.10227993183565\" x2=\"361.82102129697654\" y2=\"210.10227993183565\" stroke=\"rgb(71,71,71)\" stroke-opacity=\"1.0\" fill=\"rgb(17,142,216)\" fill-opacity=\"1.0\" stroke-width=\"1.6500000000000001\">\n          </line>\n          <line x1=\"345.12158954480844\" y1=\"213.14844334829897\" x2=\"345.12158954480844\" y2=\"210.10227993183565\" stroke=\"rgb(71,71,71)\" stroke-opacity=\"1.0\" fill=\"rgb(17,142,216)\" fill-opacity=\"1.0\" stroke-width=\"1.6500000000000001\">\n          </line>\n        </g>\n        <g>\n          <line x1=\"402.6418544689432\" y1=\"50.648343180710526\" x2=\"436.0407179732795\" y2=\"50.648343180710526\" stroke=\"rgb(71,71,71)\" stroke-opacity=\"1.0\" fill=\"rgb(17,142,216)\" fill-opacity=\"1.0\" stroke-width=\"1.6500000000000001\">\n          </line>\n          <line x1=\"402.6418544689432\" y1=\"35.59764589772192\" x2=\"436.0407179732795\" y2=\"35.59764589772192\" stroke=\"rgb(71,71,71)\" stroke-opacity=\"1.0\" fill=\"rgb(17,142,216)\" fill-opacity=\"1.0\" stroke-width=\"1.6500000000000001\">\n          </line>\n          <line x1=\"419.3412862211113\" y1=\"50.648343180710526\" x2=\"419.3412862211113\" y2=\"35.59764589772192\" stroke=\"rgb(71,71,71)\" stroke-opacity=\"1.0\" fill=\"rgb(17,142,216)\" fill-opacity=\"1.0\" stroke-width=\"1.6500000000000001\">\n          </line>\n        </g>\n        <g>\n          <line x1=\"476.8615511452461\" y1=\"228.4980322570523\" x2=\"510.2604146495824\" y2=\"228.4980322570523\" stroke=\"rgb(71,71,71)\" stroke-opacity=\"1.0\" fill=\"rgb(17,142,216)\" fill-opacity=\"1.0\" stroke-width=\"1.6500000000000001\">\n          </line>\n          <line x1=\"476.8615511452461\" y1=\"211.39159162182224\" x2=\"510.2604146495824\" y2=\"211.39159162182224\" stroke=\"rgb(71,71,71)\" stroke-opacity=\"1.0\" fill=\"rgb(17,142,216)\" fill-opacity=\"1.0\" stroke-width=\"1.6500000000000001\">\n          </line>\n          <line x1=\"493.56098289741425\" y1=\"228.4980322570523\" x2=\"493.56098289741425\" y2=\"211.39159162182224\" stroke=\"rgb(71,71,71)\" stroke-opacity=\"1.0\" fill=\"rgb(17,142,216)\" fill-opacity=\"1.0\" stroke-width=\"1.6500000000000001\">\n          </line>\n        </g>\n        <g>\n          <line x1=\"551.0812478215489\" y1=\"80.2928014347599\" x2=\"584.4801113258852\" y2=\"80.2928014347599\" stroke=\"rgb(71,71,71)\" stroke-opacity=\"1.0\" fill=\"rgb(17,142,216)\" fill-opacity=\"1.0\" stroke-width=\"1.6500000000000001\">\n          </line>\n          <line x1=\"551.0812478215489\" y1=\"45.619376528233715\" x2=\"584.4801113258852\" y2=\"45.619376528233715\" stroke=\"rgb(71,71,71)\" stroke-opacity=\"1.0\" fill=\"rgb(17,142,216)\" fill-opacity=\"1.0\" stroke-width=\"1.6500000000000001\">\n          </line>\n          <line x1=\"567.7806795737171\" y1=\"80.2928014347599\" x2=\"567.7806795737171\" y2=\"45.619376528233715\" stroke=\"rgb(71,71,71)\" stroke-opacity=\"1.0\" fill=\"rgb(17,142,216)\" fill-opacity=\"1.0\" stroke-width=\"1.6500000000000001\">\n          </line>\n        </g>\n      </g>\n    </g>\n    <g transform=\"translate(73.97651758668601 15.2 ) \">\n      <text class=\"plot-title\" y=\"0.0\">\n      net.ropes4k.test.bench.RegexSimpleBenchmark\n      </text>\n    </g>\n    <g transform=\"translate(14.5 200.7 ) rotate(-90.0 ) \">\n      <text class=\"axis-title-y\" y=\"0.0\" text-anchor=\"middle\">\n      scores\n      </text>\n    </g>\n    <g transform=\"translate(381.988258793343 420.5 ) \">\n      <text class=\"axis-title-x\" y=\"0.0\" text-anchor=\"middle\">\n      names\n      </text>\n    </g>\n    <g transform=\"translate(690.0 442.1 ) \">\n      <text class=\"plot-caption\" y=\"0.0\" text-anchor=\"end\">\n      ops/s - higher is better\n      </text>\n    </g>\n    <path fill=\"rgb(0,0,0)\" fill-opacity=\"0.0\" stroke=\"rgb(71,71,71)\" stroke-opacity=\"1.0\" stroke-width=\"0.0\" d=\"M0.0 0.0 L0.0 450.0 L700.0 450.0 L700.0 0.0 Z\">\n    </path>\n  </g>\n  <g id=\"dGH7ne9\">\n  </g>\n</svg>\n        <script>document.getElementById(\"0c22220d-0f96-4098-9636-23c85a9a232a\").style.display = \"none\";</script>",
      "application/plot+json": {
       "output_type": "lets_plot_spec",
       "output": {
        "ggtitle": {
         "text": "net.ropes4k.test.bench.RegexSimpleBenchmark"
        },
        "mapping": {},
        "data": {
         "scoremin": [
          3628.0945,
          8183.9653,
          3526.7258,
          9159.253,
          3759.9207,
          8840.832,
          3279.9832,
          7913.935
         ],
         "scoremax": [
          3772.7073,
          9928.058,
          4076.561,
          9357.172,
          3855.1655,
          9311.424,
          3814.8523,
          8998.073
         ],
         "names": [
          "rope1",
          "rope2",
          "ropeMatcher1",
          "ropeMatcher2",
          "string1",
          "string2",
          "stringbuffer1",
          "stringbuffer2"
         ],
         "scores": [
          3700.401,
          9056.012,
          3801.6436,
          9258.213,
          3807.543,
          9076.128,
          3547.4177,
          8456.004
         ]
        },
        "ggsize": {
         "width": 700.0,
         "height": 450.0
        },
        "kind": "plot",
        "scales": [
         {
          "aesthetic": "x",
          "discrete": true
         },
         {
          "aesthetic": "y",
          "limits": [
           null,
           null
          ]
         },
         {
          "aesthetic": "x",
          "discrete": true
         },
         {
          "aesthetic": "y",
          "limits": [
           null,
           null
          ]
         }
        ],
        "layers": [
         {
          "mapping": {
           "x": "names",
           "y": "scores"
          },
          "stat": "identity",
          "size": 0.0,
          "sampling": "none",
          "position": "dodge",
          "geom": "bar"
         },
         {
          "mapping": {
           "x": "names",
           "y": "scores",
           "ymin": "scoremin",
           "ymax": "scoremax"
          },
          "stat": "identity",
          "sampling": "none",
          "position": "dodge",
          "geom": "errorbar"
         }
        ],
        "caption": {
         "text": "ops/s - higher is better"
        }
       },
       "apply_color_scheme": true,
       "swing_enabled": true
      }
     },
     "metadata": {},
     "output_type": "display_data"
    },
    {
     "data": {
      "text/html": "            <iframe src='about:blank' style='border:none !important;' width='700' height='450' srcdoc=\"&lt;html lang=&quot;en&quot;>\n   &lt;head>\n       &lt;style> html, body { margin: 0; overflow: hidden; } &lt;/style>\n       &lt;script type=&quot;text/javascript&quot; data-lets-plot-script=&quot;library&quot; src=&quot;https://cdn.jsdelivr.net/gh/JetBrains/lets-plot@v4.0.1/js-package/distr/lets-plot.min.js&quot;>&lt;/script>\n   &lt;/head>\n   &lt;body>\n          &lt;div id=&quot;UQcfHa&quot;>&lt;/div>\n   &lt;script type=&quot;text/javascript&quot; data-lets-plot-script=&quot;plot&quot;>\n       var plotSpec={\n&quot;ggtitle&quot;:{\n&quot;text&quot;:&quot;net.ropes4k.test.bench.SearchSimpleBenchmark&quot;\n},\n&quot;mapping&quot;:{\n},\n&quot;data&quot;:{\n&quot;scoremin&quot;:[12212.539380776912,11436.111326517637,12417.865623700503],\n&quot;scoremax&quot;:[12886.357658307896,30910.35376017837,27685.850433991785],\n&quot;names&quot;:[&quot;rope&quot;,&quot;string&quot;,&quot;stringbuilder&quot;],\n&quot;scores&quot;:[12549.448519542404,21173.232543348004,20051.858028846145]\n},\n&quot;ggsize&quot;:{\n&quot;width&quot;:700.0,\n&quot;height&quot;:450.0\n},\n&quot;kind&quot;:&quot;plot&quot;,\n&quot;scales&quot;:[{\n&quot;aesthetic&quot;:&quot;x&quot;,\n&quot;discrete&quot;:true\n},{\n&quot;aesthetic&quot;:&quot;y&quot;,\n&quot;limits&quot;:[null,null]\n},{\n&quot;aesthetic&quot;:&quot;x&quot;,\n&quot;discrete&quot;:true\n},{\n&quot;aesthetic&quot;:&quot;y&quot;,\n&quot;limits&quot;:[null,null]\n}],\n&quot;layers&quot;:[{\n&quot;mapping&quot;:{\n&quot;x&quot;:&quot;names&quot;,\n&quot;y&quot;:&quot;scores&quot;\n},\n&quot;stat&quot;:&quot;identity&quot;,\n&quot;size&quot;:0.0,\n&quot;sampling&quot;:&quot;none&quot;,\n&quot;position&quot;:&quot;dodge&quot;,\n&quot;geom&quot;:&quot;bar&quot;,\n&quot;data&quot;:{\n}\n},{\n&quot;mapping&quot;:{\n&quot;x&quot;:&quot;names&quot;,\n&quot;y&quot;:&quot;scores&quot;,\n&quot;ymin&quot;:&quot;scoremin&quot;,\n&quot;ymax&quot;:&quot;scoremax&quot;\n},\n&quot;stat&quot;:&quot;identity&quot;,\n&quot;sampling&quot;:&quot;none&quot;,\n&quot;position&quot;:&quot;dodge&quot;,\n&quot;geom&quot;:&quot;errorbar&quot;,\n&quot;data&quot;:{\n}\n}],\n&quot;caption&quot;:{\n&quot;text&quot;:&quot;ops/s - higher is better&quot;\n}\n};\n       var plotContainer = document.getElementById(&quot;UQcfHa&quot;);\n       LetsPlot.buildPlotFromProcessedSpecs(plotSpec, -1, -1, plotContainer);\n   &lt;/script>\n   &lt;/body>\n&lt;/html>\"></iframe>            <svg xmlns=\"http://www.w3.org/2000/svg\" xmlns:xlink=\"http://www.w3.org/1999/xlink\" class=\"plt-container\" id=4367753f-5b0c-495f-868d-b6ec366fbaef width=\"100%\" height=\"100%\" style=\"max-width: 700.0px; max-height: 450.0px;\" viewBox=\"0 0 700.0 450.0\" preserveAspectRatio=\"xMinYMin meet\">\n  <style type=\"text/css\">\n  .plt-container {\n   font-family: Lucida Grande, sans-serif;\n   user-select: none;\n   -webkit-user-select: none;\n   -moz-user-select: none;\n   -ms-user-select: none;\n}\ntext {\n   text-rendering: optimizeLegibility;\n}\n#pWifxJV .plot-title {\n   fill: #474747;\n   font-family: Lucida Grande, sans-serif;\n   font-size: 16.0px;\n   font-weight: normal;\n   font-style: normal;   \n}\n#pWifxJV .plot-subtitle {\n   fill: #474747;\n   font-family: Lucida Grande, sans-serif;\n   font-size: 15.0px;\n   font-weight: normal;\n   font-style: normal;   \n}\n#pWifxJV .plot-caption {\n   fill: #474747;\n   font-family: Lucida Grande, sans-serif;\n   font-size: 13.0px;\n   font-weight: normal;\n   font-style: normal;   \n}\n#pWifxJV .legend-title {\n   fill: #474747;\n   font-family: Lucida Grande, sans-serif;\n   font-size: 15.0px;\n   font-weight: normal;\n   font-style: normal;   \n}\n#pWifxJV .legend-item {\n   fill: #474747;\n   font-family: Lucida Grande, sans-serif;\n   font-size: 13.0px;\n   font-weight: normal;\n   font-style: normal;   \n}\n#pWifxJV .axis-title-x {\n   fill: #474747;\n   font-family: Lucida Grande, sans-serif;\n   font-size: 15.0px;\n   font-weight: normal;\n   font-style: normal;   \n}\n#pWifxJV .axis-text-x {\n   fill: #474747;\n   font-family: Lucida Grande, sans-serif;\n   font-size: 13.0px;\n   font-weight: normal;\n   font-style: normal;   \n}\n#dwL3I6n .axis-tooltip-text-x {\n   fill: #ffffff;\n   font-family: Lucida Grande, sans-serif;\n   font-size: 13.0px;\n   font-weight: normal;\n   font-style: normal;   \n}\n#pWifxJV .axis-title-y {\n   fill: #474747;\n   font-family: Lucida Grande, sans-serif;\n   font-size: 15.0px;\n   font-weight: normal;\n   font-style: normal;   \n}\n#pWifxJV .axis-text-y {\n   fill: #474747;\n   font-family: Lucida Grande, sans-serif;\n   font-size: 13.0px;\n   font-weight: normal;\n   font-style: normal;   \n}\n#dwL3I6n .axis-tooltip-text-y {\n   fill: #ffffff;\n   font-family: Lucida Grande, sans-serif;\n   font-size: 13.0px;\n   font-weight: normal;\n   font-style: normal;   \n}\n#pWifxJV .facet-strip-text-x {\n   fill: #474747;\n   font-family: Lucida Grande, sans-serif;\n   font-size: 13.0px;\n   font-weight: normal;\n   font-style: normal;   \n}\n#pWifxJV .facet-strip-text-y {\n   fill: #474747;\n   font-family: Lucida Grande, sans-serif;\n   font-size: 13.0px;\n   font-weight: normal;\n   font-style: normal;   \n}\n#dwL3I6n .tooltip-text {\n   fill: #474747;\n   font-family: Lucida Grande, sans-serif;\n   font-size: 13.0px;\n   font-weight: normal;\n   font-style: normal;   \n}\n#dwL3I6n .tooltip-title {\n   fill: #474747;\n   font-family: Lucida Grande, sans-serif;\n   font-size: 13.0px;\n   font-weight: bold;\n   font-style: normal;   \n}\n#dwL3I6n .tooltip-label {\n   fill: #474747;\n   font-family: Lucida Grande, sans-serif;\n   font-size: 13.0px;\n   font-weight: bold;\n   font-style: normal;   \n}\n\n  </style>\n  <g id=\"pWifxJV\">\n    <path fill-rule=\"evenodd\" fill=\"rgb(255,255,255)\" fill-opacity=\"1.0\" d=\"M0.0 0.0 L0.0 450.0 L700.0 450.0 L700.0 0.0 Z\">\n    </path>\n    <g transform=\"translate(23.0 34.0 ) \">\n      <g transform=\"translate(50.97651758668602 349.0 ) \">\n        <line x1=\"121.33795865716792\" y1=\"-0.0\" x2=\"121.33795865716792\" y2=\"-349.0\" stroke=\"rgb(233,233,233)\" stroke-opacity=\"1.0\" stroke-width=\"1.0\">\n        </line>\n        <line x1=\"308.011741206657\" y1=\"-0.0\" x2=\"308.011741206657\" y2=\"-349.0\" stroke=\"rgb(233,233,233)\" stroke-opacity=\"1.0\" stroke-width=\"1.0\">\n        </line>\n        <line x1=\"494.6855237561461\" y1=\"-0.0\" x2=\"494.6855237561461\" y2=\"-349.0\" stroke=\"rgb(233,233,233)\" stroke-opacity=\"1.0\" stroke-width=\"1.0\">\n        </line>\n        <g transform=\"translate(121.33795865716792 0.0 ) \">\n          <line stroke-width=\"1.0\" stroke=\"rgb(71,71,71)\" stroke-opacity=\"1.0\" x2=\"0.0\" y2=\"4.0\">\n          </line>\n          <g transform=\"translate(0.0 7.0 ) \">\n            <text class=\"axis-text-x\" text-anchor=\"middle\" dy=\"0.7em\">\n            rope\n            </text>\n          </g>\n        </g>\n        <g transform=\"translate(308.011741206657 0.0 ) \">\n          <line stroke-width=\"1.0\" stroke=\"rgb(71,71,71)\" stroke-opacity=\"1.0\" x2=\"0.0\" y2=\"4.0\">\n          </line>\n          <g transform=\"translate(0.0 7.0 ) \">\n            <text class=\"axis-text-x\" text-anchor=\"middle\" dy=\"0.7em\">\n            string\n            </text>\n          </g>\n        </g>\n        <g transform=\"translate(494.6855237561461 0.0 ) \">\n          <line stroke-width=\"1.0\" stroke=\"rgb(71,71,71)\" stroke-opacity=\"1.0\" x2=\"0.0\" y2=\"4.0\">\n          </line>\n          <g transform=\"translate(0.0 7.0 ) \">\n            <text class=\"axis-text-x\" text-anchor=\"middle\" dy=\"0.7em\">\n            stringbuilder\n            </text>\n          </g>\n        </g>\n        <line x1=\"0.0\" y1=\"0.0\" x2=\"616.023482413314\" y2=\"0.0\" stroke-width=\"1.0\" stroke=\"rgb(71,71,71)\" stroke-opacity=\"1.0\">\n        </line>\n      </g>\n      <g transform=\"translate(50.97651758668602 0.0 ) \">\n        <line x1=\"0.0\" y1=\"295.2346896836301\" x2=\"616.023482413314\" y2=\"295.2346896836301\" stroke=\"rgb(233,233,233)\" stroke-opacity=\"1.0\" stroke-width=\"1.0\">\n        </line>\n        <line x1=\"0.0\" y1=\"241.46937936726016\" x2=\"616.023482413314\" y2=\"241.46937936726016\" stroke=\"rgb(233,233,233)\" stroke-opacity=\"1.0\" stroke-width=\"1.0\">\n        </line>\n        <line x1=\"0.0\" y1=\"187.70406905089024\" x2=\"616.023482413314\" y2=\"187.70406905089024\" stroke=\"rgb(233,233,233)\" stroke-opacity=\"1.0\" stroke-width=\"1.0\">\n        </line>\n        <line x1=\"0.0\" y1=\"133.93875873452032\" x2=\"616.023482413314\" y2=\"133.93875873452032\" stroke=\"rgb(233,233,233)\" stroke-opacity=\"1.0\" stroke-width=\"1.0\">\n        </line>\n        <line x1=\"0.0\" y1=\"80.17344841815037\" x2=\"616.023482413314\" y2=\"80.17344841815037\" stroke=\"rgb(233,233,233)\" stroke-opacity=\"1.0\" stroke-width=\"1.0\">\n        </line>\n        <line x1=\"0.0\" y1=\"26.40813810178048\" x2=\"616.023482413314\" y2=\"26.40813810178048\" stroke=\"rgb(233,233,233)\" stroke-opacity=\"1.0\" stroke-width=\"1.0\">\n        </line>\n        <g transform=\"translate(0.0 349.0 ) \">\n          <g transform=\"translate(-3.0 0.0 ) \">\n            <text class=\"axis-text-y\" text-anchor=\"end\" dy=\"0.35em\">\n            0\n            </text>\n          </g>\n        </g>\n        <g transform=\"translate(0.0 295.2346896836301 ) \">\n          <g transform=\"translate(-3.0 0.0 ) \">\n            <text class=\"axis-text-y\" text-anchor=\"end\" dy=\"0.35em\">\n            5,000\n            </text>\n          </g>\n        </g>\n        <g transform=\"translate(0.0 241.46937936726016 ) \">\n          <g transform=\"translate(-3.0 0.0 ) \">\n            <text class=\"axis-text-y\" text-anchor=\"end\" dy=\"0.35em\">\n            10,000\n            </text>\n          </g>\n        </g>\n        <g transform=\"translate(0.0 187.70406905089024 ) \">\n          <g transform=\"translate(-3.0 0.0 ) \">\n            <text class=\"axis-text-y\" text-anchor=\"end\" dy=\"0.35em\">\n            15,000\n            </text>\n          </g>\n        </g>\n        <g transform=\"translate(0.0 133.93875873452032 ) \">\n          <g transform=\"translate(-3.0 0.0 ) \">\n            <text class=\"axis-text-y\" text-anchor=\"end\" dy=\"0.35em\">\n            20,000\n            </text>\n          </g>\n        </g>\n        <g transform=\"translate(0.0 80.17344841815037 ) \">\n          <g transform=\"translate(-3.0 0.0 ) \">\n            <text class=\"axis-text-y\" text-anchor=\"end\" dy=\"0.35em\">\n            25,000\n            </text>\n          </g>\n        </g>\n        <g transform=\"translate(0.0 26.40813810178048 ) \">\n          <g transform=\"translate(-3.0 0.0 ) \">\n            <text class=\"axis-text-y\" text-anchor=\"end\" dy=\"0.35em\">\n            30,000\n            </text>\n          </g>\n        </g>\n      </g>\n      <g transform=\"translate(50.97651758668602 0.0 ) \" clip-path=\"url(#chTT10X)\" clip-bounds-jfx=\"[rect (0.0, 0.0), (616.023482413314, 349.0)]\">\n        <defs>\n          <clipPath id=\"chTT10X\">\n            <rect x=\"0.0\" y=\"0.0\" width=\"616.023482413314\" height=\"349.0\">\n            </rect>\n          </clipPath>\n        </defs>\n        <rect x=\"410.682321608876\" y=\"133.38112613185868\" height=\"215.61887386814132\" width=\"168.0064042945403\" stroke=\"rgb(255,255,255)\" stroke-opacity=\"1.0\" fill=\"rgb(17,142,216)\" fill-opacity=\"1.0\" stroke-width=\"0.0\">\n        </rect>\n        <rect x=\"224.00853905938692\" y=\"121.32291638124644\" height=\"227.67708361875356\" width=\"168.00640429454023\" stroke=\"rgb(255,255,255)\" stroke-opacity=\"1.0\" fill=\"rgb(17,142,216)\" fill-opacity=\"1.0\" stroke-width=\"0.0\">\n        </rect>\n        <rect x=\"37.33475650989783\" y=\"214.05500120949873\" height=\"134.94499879050127\" width=\"168.00640429454018\" stroke=\"rgb(255,255,255)\" stroke-opacity=\"1.0\" fill=\"rgb(17,142,216)\" fill-opacity=\"1.0\" stroke-width=\"0.0\">\n        </rect>\n      </g>\n      <g transform=\"translate(50.97651758668602 0.0 ) \" clip-path=\"url(#cKtmSJv)\" clip-bounds-jfx=\"[rect (0.0, 0.0), (616.023482413314, 349.0)]\">\n        <defs>\n          <clipPath id=\"cKtmSJv\">\n            <rect x=\"0.0\" y=\"0.0\" width=\"616.023482413314\" height=\"349.0\">\n            </rect>\n          </clipPath>\n        </defs>\n        <g>\n          <line x1=\"79.33635758353287\" y1=\"217.67780608832823\" x2=\"163.33955973080296\" y2=\"217.67780608832823\" stroke=\"rgb(71,71,71)\" stroke-opacity=\"1.0\" fill=\"rgb(17,142,216)\" fill-opacity=\"1.0\" stroke-width=\"1.6500000000000001\">\n          </line>\n          <line x1=\"79.33635758353287\" y1=\"210.4321963306692\" x2=\"163.33955973080296\" y2=\"210.4321963306692\" stroke=\"rgb(71,71,71)\" stroke-opacity=\"1.0\" fill=\"rgb(17,142,216)\" fill-opacity=\"1.0\" stroke-width=\"1.6500000000000001\">\n          </line>\n          <line x1=\"121.33795865716792\" y1=\"217.67780608832823\" x2=\"121.33795865716792\" y2=\"210.4321963306692\" stroke=\"rgb(71,71,71)\" stroke-opacity=\"1.0\" fill=\"rgb(17,142,216)\" fill-opacity=\"1.0\" stroke-width=\"1.6500000000000001\">\n          </line>\n        </g>\n        <g>\n          <line x1=\"266.010140133022\" y1=\"226.0267851434453\" x2=\"350.0133422802921\" y2=\"226.0267851434453\" stroke=\"rgb(71,71,71)\" stroke-opacity=\"1.0\" fill=\"rgb(17,142,216)\" fill-opacity=\"1.0\" stroke-width=\"1.6500000000000001\">\n          </line>\n          <line x1=\"266.010140133022\" y1=\"16.61904761904765\" x2=\"350.0133422802921\" y2=\"16.61904761904765\" stroke=\"rgb(71,71,71)\" stroke-opacity=\"1.0\" fill=\"rgb(17,142,216)\" fill-opacity=\"1.0\" stroke-width=\"1.6500000000000001\">\n          </line>\n          <line x1=\"308.011741206657\" y1=\"226.0267851434453\" x2=\"308.011741206657\" y2=\"16.61904761904765\" stroke=\"rgb(71,71,71)\" stroke-opacity=\"1.0\" fill=\"rgb(17,142,216)\" fill-opacity=\"1.0\" stroke-width=\"1.6500000000000001\">\n          </line>\n        </g>\n        <g>\n          <line x1=\"452.683922682511\" y1=\"215.46992025495197\" x2=\"536.6871248297812\" y2=\"215.46992025495197\" stroke=\"rgb(71,71,71)\" stroke-opacity=\"1.0\" fill=\"rgb(17,142,216)\" fill-opacity=\"1.0\" stroke-width=\"1.6500000000000001\">\n          </line>\n          <line x1=\"452.683922682511\" y1=\"51.29233200876536\" x2=\"536.6871248297812\" y2=\"51.29233200876536\" stroke=\"rgb(71,71,71)\" stroke-opacity=\"1.0\" fill=\"rgb(17,142,216)\" fill-opacity=\"1.0\" stroke-width=\"1.6500000000000001\">\n          </line>\n          <line x1=\"494.6855237561461\" y1=\"215.46992025495197\" x2=\"494.6855237561461\" y2=\"51.29233200876536\" stroke=\"rgb(71,71,71)\" stroke-opacity=\"1.0\" fill=\"rgb(17,142,216)\" fill-opacity=\"1.0\" stroke-width=\"1.6500000000000001\">\n          </line>\n        </g>\n      </g>\n    </g>\n    <g transform=\"translate(73.97651758668601 15.2 ) \">\n      <text class=\"plot-title\" y=\"0.0\">\n      net.ropes4k.test.bench.SearchSimpleBenchmark\n      </text>\n    </g>\n    <g transform=\"translate(14.5 208.5 ) rotate(-90.0 ) \">\n      <text class=\"axis-title-y\" y=\"0.0\" text-anchor=\"middle\">\n      scores\n      </text>\n    </g>\n    <g transform=\"translate(381.988258793343 420.5 ) \">\n      <text class=\"axis-title-x\" y=\"0.0\" text-anchor=\"middle\">\n      names\n      </text>\n    </g>\n    <g transform=\"translate(690.0 442.1 ) \">\n      <text class=\"plot-caption\" y=\"0.0\" text-anchor=\"end\">\n      ops/s - higher is better\n      </text>\n    </g>\n    <path fill=\"rgb(0,0,0)\" fill-opacity=\"0.0\" stroke=\"rgb(71,71,71)\" stroke-opacity=\"1.0\" stroke-width=\"0.0\" d=\"M0.0 0.0 L0.0 450.0 L700.0 450.0 L700.0 0.0 Z\">\n    </path>\n  </g>\n  <g id=\"dwL3I6n\">\n  </g>\n</svg>\n        <script>document.getElementById(\"4367753f-5b0c-495f-868d-b6ec366fbaef\").style.display = \"none\";</script>",
      "application/plot+json": {
       "output_type": "lets_plot_spec",
       "output": {
        "ggtitle": {
         "text": "net.ropes4k.test.bench.SearchSimpleBenchmark"
        },
        "mapping": {},
        "data": {
         "scoremin": [
          12212.539,
          11436.111,
          12417.865
         ],
         "scoremax": [
          12886.357,
          30910.354,
          27685.85
         ],
         "names": [
          "rope",
          "string",
          "stringbuilder"
         ],
         "scores": [
          12549.448,
          21173.232,
          20051.857
         ]
        },
        "ggsize": {
         "width": 700.0,
         "height": 450.0
        },
        "kind": "plot",
        "scales": [
         {
          "aesthetic": "x",
          "discrete": true
         },
         {
          "aesthetic": "y",
          "limits": [
           null,
           null
          ]
         },
         {
          "aesthetic": "x",
          "discrete": true
         },
         {
          "aesthetic": "y",
          "limits": [
           null,
           null
          ]
         }
        ],
        "layers": [
         {
          "mapping": {
           "x": "names",
           "y": "scores"
          },
          "stat": "identity",
          "size": 0.0,
          "sampling": "none",
          "position": "dodge",
          "geom": "bar"
         },
         {
          "mapping": {
           "x": "names",
           "y": "scores",
           "ymin": "scoremin",
           "ymax": "scoremax"
          },
          "stat": "identity",
          "sampling": "none",
          "position": "dodge",
          "geom": "errorbar"
         }
        ],
        "caption": {
         "text": "ops/s - higher is better"
        }
       },
       "apply_color_scheme": true,
       "swing_enabled": true
      }
     },
     "metadata": {},
     "output_type": "display_data"
    },
    {
     "data": {
      "text/html": "            <iframe src='about:blank' style='border:none !important;' width='700' height='450' srcdoc=\"&lt;html lang=&quot;en&quot;>\n   &lt;head>\n       &lt;style> html, body { margin: 0; overflow: hidden; } &lt;/style>\n       &lt;script type=&quot;text/javascript&quot; data-lets-plot-script=&quot;library&quot; src=&quot;https://cdn.jsdelivr.net/gh/JetBrains/lets-plot@v4.0.1/js-package/distr/lets-plot.min.js&quot;>&lt;/script>\n   &lt;/head>\n   &lt;body>\n          &lt;div id=&quot;Xfnuip&quot;>&lt;/div>\n   &lt;script type=&quot;text/javascript&quot; data-lets-plot-script=&quot;plot&quot;>\n       var plotSpec={\n&quot;ggtitle&quot;:{\n&quot;text&quot;:&quot;net.ropes4k.test.bench.TraversalBenchmark&quot;\n},\n&quot;mapping&quot;:{\n},\n&quot;data&quot;:{\n&quot;scoremin&quot;:[23536.89449986683,27182.438225616526,25907.275551124516,26731.419702262257],\n&quot;scoremax&quot;:[27622.54122442167,27926.467786765716,28840.377921487645,27623.381589431057],\n&quot;names&quot;:[&quot;rope_indexed&quot;,&quot;rope_iterator&quot;,&quot;string&quot;,&quot;stringbuffer&quot;],\n&quot;scores&quot;:[25579.71786214425,27554.45300619112,27373.82673630608,27177.400645846657]\n},\n&quot;ggsize&quot;:{\n&quot;width&quot;:700.0,\n&quot;height&quot;:450.0\n},\n&quot;kind&quot;:&quot;plot&quot;,\n&quot;scales&quot;:[{\n&quot;aesthetic&quot;:&quot;x&quot;,\n&quot;discrete&quot;:true\n},{\n&quot;aesthetic&quot;:&quot;y&quot;,\n&quot;limits&quot;:[null,null]\n},{\n&quot;aesthetic&quot;:&quot;x&quot;,\n&quot;discrete&quot;:true\n},{\n&quot;aesthetic&quot;:&quot;y&quot;,\n&quot;limits&quot;:[null,null]\n}],\n&quot;layers&quot;:[{\n&quot;mapping&quot;:{\n&quot;x&quot;:&quot;names&quot;,\n&quot;y&quot;:&quot;scores&quot;\n},\n&quot;stat&quot;:&quot;identity&quot;,\n&quot;size&quot;:0.0,\n&quot;sampling&quot;:&quot;none&quot;,\n&quot;position&quot;:&quot;dodge&quot;,\n&quot;geom&quot;:&quot;bar&quot;,\n&quot;data&quot;:{\n}\n},{\n&quot;mapping&quot;:{\n&quot;x&quot;:&quot;names&quot;,\n&quot;y&quot;:&quot;scores&quot;,\n&quot;ymin&quot;:&quot;scoremin&quot;,\n&quot;ymax&quot;:&quot;scoremax&quot;\n},\n&quot;stat&quot;:&quot;identity&quot;,\n&quot;sampling&quot;:&quot;none&quot;,\n&quot;position&quot;:&quot;dodge&quot;,\n&quot;geom&quot;:&quot;errorbar&quot;,\n&quot;data&quot;:{\n}\n}],\n&quot;caption&quot;:{\n&quot;text&quot;:&quot;ops/s - higher is better&quot;\n}\n};\n       var plotContainer = document.getElementById(&quot;Xfnuip&quot;);\n       LetsPlot.buildPlotFromProcessedSpecs(plotSpec, -1, -1, plotContainer);\n   &lt;/script>\n   &lt;/body>\n&lt;/html>\"></iframe>            <svg xmlns=\"http://www.w3.org/2000/svg\" xmlns:xlink=\"http://www.w3.org/1999/xlink\" class=\"plt-container\" id=3a10408c-d707-4d65-9939-3130c7054971 width=\"100%\" height=\"100%\" style=\"max-width: 700.0px; max-height: 450.0px;\" viewBox=\"0 0 700.0 450.0\" preserveAspectRatio=\"xMinYMin meet\">\n  <style type=\"text/css\">\n  .plt-container {\n   font-family: Lucida Grande, sans-serif;\n   user-select: none;\n   -webkit-user-select: none;\n   -moz-user-select: none;\n   -ms-user-select: none;\n}\ntext {\n   text-rendering: optimizeLegibility;\n}\n#p0BG0g8 .plot-title {\n   fill: #474747;\n   font-family: Lucida Grande, sans-serif;\n   font-size: 16.0px;\n   font-weight: normal;\n   font-style: normal;   \n}\n#p0BG0g8 .plot-subtitle {\n   fill: #474747;\n   font-family: Lucida Grande, sans-serif;\n   font-size: 15.0px;\n   font-weight: normal;\n   font-style: normal;   \n}\n#p0BG0g8 .plot-caption {\n   fill: #474747;\n   font-family: Lucida Grande, sans-serif;\n   font-size: 13.0px;\n   font-weight: normal;\n   font-style: normal;   \n}\n#p0BG0g8 .legend-title {\n   fill: #474747;\n   font-family: Lucida Grande, sans-serif;\n   font-size: 15.0px;\n   font-weight: normal;\n   font-style: normal;   \n}\n#p0BG0g8 .legend-item {\n   fill: #474747;\n   font-family: Lucida Grande, sans-serif;\n   font-size: 13.0px;\n   font-weight: normal;\n   font-style: normal;   \n}\n#p0BG0g8 .axis-title-x {\n   fill: #474747;\n   font-family: Lucida Grande, sans-serif;\n   font-size: 15.0px;\n   font-weight: normal;\n   font-style: normal;   \n}\n#p0BG0g8 .axis-text-x {\n   fill: #474747;\n   font-family: Lucida Grande, sans-serif;\n   font-size: 13.0px;\n   font-weight: normal;\n   font-style: normal;   \n}\n#dghBrF7 .axis-tooltip-text-x {\n   fill: #ffffff;\n   font-family: Lucida Grande, sans-serif;\n   font-size: 13.0px;\n   font-weight: normal;\n   font-style: normal;   \n}\n#p0BG0g8 .axis-title-y {\n   fill: #474747;\n   font-family: Lucida Grande, sans-serif;\n   font-size: 15.0px;\n   font-weight: normal;\n   font-style: normal;   \n}\n#p0BG0g8 .axis-text-y {\n   fill: #474747;\n   font-family: Lucida Grande, sans-serif;\n   font-size: 13.0px;\n   font-weight: normal;\n   font-style: normal;   \n}\n#dghBrF7 .axis-tooltip-text-y {\n   fill: #ffffff;\n   font-family: Lucida Grande, sans-serif;\n   font-size: 13.0px;\n   font-weight: normal;\n   font-style: normal;   \n}\n#p0BG0g8 .facet-strip-text-x {\n   fill: #474747;\n   font-family: Lucida Grande, sans-serif;\n   font-size: 13.0px;\n   font-weight: normal;\n   font-style: normal;   \n}\n#p0BG0g8 .facet-strip-text-y {\n   fill: #474747;\n   font-family: Lucida Grande, sans-serif;\n   font-size: 13.0px;\n   font-weight: normal;\n   font-style: normal;   \n}\n#dghBrF7 .tooltip-text {\n   fill: #474747;\n   font-family: Lucida Grande, sans-serif;\n   font-size: 13.0px;\n   font-weight: normal;\n   font-style: normal;   \n}\n#dghBrF7 .tooltip-title {\n   fill: #474747;\n   font-family: Lucida Grande, sans-serif;\n   font-size: 13.0px;\n   font-weight: bold;\n   font-style: normal;   \n}\n#dghBrF7 .tooltip-label {\n   fill: #474747;\n   font-family: Lucida Grande, sans-serif;\n   font-size: 13.0px;\n   font-weight: bold;\n   font-style: normal;   \n}\n\n  </style>\n  <g id=\"p0BG0g8\">\n    <path fill-rule=\"evenodd\" fill=\"rgb(255,255,255)\" fill-opacity=\"1.0\" d=\"M0.0 0.0 L0.0 450.0 L700.0 450.0 L700.0 0.0 Z\">\n    </path>\n    <g transform=\"translate(23.0 34.0 ) \">\n      <g transform=\"translate(50.97651758668602 349.0 ) \">\n        <line x1=\"93.11982873689628\" y1=\"-0.0\" x2=\"93.11982873689628\" y2=\"-349.0\" stroke=\"rgb(233,233,233)\" stroke-opacity=\"1.0\" stroke-width=\"1.0\">\n        </line>\n        <line x1=\"236.38110371673673\" y1=\"-0.0\" x2=\"236.38110371673673\" y2=\"-349.0\" stroke=\"rgb(233,233,233)\" stroke-opacity=\"1.0\" stroke-width=\"1.0\">\n        </line>\n        <line x1=\"379.64237869657717\" y1=\"-0.0\" x2=\"379.64237869657717\" y2=\"-349.0\" stroke=\"rgb(233,233,233)\" stroke-opacity=\"1.0\" stroke-width=\"1.0\">\n        </line>\n        <line x1=\"522.9036536764175\" y1=\"-0.0\" x2=\"522.9036536764175\" y2=\"-349.0\" stroke=\"rgb(233,233,233)\" stroke-opacity=\"1.0\" stroke-width=\"1.0\">\n        </line>\n        <g transform=\"translate(93.11982873689628 0.0 ) \">\n          <line stroke-width=\"1.0\" stroke=\"rgb(71,71,71)\" stroke-opacity=\"1.0\" x2=\"0.0\" y2=\"4.0\">\n          </line>\n          <g transform=\"translate(0.0 7.0 ) \">\n            <text class=\"axis-text-x\" text-anchor=\"middle\" dy=\"0.7em\">\n            rope_indexed\n            </text>\n          </g>\n        </g>\n        <g transform=\"translate(236.38110371673673 0.0 ) \">\n          <line stroke-width=\"1.0\" stroke=\"rgb(71,71,71)\" stroke-opacity=\"1.0\" x2=\"0.0\" y2=\"4.0\">\n          </line>\n          <g transform=\"translate(0.0 7.0 ) \">\n            <text class=\"axis-text-x\" text-anchor=\"middle\" dy=\"0.7em\">\n            rope_iterator\n            </text>\n          </g>\n        </g>\n        <g transform=\"translate(379.64237869657717 0.0 ) \">\n          <line stroke-width=\"1.0\" stroke=\"rgb(71,71,71)\" stroke-opacity=\"1.0\" x2=\"0.0\" y2=\"4.0\">\n          </line>\n          <g transform=\"translate(0.0 7.0 ) \">\n            <text class=\"axis-text-x\" text-anchor=\"middle\" dy=\"0.7em\">\n            string\n            </text>\n          </g>\n        </g>\n        <g transform=\"translate(522.9036536764175 0.0 ) \">\n          <line stroke-width=\"1.0\" stroke=\"rgb(71,71,71)\" stroke-opacity=\"1.0\" x2=\"0.0\" y2=\"4.0\">\n          </line>\n          <g transform=\"translate(0.0 7.0 ) \">\n            <text class=\"axis-text-x\" text-anchor=\"middle\" dy=\"0.7em\">\n            stringbuffer\n            </text>\n          </g>\n        </g>\n        <line x1=\"0.0\" y1=\"0.0\" x2=\"616.023482413314\" y2=\"0.0\" stroke-width=\"1.0\" stroke=\"rgb(71,71,71)\" stroke-opacity=\"1.0\">\n        </line>\n      </g>\n      <g transform=\"translate(50.97651758668602 0.0 ) \">\n        <line x1=\"0.0\" y1=\"291.37576336797747\" x2=\"616.023482413314\" y2=\"291.37576336797747\" stroke=\"rgb(233,233,233)\" stroke-opacity=\"1.0\" stroke-width=\"1.0\">\n        </line>\n        <line x1=\"0.0\" y1=\"233.75152673595497\" x2=\"616.023482413314\" y2=\"233.75152673595497\" stroke=\"rgb(233,233,233)\" stroke-opacity=\"1.0\" stroke-width=\"1.0\">\n        </line>\n        <line x1=\"0.0\" y1=\"176.12729010393244\" x2=\"616.023482413314\" y2=\"176.12729010393244\" stroke=\"rgb(233,233,233)\" stroke-opacity=\"1.0\" stroke-width=\"1.0\">\n        </line>\n        <line x1=\"0.0\" y1=\"118.50305347190994\" x2=\"616.023482413314\" y2=\"118.50305347190994\" stroke=\"rgb(233,233,233)\" stroke-opacity=\"1.0\" stroke-width=\"1.0\">\n        </line>\n        <line x1=\"0.0\" y1=\"60.878816839887406\" x2=\"616.023482413314\" y2=\"60.878816839887406\" stroke=\"rgb(233,233,233)\" stroke-opacity=\"1.0\" stroke-width=\"1.0\">\n        </line>\n        <g transform=\"translate(0.0 349.0 ) \">\n          <g transform=\"translate(-3.0 0.0 ) \">\n            <text class=\"axis-text-y\" text-anchor=\"end\" dy=\"0.35em\">\n            0\n            </text>\n          </g>\n        </g>\n        <g transform=\"translate(0.0 291.37576336797747 ) \">\n          <g transform=\"translate(-3.0 0.0 ) \">\n            <text class=\"axis-text-y\" text-anchor=\"end\" dy=\"0.35em\">\n            5,000\n            </text>\n          </g>\n        </g>\n        <g transform=\"translate(0.0 233.75152673595497 ) \">\n          <g transform=\"translate(-3.0 0.0 ) \">\n            <text class=\"axis-text-y\" text-anchor=\"end\" dy=\"0.35em\">\n            10,000\n            </text>\n          </g>\n        </g>\n        <g transform=\"translate(0.0 176.12729010393244 ) \">\n          <g transform=\"translate(-3.0 0.0 ) \">\n            <text class=\"axis-text-y\" text-anchor=\"end\" dy=\"0.35em\">\n            15,000\n            </text>\n          </g>\n        </g>\n        <g transform=\"translate(0.0 118.50305347190994 ) \">\n          <g transform=\"translate(-3.0 0.0 ) \">\n            <text class=\"axis-text-y\" text-anchor=\"end\" dy=\"0.35em\">\n            20,000\n            </text>\n          </g>\n        </g>\n        <g transform=\"translate(0.0 60.878816839887406 ) \">\n          <g transform=\"translate(-3.0 0.0 ) \">\n            <text class=\"axis-text-y\" text-anchor=\"end\" dy=\"0.35em\">\n            25,000\n            </text>\n          </g>\n        </g>\n        <g transform=\"translate(0.0 3.2545802078648762 ) \">\n          <g transform=\"translate(-3.0 0.0 ) \">\n            <text class=\"axis-text-y\" text-anchor=\"end\" dy=\"0.35em\">\n            30,000\n            </text>\n          </g>\n        </g>\n      </g>\n      <g transform=\"translate(50.97651758668602 0.0 ) \" clip-path=\"url(#cnPGdIw)\" clip-bounds-jfx=\"[rect (0.0, 0.0), (616.023482413314, 349.0)]\">\n        <defs>\n          <clipPath id=\"cnPGdIw\">\n            <rect x=\"0.0\" y=\"0.0\" width=\"616.023482413314\" height=\"349.0\">\n            </rect>\n          </clipPath>\n        </defs>\n        <rect x=\"458.4360799354894\" y=\"35.78460682809015\" height=\"313.21539317190985\" width=\"128.93514748185635\" stroke=\"rgb(255,255,255)\" stroke-opacity=\"1.0\" fill=\"rgb(17,142,216)\" fill-opacity=\"1.0\" stroke-width=\"0.0\">\n        </rect>\n        <rect x=\"315.17480495564894\" y=\"33.52082612462277\" height=\"315.4791738753772\" width=\"128.93514748185646\" stroke=\"rgb(255,255,255)\" stroke-opacity=\"1.0\" fill=\"rgb(17,142,216)\" fill-opacity=\"1.0\" stroke-width=\"0.0\">\n        </rect>\n        <rect x=\"171.91352997580853\" y=\"31.439135941059703\" height=\"317.5608640589403\" width=\"128.93514748185643\" stroke=\"rgb(255,255,255)\" stroke-opacity=\"1.0\" fill=\"rgb(17,142,216)\" fill-opacity=\"1.0\" stroke-width=\"0.0\">\n        </rect>\n        <rect x=\"28.65225499596808\" y=\"54.197656986285324\" height=\"294.8023430137147\" width=\"128.9351474818564\" stroke=\"rgb(255,255,255)\" stroke-opacity=\"1.0\" fill=\"rgb(17,142,216)\" fill-opacity=\"1.0\" stroke-width=\"0.0\">\n        </rect>\n      </g>\n      <g transform=\"translate(50.97651758668602 0.0 ) \" clip-path=\"url(#cNcgEEN)\" clip-bounds-jfx=\"[rect (0.0, 0.0), (616.023482413314, 349.0)]\">\n        <defs>\n          <clipPath id=\"cNcgEEN\">\n            <rect x=\"0.0\" y=\"0.0\" width=\"616.023482413314\" height=\"349.0\">\n            </rect>\n          </clipPath>\n        </defs>\n        <g>\n          <line x1=\"60.88604186643218\" y1=\"77.7408843513449\" x2=\"125.35361560736038\" y2=\"77.7408843513449\" stroke=\"rgb(71,71,71)\" stroke-opacity=\"1.0\" fill=\"rgb(17,142,216)\" fill-opacity=\"1.0\" stroke-width=\"1.6500000000000001\">\n          </line>\n          <line x1=\"60.88604186643218\" y1=\"30.654429621225688\" x2=\"125.35361560736038\" y2=\"30.654429621225688\" stroke=\"rgb(71,71,71)\" stroke-opacity=\"1.0\" fill=\"rgb(17,142,216)\" fill-opacity=\"1.0\" stroke-width=\"1.6500000000000001\">\n          </line>\n          <line x1=\"93.11982873689628\" y1=\"77.7408843513449\" x2=\"93.11982873689628\" y2=\"30.654429621225688\" stroke=\"rgb(71,71,71)\" stroke-opacity=\"1.0\" fill=\"rgb(17,142,216)\" fill-opacity=\"1.0\" stroke-width=\"1.6500000000000001\">\n          </line>\n        </g>\n        <g>\n          <line x1=\"204.14731684627262\" y1=\"35.72654949034779\" x2=\"268.6148905872008\" y2=\"35.72654949034779\" stroke=\"rgb(71,71,71)\" stroke-opacity=\"1.0\" fill=\"rgb(17,142,216)\" fill-opacity=\"1.0\" stroke-width=\"1.6500000000000001\">\n          </line>\n          <line x1=\"204.14731684627262\" y1=\"27.15172239177167\" x2=\"268.6148905872008\" y2=\"27.15172239177167\" stroke=\"rgb(71,71,71)\" stroke-opacity=\"1.0\" fill=\"rgb(17,142,216)\" fill-opacity=\"1.0\" stroke-width=\"1.6500000000000001\">\n          </line>\n          <line x1=\"236.38110371673673\" y1=\"35.72654949034779\" x2=\"236.38110371673673\" y2=\"27.15172239177167\" stroke=\"rgb(71,71,71)\" stroke-opacity=\"1.0\" fill=\"rgb(17,142,216)\" fill-opacity=\"1.0\" stroke-width=\"1.6500000000000001\">\n          </line>\n        </g>\n        <g>\n          <line x1=\"347.408591826113\" y1=\"50.42260463019784\" x2=\"411.87616556704126\" y2=\"50.42260463019784\" stroke=\"rgb(71,71,71)\" stroke-opacity=\"1.0\" fill=\"rgb(17,142,216)\" fill-opacity=\"1.0\" stroke-width=\"1.6500000000000001\">\n          </line>\n          <line x1=\"347.408591826113\" y1=\"16.61904761904765\" x2=\"411.87616556704126\" y2=\"16.61904761904765\" stroke=\"rgb(71,71,71)\" stroke-opacity=\"1.0\" fill=\"rgb(17,142,216)\" fill-opacity=\"1.0\" stroke-width=\"1.6500000000000001\">\n          </line>\n          <line x1=\"379.64237869657717\" y1=\"50.42260463019784\" x2=\"379.64237869657717\" y2=\"16.61904761904765\" stroke=\"rgb(71,71,71)\" stroke-opacity=\"1.0\" fill=\"rgb(17,142,216)\" fill-opacity=\"1.0\" stroke-width=\"1.6500000000000001\">\n          </line>\n        </g>\n        <g>\n          <line x1=\"490.6698668059535\" y1=\"40.924469113386124\" x2=\"555.1374405468816\" y2=\"40.924469113386124\" stroke=\"rgb(71,71,71)\" stroke-opacity=\"1.0\" fill=\"rgb(17,142,216)\" fill-opacity=\"1.0\" stroke-width=\"1.6500000000000001\">\n          </line>\n          <line x1=\"490.6698668059535\" y1=\"30.644744542794115\" x2=\"555.1374405468816\" y2=\"30.644744542794115\" stroke=\"rgb(71,71,71)\" stroke-opacity=\"1.0\" fill=\"rgb(17,142,216)\" fill-opacity=\"1.0\" stroke-width=\"1.6500000000000001\">\n          </line>\n          <line x1=\"522.9036536764175\" y1=\"40.924469113386124\" x2=\"522.9036536764175\" y2=\"30.644744542794115\" stroke=\"rgb(71,71,71)\" stroke-opacity=\"1.0\" fill=\"rgb(17,142,216)\" fill-opacity=\"1.0\" stroke-width=\"1.6500000000000001\">\n          </line>\n        </g>\n      </g>\n    </g>\n    <g transform=\"translate(73.97651758668601 15.2 ) \">\n      <text class=\"plot-title\" y=\"0.0\">\n      net.ropes4k.test.bench.TraversalBenchmark\n      </text>\n    </g>\n    <g transform=\"translate(14.5 208.5 ) rotate(-90.0 ) \">\n      <text class=\"axis-title-y\" y=\"0.0\" text-anchor=\"middle\">\n      scores\n      </text>\n    </g>\n    <g transform=\"translate(381.988258793343 420.5 ) \">\n      <text class=\"axis-title-x\" y=\"0.0\" text-anchor=\"middle\">\n      names\n      </text>\n    </g>\n    <g transform=\"translate(690.0 445.34541979213515 ) \">\n      <text class=\"plot-caption\" y=\"0.0\" text-anchor=\"end\">\n      ops/s - higher is better\n      </text>\n    </g>\n    <path fill=\"rgb(0,0,0)\" fill-opacity=\"0.0\" stroke=\"rgb(71,71,71)\" stroke-opacity=\"1.0\" stroke-width=\"0.0\" d=\"M0.0 0.0 L0.0 450.0 L700.0 450.0 L700.0 0.0 Z\">\n    </path>\n  </g>\n  <g id=\"dghBrF7\">\n  </g>\n</svg>\n        <script>document.getElementById(\"3a10408c-d707-4d65-9939-3130c7054971\").style.display = \"none\";</script>",
      "application/plot+json": {
       "output_type": "lets_plot_spec",
       "output": {
        "ggtitle": {
         "text": "net.ropes4k.test.bench.TraversalBenchmark"
        },
        "mapping": {},
        "data": {
         "scoremin": [
          23536.895,
          27182.438,
          25907.275,
          26731.42
         ],
         "scoremax": [
          27622.541,
          27926.469,
          28840.377,
          27623.38
         ],
         "names": [
          "rope_indexed",
          "rope_iterator",
          "string",
          "stringbuffer"
         ],
         "scores": [
          25579.719,
          27554.453,
          27373.826,
          27177.4
         ]
        },
        "ggsize": {
         "width": 700.0,
         "height": 450.0
        },
        "kind": "plot",
        "scales": [
         {
          "aesthetic": "x",
          "discrete": true
         },
         {
          "aesthetic": "y",
          "limits": [
           null,
           null
          ]
         },
         {
          "aesthetic": "x",
          "discrete": true
         },
         {
          "aesthetic": "y",
          "limits": [
           null,
           null
          ]
         }
        ],
        "layers": [
         {
          "mapping": {
           "x": "names",
           "y": "scores"
          },
          "stat": "identity",
          "size": 0.0,
          "sampling": "none",
          "position": "dodge",
          "geom": "bar"
         },
         {
          "mapping": {
           "x": "names",
           "y": "scores",
           "ymin": "scoremin",
           "ymax": "scoremax"
          },
          "stat": "identity",
          "sampling": "none",
          "position": "dodge",
          "geom": "errorbar"
         }
        ],
        "caption": {
         "text": "ops/s - higher is better"
        }
       },
       "apply_color_scheme": true,
       "swing_enabled": true
      }
     },
     "metadata": {},
     "output_type": "display_data"
    }
   ],
   "source": [
    "for (plot in plots) {\n",
    "    DISPLAY(plot)\n",
    "}"
   ],
   "metadata": {
    "collapsed": false,
    "ExecuteTime": {
     "end_time": "2024-04-28T12:54:44.161859010Z",
     "start_time": "2024-04-28T12:54:43.955805898Z"
    }
   },
   "execution_count": 36
  },
  {
   "cell_type": "code",
   "outputs": [],
   "source": [
    "groups.keys.zip(plots).map {\n",
    "    it.second.save(\"../graphs/${it.first}.png\")\n",
    "}\n",
    "\n",
    "File(\"graphs/links.md\").printWriter().use {writer ->\n",
    "    groups.keys.forEach {\n",
    "        writer.println(\"### ${it}\")\n",
    "        writer.println(\"![${it}](graphs/${it}.png)\")\n",
    "        writer.println()\n",
    "        writer.println()\n",
    "    }\n",
    "}"
   ],
   "metadata": {
    "collapsed": false,
    "ExecuteTime": {
     "end_time": "2024-04-28T13:07:33.714759829Z",
     "start_time": "2024-04-28T13:07:33.132635171Z"
    }
   },
   "execution_count": 43
  }
 ],
 "metadata": {
  "kernelspec": {
   "display_name": "Kotlin",
   "language": "kotlin",
   "name": "kotlin"
  },
  "language_info": {
   "name": "kotlin",
   "version": "1.9.0",
   "mimetype": "text/x-kotlin",
   "file_extension": ".kt",
   "pygments_lexer": "kotlin",
   "codemirror_mode": "text/x-kotlin",
   "nbconvert_exporter": ""
  }
 },
 "nbformat": 4,
 "nbformat_minor": 0
}
