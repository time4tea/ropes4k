{
 "cells": [
  {
   "cell_type": "code",
   "execution_count": 1,
   "metadata": {
    "collapsed": true,
    "ExecuteTime": {
     "end_time": "2024-04-27T20:54:32.374041303Z",
     "start_time": "2024-04-27T20:53:21.881342149Z"
    }
   },
   "outputs": [],
   "source": [
    "%use kandy"
   ]
  },
  {
   "cell_type": "code",
   "outputs": [],
   "source": [
    "USE {\n",
    "    dependencies {\n",
    "        implementation(\"com.fasterxml.jackson.core:jackson-databind:2.17.0\")\n",
    "        implementation(\"com.fasterxml.jackson.module:jackson-module-kotlin:2.17.0\")\n",
    "    }\n",
    "}"
   ],
   "metadata": {
    "collapsed": false,
    "ExecuteTime": {
     "end_time": "2024-04-27T21:10:52.282874871Z",
     "start_time": "2024-04-27T21:10:43.966344138Z"
    }
   },
   "execution_count": 4
  },
  {
   "cell_type": "code",
   "outputs": [],
   "source": [
    "import com.fasterxml.jackson.core.JsonGenerator\n",
    "import com.fasterxml.jackson.databind.DeserializationFeature\n",
    "import com.fasterxml.jackson.databind.ObjectMapper\n",
    "import com.fasterxml.jackson.module.kotlin.KotlinModule\n",
    "import com.fasterxml.jackson.module.kotlin.readValue\n",
    "import java.io.File\n",
    "\n",
    "data class Metric(val score: Number, val scoreError: Number, val scoreConfidence: List<Number>, val scoreUnit: String)\n",
    "data class BenchmarkResult(val benchmark:String, val primaryMetric: Metric) {\n",
    "    fun group() = benchmark.substring(0, benchmark.lastIndexOf(\".\"))\n",
    "    fun name() = benchmark.substring(benchmark.lastIndexOf(\".\") + 1)\n",
    "}\n",
    "\n",
    "val module = KotlinModule.Builder().build()\n",
    "val mapper = ObjectMapper()\n",
    "    .registerModules(module)\n",
    "    .configure(DeserializationFeature.FAIL_ON_UNKNOWN_PROPERTIES, false)\n",
    "      \n",
    "\n",
    "val text = File(\"build/reports/benchmarks/main/2024-04-27T21.37.35.4313522/test.json\").readText()\n"
   ],
   "metadata": {
    "collapsed": false,
    "ExecuteTime": {
     "end_time": "2024-04-27T21:47:43.729250351Z",
     "start_time": "2024-04-27T21:47:43.616841217Z"
    }
   },
   "execution_count": 57
  },
  {
   "cell_type": "code",
   "outputs": [],
   "source": [
    "val t = mapper.readValue<List<BenchmarkResult>>(text)"
   ],
   "metadata": {
    "collapsed": false,
    "ExecuteTime": {
     "end_time": "2024-04-27T21:36:24.809908054Z",
     "start_time": "2024-04-27T21:36:24.756031626Z"
    }
   },
   "execution_count": 30
  },
  {
   "cell_type": "code",
   "outputs": [],
   "source": [
    "val groups = t.groupBy { it.group() }"
   ],
   "metadata": {
    "collapsed": false,
    "ExecuteTime": {
     "end_time": "2024-04-27T21:36:27.052081021Z",
     "start_time": "2024-04-27T21:36:27.005797204Z"
    }
   },
   "execution_count": 31
  },
  {
   "cell_type": "code",
   "outputs": [],
   "source": [
    "//groups.iterator().next()"
   ],
   "metadata": {
    "collapsed": false,
    "ExecuteTime": {
     "end_time": "2024-04-27T21:47:37.964776202Z",
     "start_time": "2024-04-27T21:47:37.919616262Z"
    }
   },
   "execution_count": 55
  },
  {
   "cell_type": "code",
   "outputs": [],
   "source": [
    "val plots = groups.map { result ->\n",
    "    val data = mapOf(\n",
    "        \"names\" to result.value.map { it.name() },\n",
    "        \"scores\" to result.value.map { it.primaryMetric.score }\n",
    "    )\n",
    "\n",
    "    plot(data) {\n",
    "        x(\"names\")\n",
    "        y(\"scores\")\n",
    "\n",
    "        bars {\n",
    "            borderLine.width = 0.0 \n",
    "        }\n",
    "\n",
    "        layout { \n",
    "            title = result.key\n",
    "            caption = \"ops/s - higher is better\"\n",
    "            size = 700 to 450\n",
    "        }\n",
    "    }\n",
    "}\n",
    "\n"
   ],
   "metadata": {
    "collapsed": false,
    "ExecuteTime": {
     "end_time": "2024-04-27T21:47:40.374072742Z",
     "start_time": "2024-04-27T21:47:40.237918746Z"
    }
   },
   "execution_count": 56
  },
  {
   "cell_type": "code",
   "outputs": [
    {
     "data": {
      "text/html": "            <iframe src='about:blank' style='border:none !important;' width='700' height='450' srcdoc=\"&lt;html lang=&quot;en&quot;>\n   &lt;head>\n       &lt;style> html, body { margin: 0; overflow: hidden; } &lt;/style>\n       &lt;script type=&quot;text/javascript&quot; data-lets-plot-script=&quot;library&quot; src=&quot;https://cdn.jsdelivr.net/gh/JetBrains/lets-plot@v4.0.1/js-package/distr/lets-plot.min.js&quot;>&lt;/script>\n   &lt;/head>\n   &lt;body>\n          &lt;div id=&quot;8YbNwZ&quot;>&lt;/div>\n   &lt;script type=&quot;text/javascript&quot; data-lets-plot-script=&quot;plot&quot;>\n       var plotSpec={\n&quot;ggtitle&quot;:{\n&quot;text&quot;:&quot;net.ropes4k.test.bench.CreationBenchmark&quot;\n},\n&quot;mapping&quot;:{\n},\n&quot;data&quot;:{\n&quot;names&quot;:[&quot;rope_chararray&quot;,&quot;rope_charsequence&quot;,&quot;string&quot;,&quot;stringbuilder&quot;],\n&quot;scores&quot;:[47180.01495673231,2.809161199264085E8,74178.00895264509,93665.05401914954]\n},\n&quot;ggsize&quot;:{\n&quot;width&quot;:700.0,\n&quot;height&quot;:450.0\n},\n&quot;kind&quot;:&quot;plot&quot;,\n&quot;scales&quot;:[{\n&quot;aesthetic&quot;:&quot;x&quot;,\n&quot;discrete&quot;:true\n},{\n&quot;aesthetic&quot;:&quot;y&quot;,\n&quot;limits&quot;:[null,null]\n}],\n&quot;layers&quot;:[{\n&quot;mapping&quot;:{\n&quot;x&quot;:&quot;names&quot;,\n&quot;y&quot;:&quot;scores&quot;\n},\n&quot;stat&quot;:&quot;identity&quot;,\n&quot;size&quot;:0.0,\n&quot;sampling&quot;:&quot;none&quot;,\n&quot;position&quot;:&quot;dodge&quot;,\n&quot;geom&quot;:&quot;bar&quot;,\n&quot;data&quot;:{\n}\n}],\n&quot;caption&quot;:{\n&quot;text&quot;:&quot;ops/s - higher is better&quot;\n}\n};\n       var plotContainer = document.getElementById(&quot;8YbNwZ&quot;);\n       LetsPlot.buildPlotFromProcessedSpecs(plotSpec, -1, -1, plotContainer);\n   &lt;/script>\n   &lt;/body>\n&lt;/html>\"></iframe>            <svg xmlns=\"http://www.w3.org/2000/svg\" xmlns:xlink=\"http://www.w3.org/1999/xlink\" class=\"plt-container\" id=63e4cd87-5265-48e4-99bc-9de71b5d9a57 width=\"100%\" height=\"100%\" style=\"max-width: 700.0px; max-height: 450.0px;\" viewBox=\"0 0 700.0 450.0\" preserveAspectRatio=\"xMinYMin meet\">\n  <style type=\"text/css\">\n  .plt-container {\n   font-family: Lucida Grande, sans-serif;\n   user-select: none;\n   -webkit-user-select: none;\n   -moz-user-select: none;\n   -ms-user-select: none;\n}\ntext {\n   text-rendering: optimizeLegibility;\n}\n#pOdcVqL .plot-title {\n   fill: #474747;\n   font-family: Lucida Grande, sans-serif;\n   font-size: 16.0px;\n   font-weight: normal;\n   font-style: normal;   \n}\n#pOdcVqL .plot-subtitle {\n   fill: #474747;\n   font-family: Lucida Grande, sans-serif;\n   font-size: 15.0px;\n   font-weight: normal;\n   font-style: normal;   \n}\n#pOdcVqL .plot-caption {\n   fill: #474747;\n   font-family: Lucida Grande, sans-serif;\n   font-size: 13.0px;\n   font-weight: normal;\n   font-style: normal;   \n}\n#pOdcVqL .legend-title {\n   fill: #474747;\n   font-family: Lucida Grande, sans-serif;\n   font-size: 15.0px;\n   font-weight: normal;\n   font-style: normal;   \n}\n#pOdcVqL .legend-item {\n   fill: #474747;\n   font-family: Lucida Grande, sans-serif;\n   font-size: 13.0px;\n   font-weight: normal;\n   font-style: normal;   \n}\n#pOdcVqL .axis-title-x {\n   fill: #474747;\n   font-family: Lucida Grande, sans-serif;\n   font-size: 15.0px;\n   font-weight: normal;\n   font-style: normal;   \n}\n#pOdcVqL .axis-text-x {\n   fill: #474747;\n   font-family: Lucida Grande, sans-serif;\n   font-size: 13.0px;\n   font-weight: normal;\n   font-style: normal;   \n}\n#dcb31Rl .axis-tooltip-text-x {\n   fill: #ffffff;\n   font-family: Lucida Grande, sans-serif;\n   font-size: 13.0px;\n   font-weight: normal;\n   font-style: normal;   \n}\n#pOdcVqL .axis-title-y {\n   fill: #474747;\n   font-family: Lucida Grande, sans-serif;\n   font-size: 15.0px;\n   font-weight: normal;\n   font-style: normal;   \n}\n#pOdcVqL .axis-text-y {\n   fill: #474747;\n   font-family: Lucida Grande, sans-serif;\n   font-size: 13.0px;\n   font-weight: normal;\n   font-style: normal;   \n}\n#dcb31Rl .axis-tooltip-text-y {\n   fill: #ffffff;\n   font-family: Lucida Grande, sans-serif;\n   font-size: 13.0px;\n   font-weight: normal;\n   font-style: normal;   \n}\n#pOdcVqL .facet-strip-text-x {\n   fill: #474747;\n   font-family: Lucida Grande, sans-serif;\n   font-size: 13.0px;\n   font-weight: normal;\n   font-style: normal;   \n}\n#pOdcVqL .facet-strip-text-y {\n   fill: #474747;\n   font-family: Lucida Grande, sans-serif;\n   font-size: 13.0px;\n   font-weight: normal;\n   font-style: normal;   \n}\n#dcb31Rl .tooltip-text {\n   fill: #474747;\n   font-family: Lucida Grande, sans-serif;\n   font-size: 13.0px;\n   font-weight: normal;\n   font-style: normal;   \n}\n#dcb31Rl .tooltip-title {\n   fill: #474747;\n   font-family: Lucida Grande, sans-serif;\n   font-size: 13.0px;\n   font-weight: bold;\n   font-style: normal;   \n}\n#dcb31Rl .tooltip-label {\n   fill: #474747;\n   font-family: Lucida Grande, sans-serif;\n   font-size: 13.0px;\n   font-weight: bold;\n   font-style: normal;   \n}\n\n  </style>\n  <g id=\"pOdcVqL\">\n    <path fill-rule=\"evenodd\" fill=\"rgb(255,255,255)\" fill-opacity=\"1.0\" d=\"M0.0 0.0 L0.0 450.0 L700.0 450.0 L700.0 0.0 Z\">\n    </path>\n    <g transform=\"translate(23.0 34.0 ) \">\n      <g transform=\"translate(41.307295843643615 349.0 ) \">\n        <line x1=\"94.5814552794492\" y1=\"-0.0\" x2=\"94.5814552794492\" y2=\"-349.0\" stroke=\"rgb(233,233,233)\" stroke-opacity=\"1.0\" stroke-width=\"1.0\">\n        </line>\n        <line x1=\"240.0913864786018\" y1=\"-0.0\" x2=\"240.0913864786018\" y2=\"-349.0\" stroke=\"rgb(233,233,233)\" stroke-opacity=\"1.0\" stroke-width=\"1.0\">\n        </line>\n        <line x1=\"385.6013176777544\" y1=\"-0.0\" x2=\"385.6013176777544\" y2=\"-349.0\" stroke=\"rgb(233,233,233)\" stroke-opacity=\"1.0\" stroke-width=\"1.0\">\n        </line>\n        <line x1=\"531.1112488769071\" y1=\"-0.0\" x2=\"531.1112488769071\" y2=\"-349.0\" stroke=\"rgb(233,233,233)\" stroke-opacity=\"1.0\" stroke-width=\"1.0\">\n        </line>\n        <g transform=\"translate(94.5814552794492 0.0 ) \">\n          <line stroke-width=\"1.0\" stroke=\"rgb(71,71,71)\" stroke-opacity=\"1.0\" x2=\"0.0\" y2=\"4.0\">\n          </line>\n          <g transform=\"translate(0.0 7.0 ) \">\n            <text class=\"axis-text-x\" text-anchor=\"middle\" dy=\"0.7em\">\n            rope_chararray\n            </text>\n          </g>\n        </g>\n        <g transform=\"translate(240.0913864786018 0.0 ) \">\n          <line stroke-width=\"1.0\" stroke=\"rgb(71,71,71)\" stroke-opacity=\"1.0\" x2=\"0.0\" y2=\"4.0\">\n          </line>\n          <g transform=\"translate(0.0 7.0 ) \">\n            <text class=\"axis-text-x\" text-anchor=\"middle\" dy=\"0.7em\">\n            rope_charsequence\n            </text>\n          </g>\n        </g>\n        <g transform=\"translate(385.6013176777544 0.0 ) \">\n          <line stroke-width=\"1.0\" stroke=\"rgb(71,71,71)\" stroke-opacity=\"1.0\" x2=\"0.0\" y2=\"4.0\">\n          </line>\n          <g transform=\"translate(0.0 7.0 ) \">\n            <text class=\"axis-text-x\" text-anchor=\"middle\" dy=\"0.7em\">\n            string\n            </text>\n          </g>\n        </g>\n        <g transform=\"translate(531.1112488769071 0.0 ) \">\n          <line stroke-width=\"1.0\" stroke=\"rgb(71,71,71)\" stroke-opacity=\"1.0\" x2=\"0.0\" y2=\"4.0\">\n          </line>\n          <g transform=\"translate(0.0 7.0 ) \">\n            <text class=\"axis-text-x\" text-anchor=\"middle\" dy=\"0.7em\">\n            stringbuilder\n            </text>\n          </g>\n        </g>\n        <line x1=\"0.0\" y1=\"0.0\" x2=\"625.6927041563564\" y2=\"0.0\" stroke-width=\"1.0\" stroke=\"rgb(71,71,71)\" stroke-opacity=\"1.0\">\n        </line>\n      </g>\n      <g transform=\"translate(41.307295843643615 0.0 ) \">\n        <line x1=\"0.0\" y1=\"289.8398221383618\" x2=\"625.6927041563564\" y2=\"289.8398221383618\" stroke=\"rgb(233,233,233)\" stroke-opacity=\"1.0\" stroke-width=\"1.0\">\n        </line>\n        <line x1=\"0.0\" y1=\"230.6796442767236\" x2=\"625.6927041563564\" y2=\"230.6796442767236\" stroke=\"rgb(233,233,233)\" stroke-opacity=\"1.0\" stroke-width=\"1.0\">\n        </line>\n        <line x1=\"0.0\" y1=\"171.51946641508536\" x2=\"625.6927041563564\" y2=\"171.51946641508536\" stroke=\"rgb(233,233,233)\" stroke-opacity=\"1.0\" stroke-width=\"1.0\">\n        </line>\n        <line x1=\"0.0\" y1=\"112.35928855344716\" x2=\"625.6927041563564\" y2=\"112.35928855344716\" stroke=\"rgb(233,233,233)\" stroke-opacity=\"1.0\" stroke-width=\"1.0\">\n        </line>\n        <line x1=\"0.0\" y1=\"53.199110691808926\" x2=\"625.6927041563564\" y2=\"53.199110691808926\" stroke=\"rgb(233,233,233)\" stroke-opacity=\"1.0\" stroke-width=\"1.0\">\n        </line>\n        <g transform=\"translate(0.0 349.0 ) \">\n          <g transform=\"translate(-3.0 0.0 ) \">\n            <text class=\"axis-text-y\" text-anchor=\"end\" dy=\"0.35em\">\n            0\n            </text>\n          </g>\n        </g>\n        <g transform=\"translate(0.0 289.8398221383618 ) \">\n          <g transform=\"translate(-3.0 0.0 ) \">\n            <text class=\"axis-text-y\" text-anchor=\"end\" dy=\"0.35em\">\n            50M\n            </text>\n          </g>\n        </g>\n        <g transform=\"translate(0.0 230.6796442767236 ) \">\n          <g transform=\"translate(-3.0 0.0 ) \">\n            <text class=\"axis-text-y\" text-anchor=\"end\" dy=\"0.35em\">\n            100M\n            </text>\n          </g>\n        </g>\n        <g transform=\"translate(0.0 171.51946641508536 ) \">\n          <g transform=\"translate(-3.0 0.0 ) \">\n            <text class=\"axis-text-y\" text-anchor=\"end\" dy=\"0.35em\">\n            150M\n            </text>\n          </g>\n        </g>\n        <g transform=\"translate(0.0 112.35928855344716 ) \">\n          <g transform=\"translate(-3.0 0.0 ) \">\n            <text class=\"axis-text-y\" text-anchor=\"end\" dy=\"0.35em\">\n            200M\n            </text>\n          </g>\n        </g>\n        <g transform=\"translate(0.0 53.199110691808926 ) \">\n          <g transform=\"translate(-3.0 0.0 ) \">\n            <text class=\"axis-text-y\" text-anchor=\"end\" dy=\"0.35em\">\n            250M\n            </text>\n          </g>\n        </g>\n      </g>\n      <g transform=\"translate(41.307295843643615 0.0 ) \" clip-path=\"url(#cNBr8MY)\" clip-bounds-jfx=\"[rect (0.0, 0.0), (625.6927041563564, 349.0)]\">\n        <defs>\n          <clipPath id=\"cNBr8MY\">\n            <rect x=\"0.0\" y=\"0.0\" width=\"625.6927041563564\" height=\"349.0\">\n            </rect>\n          </clipPath>\n        </defs>\n        <rect x=\"465.6317798372883\" y=\"348.88917517489614\" height=\"0.11082482510386171\" width=\"130.95893807923738\" stroke=\"rgb(255,255,255)\" stroke-opacity=\"1.0\" fill=\"rgb(17,142,216)\" fill-opacity=\"1.0\" stroke-width=\"0.0\">\n        </rect>\n        <rect x=\"320.12184863813576\" y=\"348.9122323159388\" height=\"0.08776768406119118\" width=\"130.95893807923738\" stroke=\"rgb(255,255,255)\" stroke-opacity=\"1.0\" fill=\"rgb(17,142,216)\" fill-opacity=\"1.0\" stroke-width=\"0.0\">\n        </rect>\n        <rect x=\"174.61191743898314\" y=\"16.619047619047592\" height=\"332.3809523809524\" width=\"130.95893807923738\" stroke=\"rgb(255,255,255)\" stroke-opacity=\"1.0\" fill=\"rgb(17,142,216)\" fill-opacity=\"1.0\" stroke-width=\"0.0\">\n        </rect>\n        <rect x=\"29.101986239830524\" y=\"348.9441764384729\" height=\"0.05582356152712009\" width=\"130.95893807923736\" stroke=\"rgb(255,255,255)\" stroke-opacity=\"1.0\" fill=\"rgb(17,142,216)\" fill-opacity=\"1.0\" stroke-width=\"0.0\">\n        </rect>\n      </g>\n    </g>\n    <g transform=\"translate(64.30729584364362 15.2 ) \">\n      <text class=\"plot-title\" y=\"0.0\">\n      net.ropes4k.test.bench.CreationBenchmark\n      </text>\n    </g>\n    <g transform=\"translate(14.5 208.5 ) rotate(-90.0 ) \">\n      <text class=\"axis-title-y\" y=\"0.0\" text-anchor=\"middle\">\n      scores\n      </text>\n    </g>\n    <g transform=\"translate(377.1536479218218 420.5 ) \">\n      <text class=\"axis-title-x\" y=\"0.0\" text-anchor=\"middle\">\n      names\n      </text>\n    </g>\n    <g transform=\"translate(690.0 442.1 ) \">\n      <text class=\"plot-caption\" y=\"0.0\" text-anchor=\"end\">\n      ops/s - higher is better\n      </text>\n    </g>\n    <path fill=\"rgb(0,0,0)\" fill-opacity=\"0.0\" stroke=\"rgb(71,71,71)\" stroke-opacity=\"1.0\" stroke-width=\"0.0\" d=\"M0.0 0.0 L0.0 450.0 L700.0 450.0 L700.0 0.0 Z\">\n    </path>\n  </g>\n  <g id=\"dcb31Rl\">\n  </g>\n</svg>\n        <script>document.getElementById(\"63e4cd87-5265-48e4-99bc-9de71b5d9a57\").style.display = \"none\";</script>",
      "application/plot+json": {
       "output_type": "lets_plot_spec",
       "output": {
        "ggtitle": {
         "text": "net.ropes4k.test.bench.CreationBenchmark"
        },
        "mapping": {},
        "data": {
         "names": [
          "rope_chararray",
          "rope_charsequence",
          "string",
          "stringbuilder"
         ],
         "scores": [
          47180.016,
          2.80916128E8,
          74178.01,
          93665.055
         ]
        },
        "ggsize": {
         "width": 700.0,
         "height": 450.0
        },
        "kind": "plot",
        "scales": [
         {
          "aesthetic": "x",
          "discrete": true
         },
         {
          "aesthetic": "y",
          "limits": [
           null,
           null
          ]
         }
        ],
        "layers": [
         {
          "mapping": {
           "x": "names",
           "y": "scores"
          },
          "stat": "identity",
          "size": 0.0,
          "sampling": "none",
          "position": "dodge",
          "geom": "bar"
         }
        ],
        "caption": {
         "text": "ops/s - higher is better"
        }
       },
       "apply_color_scheme": true,
       "swing_enabled": true
      }
     },
     "execution_count": 53,
     "metadata": {},
     "output_type": "execute_result"
    }
   ],
   "source": [
    "plots[1]"
   ],
   "metadata": {
    "collapsed": false,
    "ExecuteTime": {
     "end_time": "2024-04-27T21:47:12.309439499Z",
     "start_time": "2024-04-27T21:47:12.276553446Z"
    }
   },
   "execution_count": 53
  }
 ],
 "metadata": {
  "kernelspec": {
   "display_name": "Kotlin",
   "language": "kotlin",
   "name": "kotlin"
  },
  "language_info": {
   "name": "kotlin",
   "version": "1.9.0",
   "mimetype": "text/x-kotlin",
   "file_extension": ".kt",
   "pygments_lexer": "kotlin",
   "codemirror_mode": "text/x-kotlin",
   "nbconvert_exporter": ""
  }
 },
 "nbformat": 4,
 "nbformat_minor": 0
}
